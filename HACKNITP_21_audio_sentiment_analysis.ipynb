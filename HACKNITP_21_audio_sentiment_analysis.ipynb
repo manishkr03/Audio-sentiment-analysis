{
  "nbformat": 4,
  "nbformat_minor": 0,
  "metadata": {
    "colab": {
      "name": "HACKNITP-21_audio_sentiment_analysis.ipynb",
      "provenance": [],
      "collapsed_sections": []
    },
    "kernelspec": {
      "name": "python3",
      "display_name": "Python 3"
    }
  },
  "cells": [
    {
      "cell_type": "code",
      "metadata": {
        "colab": {
          "base_uri": "https://localhost:8080/"
        },
        "id": "cnvRuDsJUHXQ",
        "outputId": "4d94db8e-adfa-4818-af84-e75ef57bb79a"
      },
      "source": [
        "from google.colab import drive\r\n",
        "drive.mount('/content/drive/')"
      ],
      "execution_count": 3,
      "outputs": [
        {
          "output_type": "stream",
          "text": [
            "Mounted at /content/drive/\n"
          ],
          "name": "stdout"
        }
      ]
    },
    {
      "cell_type": "code",
      "metadata": {
        "id": "0rPgXHUgVAmA"
      },
      "source": [
        "#!ls /content/drive/MyDrive"
      ],
      "execution_count": null,
      "outputs": []
    },
    {
      "cell_type": "code",
      "metadata": {
        "id": "1ILDfoYmUa_5"
      },
      "source": [
        "#!unzip \"/content/drive/MyDrive/hacknitp_winter_'21_ai_challenge-dataset.zip\" -d \"/content/drive/MyDrive/Colab Notebooks/code_challenge/HackNITP-21_audio_sentiment_analysis\""
      ],
      "execution_count": null,
      "outputs": []
    },
    {
      "cell_type": "code",
      "metadata": {
        "colab": {
          "base_uri": "https://localhost:8080/"
        },
        "id": "ZNmehMz4fO3o",
        "outputId": "7ab5f959-ff0b-4bb8-e919-86bc4e6a3e5d"
      },
      "source": [
        "!pip3 install SpeechRecognition"
      ],
      "execution_count": 10,
      "outputs": [
        {
          "output_type": "stream",
          "text": [
            "Collecting SpeechRecognition\n",
            "\u001b[?25l  Downloading https://files.pythonhosted.org/packages/26/e1/7f5678cd94ec1234269d23756dbdaa4c8cfaed973412f88ae8adf7893a50/SpeechRecognition-3.8.1-py2.py3-none-any.whl (32.8MB)\n",
            "\u001b[K     |████████████████████████████████| 32.8MB 128kB/s \n",
            "\u001b[?25hInstalling collected packages: SpeechRecognition\n",
            "Successfully installed SpeechRecognition-3.8.1\n"
          ],
          "name": "stdout"
        }
      ]
    },
    {
      "cell_type": "code",
      "metadata": {
        "id": "ihwdnXxdUa3p"
      },
      "source": [
        "import speech_recognition as sr\r\n",
        "import glob\r\n",
        "import pandas as pd\r\n",
        "import numpy as np"
      ],
      "execution_count": 16,
      "outputs": []
    },
    {
      "cell_type": "code",
      "metadata": {
        "id": "ZZpBugMHUaz1"
      },
      "source": [
        "def audio(file_name):\r\n",
        "    r=sr.Recognizer()\r\n",
        "    with sr.AudioFile(file_name) as src:\r\n",
        "        audio_text= r.record(src)\r\n",
        "    return r.recognize_google(audio_data=audio_text, language='en-US')\r\n",
        "\r\n",
        "\r\n",
        "def audio_to_text(directory_name):\r\n",
        "    final_text=[]\r\n",
        "    for fname in glob.glob(directory_name+'/*.wav'):\r\n",
        "      try:\r\n",
        "        final_text.append(audio(fname))\r\n",
        "        print(\"executed {}..\".format(fname))\r\n",
        "      except:\r\n",
        "        print('Error in converting to text{}...'.format(fname))\r\n",
        "        final_text.append('')\r\n",
        "    return final_text"
      ],
      "execution_count": 12,
      "outputs": []
    },
    {
      "cell_type": "code",
      "metadata": {
        "colab": {
          "base_uri": "https://localhost:8080/"
        },
        "id": "pDEkB3Iue8b5",
        "outputId": "e0387314-6437-40fa-8c94-3c9ed9a8abe8"
      },
      "source": [
        "dir_name= \"/content/drive/MyDrive/Colab Notebooks/code_challenge/HackNITP-21_audio_sentiment_analysis/TRAIN\"\r\n",
        "text_list = audio_to_text(dir_name)"
      ],
      "execution_count": 13,
      "outputs": [
        {
          "output_type": "stream",
          "text": [
            "executed /content/drive/MyDrive/Colab Notebooks/code_challenge/HackNITP-21_audio_sentiment_analysis/TRAIN/346.wav..\n",
            "executed /content/drive/MyDrive/Colab Notebooks/code_challenge/HackNITP-21_audio_sentiment_analysis/TRAIN/163.wav..\n",
            "executed /content/drive/MyDrive/Colab Notebooks/code_challenge/HackNITP-21_audio_sentiment_analysis/TRAIN/288.wav..\n",
            "executed /content/drive/MyDrive/Colab Notebooks/code_challenge/HackNITP-21_audio_sentiment_analysis/TRAIN/279.wav..\n",
            "executed /content/drive/MyDrive/Colab Notebooks/code_challenge/HackNITP-21_audio_sentiment_analysis/TRAIN/244.wav..\n",
            "executed /content/drive/MyDrive/Colab Notebooks/code_challenge/HackNITP-21_audio_sentiment_analysis/TRAIN/273.wav..\n",
            "Error in converting to text/content/drive/MyDrive/Colab Notebooks/code_challenge/HackNITP-21_audio_sentiment_analysis/TRAIN/5.wav...\n",
            "Error in converting to text/content/drive/MyDrive/Colab Notebooks/code_challenge/HackNITP-21_audio_sentiment_analysis/TRAIN/353.wav...\n",
            "executed /content/drive/MyDrive/Colab Notebooks/code_challenge/HackNITP-21_audio_sentiment_analysis/TRAIN/145.wav..\n",
            "executed /content/drive/MyDrive/Colab Notebooks/code_challenge/HackNITP-21_audio_sentiment_analysis/TRAIN/109.wav..\n",
            "executed /content/drive/MyDrive/Colab Notebooks/code_challenge/HackNITP-21_audio_sentiment_analysis/TRAIN/211.wav..\n",
            "Error in converting to text/content/drive/MyDrive/Colab Notebooks/code_challenge/HackNITP-21_audio_sentiment_analysis/TRAIN/38.wav...\n",
            "executed /content/drive/MyDrive/Colab Notebooks/code_challenge/HackNITP-21_audio_sentiment_analysis/TRAIN/214.wav..\n",
            "executed /content/drive/MyDrive/Colab Notebooks/code_challenge/HackNITP-21_audio_sentiment_analysis/TRAIN/55.wav..\n",
            "Error in converting to text/content/drive/MyDrive/Colab Notebooks/code_challenge/HackNITP-21_audio_sentiment_analysis/TRAIN/305.wav...\n",
            "executed /content/drive/MyDrive/Colab Notebooks/code_challenge/HackNITP-21_audio_sentiment_analysis/TRAIN/58.wav..\n",
            "executed /content/drive/MyDrive/Colab Notebooks/code_challenge/HackNITP-21_audio_sentiment_analysis/TRAIN/241.wav..\n",
            "Error in converting to text/content/drive/MyDrive/Colab Notebooks/code_challenge/HackNITP-21_audio_sentiment_analysis/TRAIN/47.wav...\n",
            "executed /content/drive/MyDrive/Colab Notebooks/code_challenge/HackNITP-21_audio_sentiment_analysis/TRAIN/166.wav..\n",
            "Error in converting to text/content/drive/MyDrive/Colab Notebooks/code_challenge/HackNITP-21_audio_sentiment_analysis/TRAIN/140.wav...\n",
            "executed /content/drive/MyDrive/Colab Notebooks/code_challenge/HackNITP-21_audio_sentiment_analysis/TRAIN/342.wav..\n",
            "executed /content/drive/MyDrive/Colab Notebooks/code_challenge/HackNITP-21_audio_sentiment_analysis/TRAIN/196.wav..\n",
            "Error in converting to text/content/drive/MyDrive/Colab Notebooks/code_challenge/HackNITP-21_audio_sentiment_analysis/TRAIN/122.wav...\n",
            "Error in converting to text/content/drive/MyDrive/Colab Notebooks/code_challenge/HackNITP-21_audio_sentiment_analysis/TRAIN/344.wav...\n",
            "executed /content/drive/MyDrive/Colab Notebooks/code_challenge/HackNITP-21_audio_sentiment_analysis/TRAIN/190.wav..\n",
            "executed /content/drive/MyDrive/Colab Notebooks/code_challenge/HackNITP-21_audio_sentiment_analysis/TRAIN/181.wav..\n",
            "executed /content/drive/MyDrive/Colab Notebooks/code_challenge/HackNITP-21_audio_sentiment_analysis/TRAIN/129.wav..\n",
            "executed /content/drive/MyDrive/Colab Notebooks/code_challenge/HackNITP-21_audio_sentiment_analysis/TRAIN/333.wav..\n",
            "Error in converting to text/content/drive/MyDrive/Colab Notebooks/code_challenge/HackNITP-21_audio_sentiment_analysis/TRAIN/230.wav...\n",
            "executed /content/drive/MyDrive/Colab Notebooks/code_challenge/HackNITP-21_audio_sentiment_analysis/TRAIN/301.wav..\n",
            "Error in converting to text/content/drive/MyDrive/Colab Notebooks/code_challenge/HackNITP-21_audio_sentiment_analysis/TRAIN/203.wav...\n",
            "Error in converting to text/content/drive/MyDrive/Colab Notebooks/code_challenge/HackNITP-21_audio_sentiment_analysis/TRAIN/74.wav...\n",
            "executed /content/drive/MyDrive/Colab Notebooks/code_challenge/HackNITP-21_audio_sentiment_analysis/TRAIN/126.wav..\n",
            "executed /content/drive/MyDrive/Colab Notebooks/code_challenge/HackNITP-21_audio_sentiment_analysis/TRAIN/319.wav..\n",
            "executed /content/drive/MyDrive/Colab Notebooks/code_challenge/HackNITP-21_audio_sentiment_analysis/TRAIN/228.wav..\n",
            "executed /content/drive/MyDrive/Colab Notebooks/code_challenge/HackNITP-21_audio_sentiment_analysis/TRAIN/153.wav..\n",
            "executed /content/drive/MyDrive/Colab Notebooks/code_challenge/HackNITP-21_audio_sentiment_analysis/TRAIN/97.wav..\n",
            "Error in converting to text/content/drive/MyDrive/Colab Notebooks/code_challenge/HackNITP-21_audio_sentiment_analysis/TRAIN/242.wav...\n",
            "executed /content/drive/MyDrive/Colab Notebooks/code_challenge/HackNITP-21_audio_sentiment_analysis/TRAIN/1.wav..\n",
            "executed /content/drive/MyDrive/Colab Notebooks/code_challenge/HackNITP-21_audio_sentiment_analysis/TRAIN/73.wav..\n",
            "executed /content/drive/MyDrive/Colab Notebooks/code_challenge/HackNITP-21_audio_sentiment_analysis/TRAIN/168.wav..\n",
            "executed /content/drive/MyDrive/Colab Notebooks/code_challenge/HackNITP-21_audio_sentiment_analysis/TRAIN/36.wav..\n",
            "executed /content/drive/MyDrive/Colab Notebooks/code_challenge/HackNITP-21_audio_sentiment_analysis/TRAIN/283.wav..\n",
            "executed /content/drive/MyDrive/Colab Notebooks/code_challenge/HackNITP-21_audio_sentiment_analysis/TRAIN/310.wav..\n",
            "Error in converting to text/content/drive/MyDrive/Colab Notebooks/code_challenge/HackNITP-21_audio_sentiment_analysis/TRAIN/77.wav...\n",
            "Error in converting to text/content/drive/MyDrive/Colab Notebooks/code_challenge/HackNITP-21_audio_sentiment_analysis/TRAIN/11.wav...\n",
            "executed /content/drive/MyDrive/Colab Notebooks/code_challenge/HackNITP-21_audio_sentiment_analysis/TRAIN/256.wav..\n",
            "executed /content/drive/MyDrive/Colab Notebooks/code_challenge/HackNITP-21_audio_sentiment_analysis/TRAIN/291.wav..\n",
            "executed /content/drive/MyDrive/Colab Notebooks/code_challenge/HackNITP-21_audio_sentiment_analysis/TRAIN/303.wav..\n",
            "Error in converting to text/content/drive/MyDrive/Colab Notebooks/code_challenge/HackNITP-21_audio_sentiment_analysis/TRAIN/89.wav...\n",
            "executed /content/drive/MyDrive/Colab Notebooks/code_challenge/HackNITP-21_audio_sentiment_analysis/TRAIN/108.wav..\n",
            "Error in converting to text/content/drive/MyDrive/Colab Notebooks/code_challenge/HackNITP-21_audio_sentiment_analysis/TRAIN/71.wav...\n",
            "Error in converting to text/content/drive/MyDrive/Colab Notebooks/code_challenge/HackNITP-21_audio_sentiment_analysis/TRAIN/101.wav...\n",
            "Error in converting to text/content/drive/MyDrive/Colab Notebooks/code_challenge/HackNITP-21_audio_sentiment_analysis/TRAIN/248.wav...\n",
            "Error in converting to text/content/drive/MyDrive/Colab Notebooks/code_challenge/HackNITP-21_audio_sentiment_analysis/TRAIN/14.wav...\n",
            "executed /content/drive/MyDrive/Colab Notebooks/code_challenge/HackNITP-21_audio_sentiment_analysis/TRAIN/93.wav..\n",
            "executed /content/drive/MyDrive/Colab Notebooks/code_challenge/HackNITP-21_audio_sentiment_analysis/TRAIN/30.wav..\n",
            "Error in converting to text/content/drive/MyDrive/Colab Notebooks/code_challenge/HackNITP-21_audio_sentiment_analysis/TRAIN/323.wav...\n",
            "executed /content/drive/MyDrive/Colab Notebooks/code_challenge/HackNITP-21_audio_sentiment_analysis/TRAIN/79.wav..\n",
            "executed /content/drive/MyDrive/Colab Notebooks/code_challenge/HackNITP-21_audio_sentiment_analysis/TRAIN/60.wav..\n",
            "Error in converting to text/content/drive/MyDrive/Colab Notebooks/code_challenge/HackNITP-21_audio_sentiment_analysis/TRAIN/287.wav...\n",
            "Error in converting to text/content/drive/MyDrive/Colab Notebooks/code_challenge/HackNITP-21_audio_sentiment_analysis/TRAIN/50.wav...\n",
            "executed /content/drive/MyDrive/Colab Notebooks/code_challenge/HackNITP-21_audio_sentiment_analysis/TRAIN/6.wav..\n",
            "executed /content/drive/MyDrive/Colab Notebooks/code_challenge/HackNITP-21_audio_sentiment_analysis/TRAIN/232.wav..\n",
            "executed /content/drive/MyDrive/Colab Notebooks/code_challenge/HackNITP-21_audio_sentiment_analysis/TRAIN/9.wav..\n",
            "executed /content/drive/MyDrive/Colab Notebooks/code_challenge/HackNITP-21_audio_sentiment_analysis/TRAIN/352.wav..\n",
            "executed /content/drive/MyDrive/Colab Notebooks/code_challenge/HackNITP-21_audio_sentiment_analysis/TRAIN/24.wav..\n",
            "executed /content/drive/MyDrive/Colab Notebooks/code_challenge/HackNITP-21_audio_sentiment_analysis/TRAIN/121.wav..\n",
            "Error in converting to text/content/drive/MyDrive/Colab Notebooks/code_challenge/HackNITP-21_audio_sentiment_analysis/TRAIN/62.wav...\n",
            "executed /content/drive/MyDrive/Colab Notebooks/code_challenge/HackNITP-21_audio_sentiment_analysis/TRAIN/243.wav..\n",
            "executed /content/drive/MyDrive/Colab Notebooks/code_challenge/HackNITP-21_audio_sentiment_analysis/TRAIN/154.wav..\n",
            "executed /content/drive/MyDrive/Colab Notebooks/code_challenge/HackNITP-21_audio_sentiment_analysis/TRAIN/189.wav..\n",
            "Error in converting to text/content/drive/MyDrive/Colab Notebooks/code_challenge/HackNITP-21_audio_sentiment_analysis/TRAIN/53.wav...\n",
            "executed /content/drive/MyDrive/Colab Notebooks/code_challenge/HackNITP-21_audio_sentiment_analysis/TRAIN/120.wav..\n",
            "executed /content/drive/MyDrive/Colab Notebooks/code_challenge/HackNITP-21_audio_sentiment_analysis/TRAIN/210.wav..\n",
            "executed /content/drive/MyDrive/Colab Notebooks/code_challenge/HackNITP-21_audio_sentiment_analysis/TRAIN/340.wav..\n",
            "Error in converting to text/content/drive/MyDrive/Colab Notebooks/code_challenge/HackNITP-21_audio_sentiment_analysis/TRAIN/137.wav...\n",
            "executed /content/drive/MyDrive/Colab Notebooks/code_challenge/HackNITP-21_audio_sentiment_analysis/TRAIN/282.wav..\n",
            "executed /content/drive/MyDrive/Colab Notebooks/code_challenge/HackNITP-21_audio_sentiment_analysis/TRAIN/177.wav..\n",
            "Error in converting to text/content/drive/MyDrive/Colab Notebooks/code_challenge/HackNITP-21_audio_sentiment_analysis/TRAIN/299.wav...\n",
            "executed /content/drive/MyDrive/Colab Notebooks/code_challenge/HackNITP-21_audio_sentiment_analysis/TRAIN/328.wav..\n",
            "executed /content/drive/MyDrive/Colab Notebooks/code_challenge/HackNITP-21_audio_sentiment_analysis/TRAIN/343.wav..\n",
            "executed /content/drive/MyDrive/Colab Notebooks/code_challenge/HackNITP-21_audio_sentiment_analysis/TRAIN/172.wav..\n",
            "executed /content/drive/MyDrive/Colab Notebooks/code_challenge/HackNITP-21_audio_sentiment_analysis/TRAIN/103.wav..\n",
            "executed /content/drive/MyDrive/Colab Notebooks/code_challenge/HackNITP-21_audio_sentiment_analysis/TRAIN/270.wav..\n",
            "executed /content/drive/MyDrive/Colab Notebooks/code_challenge/HackNITP-21_audio_sentiment_analysis/TRAIN/253.wav..\n",
            "executed /content/drive/MyDrive/Colab Notebooks/code_challenge/HackNITP-21_audio_sentiment_analysis/TRAIN/40.wav..\n",
            "executed /content/drive/MyDrive/Colab Notebooks/code_challenge/HackNITP-21_audio_sentiment_analysis/TRAIN/90.wav..\n",
            "executed /content/drive/MyDrive/Colab Notebooks/code_challenge/HackNITP-21_audio_sentiment_analysis/TRAIN/106.wav..\n",
            "executed /content/drive/MyDrive/Colab Notebooks/code_challenge/HackNITP-21_audio_sentiment_analysis/TRAIN/111.wav..\n",
            "Error in converting to text/content/drive/MyDrive/Colab Notebooks/code_challenge/HackNITP-21_audio_sentiment_analysis/TRAIN/293.wav...\n",
            "executed /content/drive/MyDrive/Colab Notebooks/code_challenge/HackNITP-21_audio_sentiment_analysis/TRAIN/327.wav..\n",
            "Error in converting to text/content/drive/MyDrive/Colab Notebooks/code_challenge/HackNITP-21_audio_sentiment_analysis/TRAIN/317.wav...\n",
            "Error in converting to text/content/drive/MyDrive/Colab Notebooks/code_challenge/HackNITP-21_audio_sentiment_analysis/TRAIN/161.wav...\n",
            "Error in converting to text/content/drive/MyDrive/Colab Notebooks/code_challenge/HackNITP-21_audio_sentiment_analysis/TRAIN/350.wav...\n",
            "executed /content/drive/MyDrive/Colab Notebooks/code_challenge/HackNITP-21_audio_sentiment_analysis/TRAIN/156.wav..\n",
            "Error in converting to text/content/drive/MyDrive/Colab Notebooks/code_challenge/HackNITP-21_audio_sentiment_analysis/TRAIN/110.wav...\n",
            "Error in converting to text/content/drive/MyDrive/Colab Notebooks/code_challenge/HackNITP-21_audio_sentiment_analysis/TRAIN/284.wav...\n",
            "Error in converting to text/content/drive/MyDrive/Colab Notebooks/code_challenge/HackNITP-21_audio_sentiment_analysis/TRAIN/266.wav...\n",
            "executed /content/drive/MyDrive/Colab Notebooks/code_challenge/HackNITP-21_audio_sentiment_analysis/TRAIN/187.wav..\n",
            "Error in converting to text/content/drive/MyDrive/Colab Notebooks/code_challenge/HackNITP-21_audio_sentiment_analysis/TRAIN/218.wav...\n",
            "executed /content/drive/MyDrive/Colab Notebooks/code_challenge/HackNITP-21_audio_sentiment_analysis/TRAIN/69.wav..\n",
            "Error in converting to text/content/drive/MyDrive/Colab Notebooks/code_challenge/HackNITP-21_audio_sentiment_analysis/TRAIN/17.wav...\n",
            "executed /content/drive/MyDrive/Colab Notebooks/code_challenge/HackNITP-21_audio_sentiment_analysis/TRAIN/63.wav..\n",
            "executed /content/drive/MyDrive/Colab Notebooks/code_challenge/HackNITP-21_audio_sentiment_analysis/TRAIN/226.wav..\n",
            "executed /content/drive/MyDrive/Colab Notebooks/code_challenge/HackNITP-21_audio_sentiment_analysis/TRAIN/21.wav..\n",
            "executed /content/drive/MyDrive/Colab Notebooks/code_challenge/HackNITP-21_audio_sentiment_analysis/TRAIN/313.wav..\n",
            "executed /content/drive/MyDrive/Colab Notebooks/code_challenge/HackNITP-21_audio_sentiment_analysis/TRAIN/16.wav..\n",
            "executed /content/drive/MyDrive/Colab Notebooks/code_challenge/HackNITP-21_audio_sentiment_analysis/TRAIN/307.wav..\n",
            "executed /content/drive/MyDrive/Colab Notebooks/code_challenge/HackNITP-21_audio_sentiment_analysis/TRAIN/169.wav..\n",
            "executed /content/drive/MyDrive/Colab Notebooks/code_challenge/HackNITP-21_audio_sentiment_analysis/TRAIN/198.wav..\n",
            "executed /content/drive/MyDrive/Colab Notebooks/code_challenge/HackNITP-21_audio_sentiment_analysis/TRAIN/160.wav..\n",
            "executed /content/drive/MyDrive/Colab Notebooks/code_challenge/HackNITP-21_audio_sentiment_analysis/TRAIN/337.wav..\n",
            "executed /content/drive/MyDrive/Colab Notebooks/code_challenge/HackNITP-21_audio_sentiment_analysis/TRAIN/127.wav..\n",
            "executed /content/drive/MyDrive/Colab Notebooks/code_challenge/HackNITP-21_audio_sentiment_analysis/TRAIN/331.wav..\n",
            "Error in converting to text/content/drive/MyDrive/Colab Notebooks/code_challenge/HackNITP-21_audio_sentiment_analysis/TRAIN/68.wav...\n",
            "executed /content/drive/MyDrive/Colab Notebooks/code_challenge/HackNITP-21_audio_sentiment_analysis/TRAIN/144.wav..\n",
            "executed /content/drive/MyDrive/Colab Notebooks/code_challenge/HackNITP-21_audio_sentiment_analysis/TRAIN/192.wav..\n",
            "Error in converting to text/content/drive/MyDrive/Colab Notebooks/code_challenge/HackNITP-21_audio_sentiment_analysis/TRAIN/29.wav...\n",
            "executed /content/drive/MyDrive/Colab Notebooks/code_challenge/HackNITP-21_audio_sentiment_analysis/TRAIN/148.wav..\n",
            "executed /content/drive/MyDrive/Colab Notebooks/code_challenge/HackNITP-21_audio_sentiment_analysis/TRAIN/223.wav..\n",
            "executed /content/drive/MyDrive/Colab Notebooks/code_challenge/HackNITP-21_audio_sentiment_analysis/TRAIN/186.wav..\n",
            "executed /content/drive/MyDrive/Colab Notebooks/code_challenge/HackNITP-21_audio_sentiment_analysis/TRAIN/207.wav..\n",
            "executed /content/drive/MyDrive/Colab Notebooks/code_challenge/HackNITP-21_audio_sentiment_analysis/TRAIN/10.wav..\n",
            "executed /content/drive/MyDrive/Colab Notebooks/code_challenge/HackNITP-21_audio_sentiment_analysis/TRAIN/262.wav..\n",
            "executed /content/drive/MyDrive/Colab Notebooks/code_challenge/HackNITP-21_audio_sentiment_analysis/TRAIN/289.wav..\n",
            "executed /content/drive/MyDrive/Colab Notebooks/code_challenge/HackNITP-21_audio_sentiment_analysis/TRAIN/216.wav..\n",
            "Error in converting to text/content/drive/MyDrive/Colab Notebooks/code_challenge/HackNITP-21_audio_sentiment_analysis/TRAIN/224.wav...\n",
            "Error in converting to text/content/drive/MyDrive/Colab Notebooks/code_challenge/HackNITP-21_audio_sentiment_analysis/TRAIN/302.wav...\n",
            "executed /content/drive/MyDrive/Colab Notebooks/code_challenge/HackNITP-21_audio_sentiment_analysis/TRAIN/37.wav..\n",
            "executed /content/drive/MyDrive/Colab Notebooks/code_challenge/HackNITP-21_audio_sentiment_analysis/TRAIN/43.wav..\n",
            "executed /content/drive/MyDrive/Colab Notebooks/code_challenge/HackNITP-21_audio_sentiment_analysis/TRAIN/52.wav..\n",
            "Error in converting to text/content/drive/MyDrive/Colab Notebooks/code_challenge/HackNITP-21_audio_sentiment_analysis/TRAIN/107.wav...\n",
            "executed /content/drive/MyDrive/Colab Notebooks/code_challenge/HackNITP-21_audio_sentiment_analysis/TRAIN/85.wav..\n",
            "executed /content/drive/MyDrive/Colab Notebooks/code_challenge/HackNITP-21_audio_sentiment_analysis/TRAIN/67.wav..\n",
            "executed /content/drive/MyDrive/Colab Notebooks/code_challenge/HackNITP-21_audio_sentiment_analysis/TRAIN/240.wav..\n",
            "executed /content/drive/MyDrive/Colab Notebooks/code_challenge/HackNITP-21_audio_sentiment_analysis/TRAIN/3.wav..\n",
            "executed /content/drive/MyDrive/Colab Notebooks/code_challenge/HackNITP-21_audio_sentiment_analysis/TRAIN/336.wav..\n",
            "executed /content/drive/MyDrive/Colab Notebooks/code_challenge/HackNITP-21_audio_sentiment_analysis/TRAIN/237.wav..\n",
            "executed /content/drive/MyDrive/Colab Notebooks/code_challenge/HackNITP-21_audio_sentiment_analysis/TRAIN/330.wav..\n",
            "Error in converting to text/content/drive/MyDrive/Colab Notebooks/code_challenge/HackNITP-21_audio_sentiment_analysis/TRAIN/329.wav...\n",
            "executed /content/drive/MyDrive/Colab Notebooks/code_challenge/HackNITP-21_audio_sentiment_analysis/TRAIN/82.wav..\n",
            "executed /content/drive/MyDrive/Colab Notebooks/code_challenge/HackNITP-21_audio_sentiment_analysis/TRAIN/354.wav..\n",
            "executed /content/drive/MyDrive/Colab Notebooks/code_challenge/HackNITP-21_audio_sentiment_analysis/TRAIN/201.wav..\n",
            "Error in converting to text/content/drive/MyDrive/Colab Notebooks/code_challenge/HackNITP-21_audio_sentiment_analysis/TRAIN/347.wav...\n",
            "executed /content/drive/MyDrive/Colab Notebooks/code_challenge/HackNITP-21_audio_sentiment_analysis/TRAIN/274.wav..\n",
            "executed /content/drive/MyDrive/Colab Notebooks/code_challenge/HackNITP-21_audio_sentiment_analysis/TRAIN/54.wav..\n",
            "executed /content/drive/MyDrive/Colab Notebooks/code_challenge/HackNITP-21_audio_sentiment_analysis/TRAIN/96.wav..\n",
            "Error in converting to text/content/drive/MyDrive/Colab Notebooks/code_challenge/HackNITP-21_audio_sentiment_analysis/TRAIN/32.wav...\n",
            "Error in converting to text/content/drive/MyDrive/Colab Notebooks/code_challenge/HackNITP-21_audio_sentiment_analysis/TRAIN/221.wav...\n",
            "executed /content/drive/MyDrive/Colab Notebooks/code_challenge/HackNITP-21_audio_sentiment_analysis/TRAIN/357.wav..\n",
            "executed /content/drive/MyDrive/Colab Notebooks/code_challenge/HackNITP-21_audio_sentiment_analysis/TRAIN/255.wav..\n",
            "executed /content/drive/MyDrive/Colab Notebooks/code_challenge/HackNITP-21_audio_sentiment_analysis/TRAIN/250.wav..\n",
            "executed /content/drive/MyDrive/Colab Notebooks/code_challenge/HackNITP-21_audio_sentiment_analysis/TRAIN/339.wav..\n",
            "executed /content/drive/MyDrive/Colab Notebooks/code_challenge/HackNITP-21_audio_sentiment_analysis/TRAIN/18.wav..\n",
            "executed /content/drive/MyDrive/Colab Notebooks/code_challenge/HackNITP-21_audio_sentiment_analysis/TRAIN/231.wav..\n",
            "executed /content/drive/MyDrive/Colab Notebooks/code_challenge/HackNITP-21_audio_sentiment_analysis/TRAIN/114.wav..\n",
            "executed /content/drive/MyDrive/Colab Notebooks/code_challenge/HackNITP-21_audio_sentiment_analysis/TRAIN/184.wav..\n",
            "Error in converting to text/content/drive/MyDrive/Colab Notebooks/code_challenge/HackNITP-21_audio_sentiment_analysis/TRAIN/188.wav...\n",
            "Error in converting to text/content/drive/MyDrive/Colab Notebooks/code_challenge/HackNITP-21_audio_sentiment_analysis/TRAIN/164.wav...\n",
            "executed /content/drive/MyDrive/Colab Notebooks/code_challenge/HackNITP-21_audio_sentiment_analysis/TRAIN/174.wav..\n",
            "executed /content/drive/MyDrive/Colab Notebooks/code_challenge/HackNITP-21_audio_sentiment_analysis/TRAIN/316.wav..\n",
            "executed /content/drive/MyDrive/Colab Notebooks/code_challenge/HackNITP-21_audio_sentiment_analysis/TRAIN/91.wav..\n",
            "Error in converting to text/content/drive/MyDrive/Colab Notebooks/code_challenge/HackNITP-21_audio_sentiment_analysis/TRAIN/233.wav...\n",
            "executed /content/drive/MyDrive/Colab Notebooks/code_challenge/HackNITP-21_audio_sentiment_analysis/TRAIN/102.wav..\n",
            "executed /content/drive/MyDrive/Colab Notebooks/code_challenge/HackNITP-21_audio_sentiment_analysis/TRAIN/264.wav..\n",
            "Error in converting to text/content/drive/MyDrive/Colab Notebooks/code_challenge/HackNITP-21_audio_sentiment_analysis/TRAIN/269.wav...\n",
            "Error in converting to text/content/drive/MyDrive/Colab Notebooks/code_challenge/HackNITP-21_audio_sentiment_analysis/TRAIN/272.wav...\n",
            "executed /content/drive/MyDrive/Colab Notebooks/code_challenge/HackNITP-21_audio_sentiment_analysis/TRAIN/100.wav..\n",
            "executed /content/drive/MyDrive/Colab Notebooks/code_challenge/HackNITP-21_audio_sentiment_analysis/TRAIN/39.wav..\n",
            "executed /content/drive/MyDrive/Colab Notebooks/code_challenge/HackNITP-21_audio_sentiment_analysis/TRAIN/295.wav..\n",
            "Error in converting to text/content/drive/MyDrive/Colab Notebooks/code_challenge/HackNITP-21_audio_sentiment_analysis/TRAIN/254.wav...\n",
            "executed /content/drive/MyDrive/Colab Notebooks/code_challenge/HackNITP-21_audio_sentiment_analysis/TRAIN/292.wav..\n",
            "executed /content/drive/MyDrive/Colab Notebooks/code_challenge/HackNITP-21_audio_sentiment_analysis/TRAIN/261.wav..\n",
            "Error in converting to text/content/drive/MyDrive/Colab Notebooks/code_challenge/HackNITP-21_audio_sentiment_analysis/TRAIN/170.wav...\n",
            "executed /content/drive/MyDrive/Colab Notebooks/code_challenge/HackNITP-21_audio_sentiment_analysis/TRAIN/147.wav..\n",
            "Error in converting to text/content/drive/MyDrive/Colab Notebooks/code_challenge/HackNITP-21_audio_sentiment_analysis/TRAIN/251.wav...\n",
            "Error in converting to text/content/drive/MyDrive/Colab Notebooks/code_challenge/HackNITP-21_audio_sentiment_analysis/TRAIN/167.wav...\n",
            "executed /content/drive/MyDrive/Colab Notebooks/code_challenge/HackNITP-21_audio_sentiment_analysis/TRAIN/355.wav..\n",
            "Error in converting to text/content/drive/MyDrive/Colab Notebooks/code_challenge/HackNITP-21_audio_sentiment_analysis/TRAIN/308.wav...\n",
            "executed /content/drive/MyDrive/Colab Notebooks/code_challenge/HackNITP-21_audio_sentiment_analysis/TRAIN/220.wav..\n",
            "Error in converting to text/content/drive/MyDrive/Colab Notebooks/code_challenge/HackNITP-21_audio_sentiment_analysis/TRAIN/197.wav...\n",
            "Error in converting to text/content/drive/MyDrive/Colab Notebooks/code_challenge/HackNITP-21_audio_sentiment_analysis/TRAIN/200.wav...\n",
            "executed /content/drive/MyDrive/Colab Notebooks/code_challenge/HackNITP-21_audio_sentiment_analysis/TRAIN/208.wav..\n",
            "executed /content/drive/MyDrive/Colab Notebooks/code_challenge/HackNITP-21_audio_sentiment_analysis/TRAIN/234.wav..\n",
            "executed /content/drive/MyDrive/Colab Notebooks/code_challenge/HackNITP-21_audio_sentiment_analysis/TRAIN/162.wav..\n",
            "executed /content/drive/MyDrive/Colab Notebooks/code_challenge/HackNITP-21_audio_sentiment_analysis/TRAIN/247.wav..\n",
            "executed /content/drive/MyDrive/Colab Notebooks/code_challenge/HackNITP-21_audio_sentiment_analysis/TRAIN/76.wav..\n",
            "executed /content/drive/MyDrive/Colab Notebooks/code_challenge/HackNITP-21_audio_sentiment_analysis/TRAIN/22.wav..\n",
            "executed /content/drive/MyDrive/Colab Notebooks/code_challenge/HackNITP-21_audio_sentiment_analysis/TRAIN/117.wav..\n",
            "executed /content/drive/MyDrive/Colab Notebooks/code_challenge/HackNITP-21_audio_sentiment_analysis/TRAIN/276.wav..\n",
            "executed /content/drive/MyDrive/Colab Notebooks/code_challenge/HackNITP-21_audio_sentiment_analysis/TRAIN/183.wav..\n",
            "executed /content/drive/MyDrive/Colab Notebooks/code_challenge/HackNITP-21_audio_sentiment_analysis/TRAIN/235.wav..\n",
            "executed /content/drive/MyDrive/Colab Notebooks/code_challenge/HackNITP-21_audio_sentiment_analysis/TRAIN/48.wav..\n",
            "executed /content/drive/MyDrive/Colab Notebooks/code_challenge/HackNITP-21_audio_sentiment_analysis/TRAIN/151.wav..\n",
            "executed /content/drive/MyDrive/Colab Notebooks/code_challenge/HackNITP-21_audio_sentiment_analysis/TRAIN/297.wav..\n",
            "executed /content/drive/MyDrive/Colab Notebooks/code_challenge/HackNITP-21_audio_sentiment_analysis/TRAIN/217.wav..\n",
            "Error in converting to text/content/drive/MyDrive/Colab Notebooks/code_challenge/HackNITP-21_audio_sentiment_analysis/TRAIN/215.wav...\n",
            "executed /content/drive/MyDrive/Colab Notebooks/code_challenge/HackNITP-21_audio_sentiment_analysis/TRAIN/258.wav..\n",
            "Error in converting to text/content/drive/MyDrive/Colab Notebooks/code_challenge/HackNITP-21_audio_sentiment_analysis/TRAIN/263.wav...\n",
            "executed /content/drive/MyDrive/Colab Notebooks/code_challenge/HackNITP-21_audio_sentiment_analysis/TRAIN/334.wav..\n",
            "executed /content/drive/MyDrive/Colab Notebooks/code_challenge/HackNITP-21_audio_sentiment_analysis/TRAIN/321.wav..\n",
            "Error in converting to text/content/drive/MyDrive/Colab Notebooks/code_challenge/HackNITP-21_audio_sentiment_analysis/TRAIN/314.wav...\n",
            "executed /content/drive/MyDrive/Colab Notebooks/code_challenge/HackNITP-21_audio_sentiment_analysis/TRAIN/252.wav..\n",
            "Error in converting to text/content/drive/MyDrive/Colab Notebooks/code_challenge/HackNITP-21_audio_sentiment_analysis/TRAIN/227.wav...\n",
            "executed /content/drive/MyDrive/Colab Notebooks/code_challenge/HackNITP-21_audio_sentiment_analysis/TRAIN/31.wav..\n",
            "executed /content/drive/MyDrive/Colab Notebooks/code_challenge/HackNITP-21_audio_sentiment_analysis/TRAIN/280.wav..\n",
            "executed /content/drive/MyDrive/Colab Notebooks/code_challenge/HackNITP-21_audio_sentiment_analysis/TRAIN/271.wav..\n",
            "executed /content/drive/MyDrive/Colab Notebooks/code_challenge/HackNITP-21_audio_sentiment_analysis/TRAIN/171.wav..\n",
            "executed /content/drive/MyDrive/Colab Notebooks/code_challenge/HackNITP-21_audio_sentiment_analysis/TRAIN/306.wav..\n",
            "executed /content/drive/MyDrive/Colab Notebooks/code_challenge/HackNITP-21_audio_sentiment_analysis/TRAIN/222.wav..\n",
            "executed /content/drive/MyDrive/Colab Notebooks/code_challenge/HackNITP-21_audio_sentiment_analysis/TRAIN/150.wav..\n",
            "Error in converting to text/content/drive/MyDrive/Colab Notebooks/code_challenge/HackNITP-21_audio_sentiment_analysis/TRAIN/245.wav...\n",
            "executed /content/drive/MyDrive/Colab Notebooks/code_challenge/HackNITP-21_audio_sentiment_analysis/TRAIN/78.wav..\n",
            "executed /content/drive/MyDrive/Colab Notebooks/code_challenge/HackNITP-21_audio_sentiment_analysis/TRAIN/193.wav..\n",
            "executed /content/drive/MyDrive/Colab Notebooks/code_challenge/HackNITP-21_audio_sentiment_analysis/TRAIN/12.wav..\n",
            "Error in converting to text/content/drive/MyDrive/Colab Notebooks/code_challenge/HackNITP-21_audio_sentiment_analysis/TRAIN/80.wav...\n",
            "executed /content/drive/MyDrive/Colab Notebooks/code_challenge/HackNITP-21_audio_sentiment_analysis/TRAIN/349.wav..\n",
            "Error in converting to text/content/drive/MyDrive/Colab Notebooks/code_challenge/HackNITP-21_audio_sentiment_analysis/TRAIN/236.wav...\n",
            "Error in converting to text/content/drive/MyDrive/Colab Notebooks/code_challenge/HackNITP-21_audio_sentiment_analysis/TRAIN/155.wav...\n",
            "executed /content/drive/MyDrive/Colab Notebooks/code_challenge/HackNITP-21_audio_sentiment_analysis/TRAIN/324.wav..\n",
            "Error in converting to text/content/drive/MyDrive/Colab Notebooks/code_challenge/HackNITP-21_audio_sentiment_analysis/TRAIN/281.wav...\n",
            "executed /content/drive/MyDrive/Colab Notebooks/code_challenge/HackNITP-21_audio_sentiment_analysis/TRAIN/105.wav..\n",
            "Error in converting to text/content/drive/MyDrive/Colab Notebooks/code_challenge/HackNITP-21_audio_sentiment_analysis/TRAIN/116.wav...\n",
            "Error in converting to text/content/drive/MyDrive/Colab Notebooks/code_challenge/HackNITP-21_audio_sentiment_analysis/TRAIN/20.wav...\n",
            "executed /content/drive/MyDrive/Colab Notebooks/code_challenge/HackNITP-21_audio_sentiment_analysis/TRAIN/99.wav..\n",
            "executed /content/drive/MyDrive/Colab Notebooks/code_challenge/HackNITP-21_audio_sentiment_analysis/TRAIN/139.wav..\n",
            "Error in converting to text/content/drive/MyDrive/Colab Notebooks/code_challenge/HackNITP-21_audio_sentiment_analysis/TRAIN/209.wav...\n",
            "Error in converting to text/content/drive/MyDrive/Colab Notebooks/code_challenge/HackNITP-21_audio_sentiment_analysis/TRAIN/275.wav...\n",
            "Error in converting to text/content/drive/MyDrive/Colab Notebooks/code_challenge/HackNITP-21_audio_sentiment_analysis/TRAIN/179.wav...\n",
            "Error in converting to text/content/drive/MyDrive/Colab Notebooks/code_challenge/HackNITP-21_audio_sentiment_analysis/TRAIN/2.wav...\n",
            "executed /content/drive/MyDrive/Colab Notebooks/code_challenge/HackNITP-21_audio_sentiment_analysis/TRAIN/246.wav..\n",
            "executed /content/drive/MyDrive/Colab Notebooks/code_challenge/HackNITP-21_audio_sentiment_analysis/TRAIN/133.wav..\n",
            "executed /content/drive/MyDrive/Colab Notebooks/code_challenge/HackNITP-21_audio_sentiment_analysis/TRAIN/286.wav..\n",
            "executed /content/drive/MyDrive/Colab Notebooks/code_challenge/HackNITP-21_audio_sentiment_analysis/TRAIN/70.wav..\n",
            "executed /content/drive/MyDrive/Colab Notebooks/code_challenge/HackNITP-21_audio_sentiment_analysis/TRAIN/118.wav..\n",
            "Error in converting to text/content/drive/MyDrive/Colab Notebooks/code_challenge/HackNITP-21_audio_sentiment_analysis/TRAIN/83.wav...\n",
            "executed /content/drive/MyDrive/Colab Notebooks/code_challenge/HackNITP-21_audio_sentiment_analysis/TRAIN/159.wav..\n",
            "Error in converting to text/content/drive/MyDrive/Colab Notebooks/code_challenge/HackNITP-21_audio_sentiment_analysis/TRAIN/149.wav...\n",
            "Error in converting to text/content/drive/MyDrive/Colab Notebooks/code_challenge/HackNITP-21_audio_sentiment_analysis/TRAIN/44.wav...\n",
            "Error in converting to text/content/drive/MyDrive/Colab Notebooks/code_challenge/HackNITP-21_audio_sentiment_analysis/TRAIN/332.wav...\n",
            "executed /content/drive/MyDrive/Colab Notebooks/code_challenge/HackNITP-21_audio_sentiment_analysis/TRAIN/28.wav..\n",
            "executed /content/drive/MyDrive/Colab Notebooks/code_challenge/HackNITP-21_audio_sentiment_analysis/TRAIN/64.wav..\n",
            "Error in converting to text/content/drive/MyDrive/Colab Notebooks/code_challenge/HackNITP-21_audio_sentiment_analysis/TRAIN/278.wav...\n",
            "Error in converting to text/content/drive/MyDrive/Colab Notebooks/code_challenge/HackNITP-21_audio_sentiment_analysis/TRAIN/104.wav...\n",
            "executed /content/drive/MyDrive/Colab Notebooks/code_challenge/HackNITP-21_audio_sentiment_analysis/TRAIN/204.wav..\n",
            "executed /content/drive/MyDrive/Colab Notebooks/code_challenge/HackNITP-21_audio_sentiment_analysis/TRAIN/46.wav..\n",
            "executed /content/drive/MyDrive/Colab Notebooks/code_challenge/HackNITP-21_audio_sentiment_analysis/TRAIN/318.wav..\n",
            "executed /content/drive/MyDrive/Colab Notebooks/code_challenge/HackNITP-21_audio_sentiment_analysis/TRAIN/49.wav..\n",
            "Error in converting to text/content/drive/MyDrive/Colab Notebooks/code_challenge/HackNITP-21_audio_sentiment_analysis/TRAIN/191.wav...\n"
          ],
          "name": "stdout"
        }
      ]
    },
    {
      "cell_type": "code",
      "metadata": {
        "colab": {
          "base_uri": "https://localhost:8080/"
        },
        "id": "9pz0SWTHe8Lf",
        "outputId": "c527d59c-d586-4131-d0cf-b00496be3ef6"
      },
      "source": [
        "print(text_list)"
      ],
      "execution_count": 27,
      "outputs": [
        {
          "output_type": "stream",
          "text": [
            "['how dare you say that', 'you can do a lot better than this', 'no one likes you', 'you should be punished for this app', 'you do not have common sense', 'no one likes you Association', '', '', 'your performance was good but you should improve more', 'you have given a great response', 'you should try to be more creative', '', 'Uso tri-mode', 'Everyone likes to take your opinion', '', 'you are a great mentor', 'you will now be in trouble', '', 'you have not one but you have also not close', '', 'you have taken wrong decision', 'you should think more before you like', '', '', 'you should explain more', 'you should be more loyal', 'the wise was clear but it was very light', 'you are a very foolish person', '', 'your attitude is very bad', '', '', 'the food was tasty but it should be less salty', 'I am very much ashamed of you', 'the project was good but it needs more modification', 'please try to concentrate mode', 'you have a great choice', '', 'I like talking with you', 'you are a regular guy', 'you have not one but you have also not close', \"I'm very much proud of you\", 'you want a great liar', 'you are fired', '', '', 'you have done a big mistake', 'what rubbish are you talking about', 'your attitude is very bad', '', 'you have a great idea emoji', '', '', '', '', 'you have done a great work', 'you are a very caring person', '', 'you are very responsible person', 'you are a great mentor', '', '', 'you have a great face', 'you have done it on time but you can have done it before', 'you are a great leader', 'you are very irresponsible', 'well when the first Edition', 'you might be the lucky person', '', 'you will not be in trouble', 'your answer is correct but it needs more explanation', 'your idea sounds good please elaborate more', '', 'you always had the person in need', 'you need to work more on it', 'you have taken wrong decision', '', 'no one likes to talk about you', 'if you try to improve you could be a good leader', '', 'you should be kicked off from the office', 'what nonsense are you talking about', 'your device possible but not break', 'you are a very humble person', 'mind your language', 'you want to write a lazy person', 'a great thanks for your support', 'your idea is great', 'you have a great idea emoji', 'you have given a great response', '', 'your explanation was totally incorrect', '', '', '', 'your answer is correct but it needs more explanation', '', '', '', 'your idea sounds good please elaborate more', '', 'you have taken the correct decision', '', 'your answers are absolutely correct', 'the project was good but it needs more modification', 'you have done a great job', 'you are talking very rude', 'I have a great respect for you', 'you look very bad food', 'there has neither been gained not lost', 'usual tank mall before you like', 'your explanation was good but try to be more precise', 'get out of my home', 'the wise was clear but it was very light', 'you are a very foolish person', '', 'you should provide him more respect', 'you should explain more', '', 'you should be more punctual', 'your wife was good but it could have lower pitch', 'you should try to be more regular', 'it was good but it can be more better', 'thank you for your great help', 'you can never be a leader', 'what rubbish are you talking about', 'you should try more', '', '', 'I understood everything you taught me very well', 'you are a brilliant student', 'you cook great', '', 'wow such a great idea', 'you have taken the correct position', 'your result was good but you should do more hard work', 'I like talking with you', 'your idea is very bad', 'you should learn more good manners', 'you should be kicked off from the office', '', 'you are a very caring person', 'you are very irresponsible', 'you can be selected but can also be allergic', '', 'no one likes to talk with you', 'you cook great', 'your wife is wonderful', '', '', 'you can never be an idol of someone', 'you want to be lazy person', 'you do not deserve respect', 'get out of my home', 'I have a great respect for you', 'it is providing me some relief', 'congratulations you won the challenge', 'you should try to be more regular', '', '', 'your choice was to go to might not break', 'I never trust you', 'you have done a great work', '', 'you are my idol', 'you can never be a leader', '', '', 'you are my idol', 'I understood everything you taught me very well', 'biltrite is very bad', '', 'your ideology is totally wrong', 'your answers were totally wrong', '', 'your performance was good but you should improve more', '', '', 'you can never be an idol of someone', '', 'you are very close to the correct answer', '', '', 'you need to work more on it', 'you have done it on time but you can have done it before', 'your explanation was good but try to be more precise', 'no one likes to talk with you', 'you guided me to the correct path', 'well when the first Edition', 'everyone respects you a lot', 'no one likes to talk with you', 'you should be more loyal', 'you should learn more good manners', 'you are a very hardworking guy', 'please try to concentrate mode', 'biltrite is very bad', 'if you work more hard you will definitely crack exam', '', 'you have done a big mistake', '', 'your idea is very bad', 'I am very much ashamed of you', '', 'you do not deserve respect', '', 'everyone loves to talk with you', 'no one likes to talk about you', 'no one likes you Association', 'dad has neither been gained not lost', 'you are a Shameless person', 'you are very close to the correct answer', 'you should be more punctual', '', 'you guided me to the correct path', 'you should be more responsible', 'thank you for your great help', '', 'get away from my sight', '', '', 'everything you said it was useless', '', 'you wanted are the humble person', '', '', 'you have a great choice', 'please try to improve your attitude', '', '', '', '', 'you do not have common sense', 'you are more likely to be selected', 'no one likes you', 'I believe you a lot', 'you always had the person in need', '', 'you should be more responsive', '', '', '', 'you are a very caring person', 'Wild Wonderful solution', '', '', 'if your improvement there is high chance that you will win', 'you are a very hardworking guy', 'I never trust you', 'you are an idol for many people', '']\n"
          ],
          "name": "stdout"
        }
      ]
    },
    {
      "cell_type": "code",
      "metadata": {
        "colab": {
          "base_uri": "https://localhost:8080/"
        },
        "id": "KbrN5PdDe8Gs",
        "outputId": "6a916440-f596-4ec8-e024-a7f39b52bf3a"
      },
      "source": [
        "text_list_ls =list(text_list)\r\n",
        "c=0\r\n",
        "for i in text_list_ls:\r\n",
        "  if i=='':\r\n",
        "    c=c+1\r\n",
        "print(c)\r\n"
      ],
      "execution_count": 28,
      "outputs": [
        {
          "output_type": "stream",
          "text": [
            "78\n"
          ],
          "name": "stdout"
        }
      ]
    },
    {
      "cell_type": "code",
      "metadata": {
        "colab": {
          "base_uri": "https://localhost:8080/"
        },
        "id": "UHSbl2COe8B9",
        "outputId": "963c8424-788e-4038-c3b5-0dcb58877edf"
      },
      "source": [
        "import os\r\n",
        "print(os.listdir(\"/content/drive/MyDrive/Colab Notebooks/code_challenge/HackNITP-21_audio_sentiment_analysis/TRAIN\"))\r\n",
        "print(text_list.count(\"\"))"
      ],
      "execution_count": 29,
      "outputs": [
        {
          "output_type": "stream",
          "text": [
            "['346.wav', '163.wav', '288.wav', '279.wav', '244.wav', '273.wav', '5.wav', '353.wav', '145.wav', '109.wav', '211.wav', '38.wav', '214.wav', '55.wav', '305.wav', '58.wav', '241.wav', '47.wav', '166.wav', '140.wav', '342.wav', '196.wav', '122.wav', '344.wav', '190.wav', '181.wav', '129.wav', '333.wav', '230.wav', '301.wav', '203.wav', '74.wav', '126.wav', '319.wav', '228.wav', '153.wav', '97.wav', '242.wav', '1.wav', '73.wav', '168.wav', '36.wav', '283.wav', '310.wav', '77.wav', '11.wav', '256.wav', '291.wav', '303.wav', '89.wav', '108.wav', '71.wav', '101.wav', '248.wav', '14.wav', '93.wav', '30.wav', '323.wav', '79.wav', '60.wav', '287.wav', '50.wav', '6.wav', '232.wav', '9.wav', '352.wav', '24.wav', '121.wav', '62.wav', '243.wav', '154.wav', '189.wav', '53.wav', '120.wav', '210.wav', '340.wav', '137.wav', '282.wav', '177.wav', '299.wav', '328.wav', '343.wav', '172.wav', '103.wav', '270.wav', '253.wav', '40.wav', '90.wav', '106.wav', '111.wav', '293.wav', '327.wav', '317.wav', '161.wav', '350.wav', '156.wav', '110.wav', '284.wav', '266.wav', '187.wav', '218.wav', '69.wav', '17.wav', '63.wav', '226.wav', '21.wav', '313.wav', '16.wav', '307.wav', '169.wav', '198.wav', '160.wav', '337.wav', '127.wav', '331.wav', '68.wav', '144.wav', '192.wav', '29.wav', '148.wav', '223.wav', '186.wav', '207.wav', '10.wav', '262.wav', '289.wav', '216.wav', '224.wav', '302.wav', '37.wav', '43.wav', '52.wav', '107.wav', '85.wav', '67.wav', '240.wav', '3.wav', '336.wav', '237.wav', '330.wav', '329.wav', '82.wav', '354.wav', '201.wav', '347.wav', '274.wav', '54.wav', '96.wav', '32.wav', '221.wav', '357.wav', '255.wav', '250.wav', '339.wav', '18.wav', '231.wav', '114.wav', '184.wav', '188.wav', '164.wav', '174.wav', '316.wav', '91.wav', '233.wav', '102.wav', '264.wav', '269.wav', '272.wav', '100.wav', '39.wav', '295.wav', '254.wav', '292.wav', '261.wav', '170.wav', '147.wav', '251.wav', '167.wav', '355.wav', '308.wav', '220.wav', '197.wav', '200.wav', '208.wav', '234.wav', '162.wav', '247.wav', '76.wav', '22.wav', '117.wav', '276.wav', '183.wav', '235.wav', '48.wav', '151.wav', '297.wav', '217.wav', '215.wav', '258.wav', '263.wav', '334.wav', '321.wav', '314.wav', '252.wav', '227.wav', '31.wav', '280.wav', '271.wav', '171.wav', '306.wav', '222.wav', '150.wav', '245.wav', '78.wav', '193.wav', '12.wav', '80.wav', '349.wav', '236.wav', '155.wav', '324.wav', '281.wav', '105.wav', '116.wav', '20.wav', '99.wav', '139.wav', '209.wav', '275.wav', '179.wav', '2.wav', '246.wav', '133.wav', '286.wav', '70.wav', '118.wav', '83.wav', '159.wav', '149.wav', '44.wav', '332.wav', '28.wav', '64.wav', '278.wav', '104.wav', '204.wav', '46.wav', '318.wav', '49.wav', '191.wav']\n",
            "78\n"
          ],
          "name": "stdout"
        }
      ]
    },
    {
      "cell_type": "code",
      "metadata": {
        "colab": {
          "base_uri": "https://localhost:8080/",
          "height": 356
        },
        "id": "muEIisB8e79H",
        "outputId": "afac5ab8-78fd-4463-a1b4-e223bef4c9d2"
      },
      "source": [
        "import pandas as pd\r\n",
        "a_train_csv=pd.read_csv(\"/content/drive/MyDrive/Colab Notebooks/code_challenge/HackNITP-21_audio_sentiment_analysis/TRAIN.csv\")\r\n",
        "a_train_csv.head(10)"
      ],
      "execution_count": 49,
      "outputs": [
        {
          "output_type": "execute_result",
          "data": {
            "text/html": [
              "<div>\n",
              "<style scoped>\n",
              "    .dataframe tbody tr th:only-of-type {\n",
              "        vertical-align: middle;\n",
              "    }\n",
              "\n",
              "    .dataframe tbody tr th {\n",
              "        vertical-align: top;\n",
              "    }\n",
              "\n",
              "    .dataframe thead th {\n",
              "        text-align: right;\n",
              "    }\n",
              "</style>\n",
              "<table border=\"1\" class=\"dataframe\">\n",
              "  <thead>\n",
              "    <tr style=\"text-align: right;\">\n",
              "      <th></th>\n",
              "      <th>Filename</th>\n",
              "      <th>Class</th>\n",
              "    </tr>\n",
              "  </thead>\n",
              "  <tbody>\n",
              "    <tr>\n",
              "      <th>0</th>\n",
              "      <td>346.wav</td>\n",
              "      <td>Negative</td>\n",
              "    </tr>\n",
              "    <tr>\n",
              "      <th>1</th>\n",
              "      <td>163.wav</td>\n",
              "      <td>Neutral</td>\n",
              "    </tr>\n",
              "    <tr>\n",
              "      <th>2</th>\n",
              "      <td>288.wav</td>\n",
              "      <td>Negative</td>\n",
              "    </tr>\n",
              "    <tr>\n",
              "      <th>3</th>\n",
              "      <td>279.wav</td>\n",
              "      <td>Negative</td>\n",
              "    </tr>\n",
              "    <tr>\n",
              "      <th>4</th>\n",
              "      <td>244.wav</td>\n",
              "      <td>Negative</td>\n",
              "    </tr>\n",
              "    <tr>\n",
              "      <th>5</th>\n",
              "      <td>273.wav</td>\n",
              "      <td>Negative</td>\n",
              "    </tr>\n",
              "    <tr>\n",
              "      <th>6</th>\n",
              "      <td>5.wav</td>\n",
              "      <td>Positive</td>\n",
              "    </tr>\n",
              "    <tr>\n",
              "      <th>7</th>\n",
              "      <td>353.wav</td>\n",
              "      <td>Negative</td>\n",
              "    </tr>\n",
              "    <tr>\n",
              "      <th>8</th>\n",
              "      <td>145.wav</td>\n",
              "      <td>Neutral</td>\n",
              "    </tr>\n",
              "    <tr>\n",
              "      <th>9</th>\n",
              "      <td>109.wav</td>\n",
              "      <td>Positive</td>\n",
              "    </tr>\n",
              "  </tbody>\n",
              "</table>\n",
              "</div>"
            ],
            "text/plain": [
              "  Filename     Class\n",
              "0  346.wav  Negative\n",
              "1  163.wav   Neutral\n",
              "2  288.wav  Negative\n",
              "3  279.wav  Negative\n",
              "4  244.wav  Negative\n",
              "5  273.wav  Negative\n",
              "6    5.wav  Positive\n",
              "7  353.wav  Negative\n",
              "8  145.wav   Neutral\n",
              "9  109.wav  Positive"
            ]
          },
          "metadata": {
            "tags": []
          },
          "execution_count": 49
        }
      ]
    },
    {
      "cell_type": "code",
      "metadata": {
        "colab": {
          "base_uri": "https://localhost:8080/",
          "height": 356
        },
        "id": "S89PSh2ue74e",
        "outputId": "e2fddcb2-4b6d-42bf-ba3b-86ebee7e04f2"
      },
      "source": [
        "data_f2txt=pd.DataFrame({'Filename': os.listdir(\"/content/drive/MyDrive/Colab Notebooks/code_challenge/HackNITP-21_audio_sentiment_analysis/TRAIN\"), 'text': text_list})\r\n",
        "data_f2txt.head(10)"
      ],
      "execution_count": 50,
      "outputs": [
        {
          "output_type": "execute_result",
          "data": {
            "text/html": [
              "<div>\n",
              "<style scoped>\n",
              "    .dataframe tbody tr th:only-of-type {\n",
              "        vertical-align: middle;\n",
              "    }\n",
              "\n",
              "    .dataframe tbody tr th {\n",
              "        vertical-align: top;\n",
              "    }\n",
              "\n",
              "    .dataframe thead th {\n",
              "        text-align: right;\n",
              "    }\n",
              "</style>\n",
              "<table border=\"1\" class=\"dataframe\">\n",
              "  <thead>\n",
              "    <tr style=\"text-align: right;\">\n",
              "      <th></th>\n",
              "      <th>Filename</th>\n",
              "      <th>text</th>\n",
              "    </tr>\n",
              "  </thead>\n",
              "  <tbody>\n",
              "    <tr>\n",
              "      <th>0</th>\n",
              "      <td>346.wav</td>\n",
              "      <td>how dare you say that</td>\n",
              "    </tr>\n",
              "    <tr>\n",
              "      <th>1</th>\n",
              "      <td>163.wav</td>\n",
              "      <td>you can do a lot better than this</td>\n",
              "    </tr>\n",
              "    <tr>\n",
              "      <th>2</th>\n",
              "      <td>288.wav</td>\n",
              "      <td>no one likes you</td>\n",
              "    </tr>\n",
              "    <tr>\n",
              "      <th>3</th>\n",
              "      <td>279.wav</td>\n",
              "      <td>you should be punished for this app</td>\n",
              "    </tr>\n",
              "    <tr>\n",
              "      <th>4</th>\n",
              "      <td>244.wav</td>\n",
              "      <td>you do not have common sense</td>\n",
              "    </tr>\n",
              "    <tr>\n",
              "      <th>5</th>\n",
              "      <td>273.wav</td>\n",
              "      <td>no one likes you Association</td>\n",
              "    </tr>\n",
              "    <tr>\n",
              "      <th>6</th>\n",
              "      <td>5.wav</td>\n",
              "      <td></td>\n",
              "    </tr>\n",
              "    <tr>\n",
              "      <th>7</th>\n",
              "      <td>353.wav</td>\n",
              "      <td></td>\n",
              "    </tr>\n",
              "    <tr>\n",
              "      <th>8</th>\n",
              "      <td>145.wav</td>\n",
              "      <td>your performance was good but you should impro...</td>\n",
              "    </tr>\n",
              "    <tr>\n",
              "      <th>9</th>\n",
              "      <td>109.wav</td>\n",
              "      <td>you have given a great response</td>\n",
              "    </tr>\n",
              "  </tbody>\n",
              "</table>\n",
              "</div>"
            ],
            "text/plain": [
              "  Filename                                               text\n",
              "0  346.wav                              how dare you say that\n",
              "1  163.wav                  you can do a lot better than this\n",
              "2  288.wav                                   no one likes you\n",
              "3  279.wav                you should be punished for this app\n",
              "4  244.wav                       you do not have common sense\n",
              "5  273.wav                       no one likes you Association\n",
              "6    5.wav                                                   \n",
              "7  353.wav                                                   \n",
              "8  145.wav  your performance was good but you should impro...\n",
              "9  109.wav                    you have given a great response"
            ]
          },
          "metadata": {
            "tags": []
          },
          "execution_count": 50
        }
      ]
    },
    {
      "cell_type": "code",
      "metadata": {
        "colab": {
          "base_uri": "https://localhost:8080/",
          "height": 356
        },
        "id": "J4BrSnyVe7zz",
        "outputId": "e40acc90-ac18-4e4b-b7f8-7a67254ff83d"
      },
      "source": [
        "data=pd.merge(data_f2txt, a_train_csv,on='Filename')\r\n",
        "data.head(10)"
      ],
      "execution_count": 51,
      "outputs": [
        {
          "output_type": "execute_result",
          "data": {
            "text/html": [
              "<div>\n",
              "<style scoped>\n",
              "    .dataframe tbody tr th:only-of-type {\n",
              "        vertical-align: middle;\n",
              "    }\n",
              "\n",
              "    .dataframe tbody tr th {\n",
              "        vertical-align: top;\n",
              "    }\n",
              "\n",
              "    .dataframe thead th {\n",
              "        text-align: right;\n",
              "    }\n",
              "</style>\n",
              "<table border=\"1\" class=\"dataframe\">\n",
              "  <thead>\n",
              "    <tr style=\"text-align: right;\">\n",
              "      <th></th>\n",
              "      <th>Filename</th>\n",
              "      <th>text</th>\n",
              "      <th>Class</th>\n",
              "    </tr>\n",
              "  </thead>\n",
              "  <tbody>\n",
              "    <tr>\n",
              "      <th>0</th>\n",
              "      <td>346.wav</td>\n",
              "      <td>how dare you say that</td>\n",
              "      <td>Negative</td>\n",
              "    </tr>\n",
              "    <tr>\n",
              "      <th>1</th>\n",
              "      <td>163.wav</td>\n",
              "      <td>you can do a lot better than this</td>\n",
              "      <td>Neutral</td>\n",
              "    </tr>\n",
              "    <tr>\n",
              "      <th>2</th>\n",
              "      <td>288.wav</td>\n",
              "      <td>no one likes you</td>\n",
              "      <td>Negative</td>\n",
              "    </tr>\n",
              "    <tr>\n",
              "      <th>3</th>\n",
              "      <td>279.wav</td>\n",
              "      <td>you should be punished for this app</td>\n",
              "      <td>Negative</td>\n",
              "    </tr>\n",
              "    <tr>\n",
              "      <th>4</th>\n",
              "      <td>244.wav</td>\n",
              "      <td>you do not have common sense</td>\n",
              "      <td>Negative</td>\n",
              "    </tr>\n",
              "    <tr>\n",
              "      <th>5</th>\n",
              "      <td>273.wav</td>\n",
              "      <td>no one likes you Association</td>\n",
              "      <td>Negative</td>\n",
              "    </tr>\n",
              "    <tr>\n",
              "      <th>6</th>\n",
              "      <td>5.wav</td>\n",
              "      <td></td>\n",
              "      <td>Positive</td>\n",
              "    </tr>\n",
              "    <tr>\n",
              "      <th>7</th>\n",
              "      <td>353.wav</td>\n",
              "      <td></td>\n",
              "      <td>Negative</td>\n",
              "    </tr>\n",
              "    <tr>\n",
              "      <th>8</th>\n",
              "      <td>145.wav</td>\n",
              "      <td>your performance was good but you should impro...</td>\n",
              "      <td>Neutral</td>\n",
              "    </tr>\n",
              "    <tr>\n",
              "      <th>9</th>\n",
              "      <td>109.wav</td>\n",
              "      <td>you have given a great response</td>\n",
              "      <td>Positive</td>\n",
              "    </tr>\n",
              "  </tbody>\n",
              "</table>\n",
              "</div>"
            ],
            "text/plain": [
              "  Filename                                               text     Class\n",
              "0  346.wav                              how dare you say that  Negative\n",
              "1  163.wav                  you can do a lot better than this   Neutral\n",
              "2  288.wav                                   no one likes you  Negative\n",
              "3  279.wav                you should be punished for this app  Negative\n",
              "4  244.wav                       you do not have common sense  Negative\n",
              "5  273.wav                       no one likes you Association  Negative\n",
              "6    5.wav                                                     Positive\n",
              "7  353.wav                                                     Negative\n",
              "8  145.wav  your performance was good but you should impro...   Neutral\n",
              "9  109.wav                    you have given a great response  Positive"
            ]
          },
          "metadata": {
            "tags": []
          },
          "execution_count": 51
        }
      ]
    },
    {
      "cell_type": "code",
      "metadata": {
        "colab": {
          "base_uri": "https://localhost:8080/",
          "height": 356
        },
        "id": "ouqVd26Ee7vO",
        "outputId": "8070845f-9113-4d13-bf92-86a090a1f1cf"
      },
      "source": [
        "d1_txt_cls=data.drop(['Filename'], axis = 1)\r\n",
        "d1_txt_cls.head(10)"
      ],
      "execution_count": 53,
      "outputs": [
        {
          "output_type": "execute_result",
          "data": {
            "text/html": [
              "<div>\n",
              "<style scoped>\n",
              "    .dataframe tbody tr th:only-of-type {\n",
              "        vertical-align: middle;\n",
              "    }\n",
              "\n",
              "    .dataframe tbody tr th {\n",
              "        vertical-align: top;\n",
              "    }\n",
              "\n",
              "    .dataframe thead th {\n",
              "        text-align: right;\n",
              "    }\n",
              "</style>\n",
              "<table border=\"1\" class=\"dataframe\">\n",
              "  <thead>\n",
              "    <tr style=\"text-align: right;\">\n",
              "      <th></th>\n",
              "      <th>text</th>\n",
              "      <th>Class</th>\n",
              "    </tr>\n",
              "  </thead>\n",
              "  <tbody>\n",
              "    <tr>\n",
              "      <th>0</th>\n",
              "      <td>how dare you say that</td>\n",
              "      <td>Negative</td>\n",
              "    </tr>\n",
              "    <tr>\n",
              "      <th>1</th>\n",
              "      <td>you can do a lot better than this</td>\n",
              "      <td>Neutral</td>\n",
              "    </tr>\n",
              "    <tr>\n",
              "      <th>2</th>\n",
              "      <td>no one likes you</td>\n",
              "      <td>Negative</td>\n",
              "    </tr>\n",
              "    <tr>\n",
              "      <th>3</th>\n",
              "      <td>you should be punished for this app</td>\n",
              "      <td>Negative</td>\n",
              "    </tr>\n",
              "    <tr>\n",
              "      <th>4</th>\n",
              "      <td>you do not have common sense</td>\n",
              "      <td>Negative</td>\n",
              "    </tr>\n",
              "    <tr>\n",
              "      <th>5</th>\n",
              "      <td>no one likes you Association</td>\n",
              "      <td>Negative</td>\n",
              "    </tr>\n",
              "    <tr>\n",
              "      <th>6</th>\n",
              "      <td></td>\n",
              "      <td>Positive</td>\n",
              "    </tr>\n",
              "    <tr>\n",
              "      <th>7</th>\n",
              "      <td></td>\n",
              "      <td>Negative</td>\n",
              "    </tr>\n",
              "    <tr>\n",
              "      <th>8</th>\n",
              "      <td>your performance was good but you should impro...</td>\n",
              "      <td>Neutral</td>\n",
              "    </tr>\n",
              "    <tr>\n",
              "      <th>9</th>\n",
              "      <td>you have given a great response</td>\n",
              "      <td>Positive</td>\n",
              "    </tr>\n",
              "  </tbody>\n",
              "</table>\n",
              "</div>"
            ],
            "text/plain": [
              "                                                text     Class\n",
              "0                              how dare you say that  Negative\n",
              "1                  you can do a lot better than this   Neutral\n",
              "2                                   no one likes you  Negative\n",
              "3                you should be punished for this app  Negative\n",
              "4                       you do not have common sense  Negative\n",
              "5                       no one likes you Association  Negative\n",
              "6                                                     Positive\n",
              "7                                                     Negative\n",
              "8  your performance was good but you should impro...   Neutral\n",
              "9                    you have given a great response  Positive"
            ]
          },
          "metadata": {
            "tags": []
          },
          "execution_count": 53
        }
      ]
    },
    {
      "cell_type": "code",
      "metadata": {
        "colab": {
          "base_uri": "https://localhost:8080/"
        },
        "id": "L89wFe0-e7qz",
        "outputId": "79464e0e-ce77-4341-8c79-738c85f01564"
      },
      "source": [
        "from sklearn.model_selection import train_test_split\r\n",
        "x= d1_txt_cls.iloc[:,0].values\r\n",
        "y= d1_txt_cls.iloc[:,-1].values\r\n",
        "print(x[:10])\r\n",
        "print(y[:10])"
      ],
      "execution_count": 55,
      "outputs": [
        {
          "output_type": "stream",
          "text": [
            "['how dare you say that' 'you can do a lot better than this'\n",
            " 'no one likes you' 'you should be punished for this app'\n",
            " 'you do not have common sense' 'no one likes you Association' '' ''\n",
            " 'your performance was good but you should improve more'\n",
            " 'you have given a great response']\n",
            "['Negative' 'Neutral' 'Negative' 'Negative' 'Negative' 'Negative'\n",
            " 'Positive' 'Negative' 'Neutral' 'Positive']\n"
          ],
          "name": "stdout"
        }
      ]
    },
    {
      "cell_type": "code",
      "metadata": {
        "colab": {
          "base_uri": "https://localhost:8080/"
        },
        "id": "qfdWvY9ce7l9",
        "outputId": "4ebff6fe-914b-4fe1-d48c-b90a348a934a"
      },
      "source": [
        "from sklearn.feature_extraction.text import TfidfVectorizer\r\n",
        "from sklearn.linear_model import SGDClassifier\r\n",
        "from sklearn.svm import LinearSVC\r\n",
        "t_vector =TfidfVectorizer()\r\n",
        "classifier=LinearSVC()\r\n",
        "C1=SGDClassifier()\r\n",
        "from sklearn.pipeline import Pipeline\r\n",
        "model = Pipeline([('vectorizer',t_vector),('classifier',classifier)])\r\n",
        "model.fit(x,y)"
      ],
      "execution_count": 56,
      "outputs": [
        {
          "output_type": "execute_result",
          "data": {
            "text/plain": [
              "Pipeline(memory=None,\n",
              "         steps=[('vectorizer',\n",
              "                 TfidfVectorizer(analyzer='word', binary=False,\n",
              "                                 decode_error='strict',\n",
              "                                 dtype=<class 'numpy.float64'>,\n",
              "                                 encoding='utf-8', input='content',\n",
              "                                 lowercase=True, max_df=1.0, max_features=None,\n",
              "                                 min_df=1, ngram_range=(1, 1), norm='l2',\n",
              "                                 preprocessor=None, smooth_idf=True,\n",
              "                                 stop_words=None, strip_accents=None,\n",
              "                                 sublinear_tf=False,\n",
              "                                 token_pattern='(?u)\\\\b\\\\w\\\\w+\\\\b',\n",
              "                                 tokenizer=None, use_idf=True,\n",
              "                                 vocabulary=None)),\n",
              "                ('classifier',\n",
              "                 LinearSVC(C=1.0, class_weight=None, dual=True,\n",
              "                           fit_intercept=True, intercept_scaling=1,\n",
              "                           loss='squared_hinge', max_iter=1000,\n",
              "                           multi_class='ovr', penalty='l2', random_state=None,\n",
              "                           tol=0.0001, verbose=0))],\n",
              "         verbose=False)"
            ]
          },
          "metadata": {
            "tags": []
          },
          "execution_count": 56
        }
      ]
    },
    {
      "cell_type": "code",
      "metadata": {
        "id": "WLfKGHvre7gs"
      },
      "source": [
        "#TESTING"
      ],
      "execution_count": null,
      "outputs": []
    },
    {
      "cell_type": "code",
      "metadata": {
        "colab": {
          "base_uri": "https://localhost:8080/"
        },
        "id": "QYj4eAq4e7bZ",
        "outputId": "a09fdb83-32e0-4c6c-c5d5-c2d9d0e57aca"
      },
      "source": [
        "dire_name=\"/content/drive/MyDrive/Colab Notebooks/code_challenge/HackNITP-21_audio_sentiment_analysis/TEST\"\r\n",
        "test_list = audio_to_text(dire_name)"
      ],
      "execution_count": 57,
      "outputs": [
        {
          "output_type": "stream",
          "text": [
            "Error in converting to text/content/drive/MyDrive/Colab Notebooks/code_challenge/HackNITP-21_audio_sentiment_analysis/TEST/131.wav...\n",
            "Error in converting to text/content/drive/MyDrive/Colab Notebooks/code_challenge/HackNITP-21_audio_sentiment_analysis/TEST/260.wav...\n",
            "executed /content/drive/MyDrive/Colab Notebooks/code_challenge/HackNITP-21_audio_sentiment_analysis/TEST/7.wav..\n",
            "executed /content/drive/MyDrive/Colab Notebooks/code_challenge/HackNITP-21_audio_sentiment_analysis/TEST/15.wav..\n",
            "executed /content/drive/MyDrive/Colab Notebooks/code_challenge/HackNITP-21_audio_sentiment_analysis/TEST/345.wav..\n",
            "executed /content/drive/MyDrive/Colab Notebooks/code_challenge/HackNITP-21_audio_sentiment_analysis/TEST/142.wav..\n",
            "Error in converting to text/content/drive/MyDrive/Colab Notebooks/code_challenge/HackNITP-21_audio_sentiment_analysis/TEST/311.wav...\n",
            "executed /content/drive/MyDrive/Colab Notebooks/code_challenge/HackNITP-21_audio_sentiment_analysis/TEST/72.wav..\n",
            "Error in converting to text/content/drive/MyDrive/Colab Notebooks/code_challenge/HackNITP-21_audio_sentiment_analysis/TEST/143.wav...\n",
            "executed /content/drive/MyDrive/Colab Notebooks/code_challenge/HackNITP-21_audio_sentiment_analysis/TEST/265.wav..\n",
            "Error in converting to text/content/drive/MyDrive/Colab Notebooks/code_challenge/HackNITP-21_audio_sentiment_analysis/TEST/206.wav...\n",
            "executed /content/drive/MyDrive/Colab Notebooks/code_challenge/HackNITP-21_audio_sentiment_analysis/TEST/199.wav..\n",
            "executed /content/drive/MyDrive/Colab Notebooks/code_challenge/HackNITP-21_audio_sentiment_analysis/TEST/19.wav..\n",
            "executed /content/drive/MyDrive/Colab Notebooks/code_challenge/HackNITP-21_audio_sentiment_analysis/TEST/322.wav..\n",
            "Error in converting to text/content/drive/MyDrive/Colab Notebooks/code_challenge/HackNITP-21_audio_sentiment_analysis/TEST/8.wav...\n",
            "Error in converting to text/content/drive/MyDrive/Colab Notebooks/code_challenge/HackNITP-21_audio_sentiment_analysis/TEST/152.wav...\n",
            "executed /content/drive/MyDrive/Colab Notebooks/code_challenge/HackNITP-21_audio_sentiment_analysis/TEST/165.wav..\n",
            "executed /content/drive/MyDrive/Colab Notebooks/code_challenge/HackNITP-21_audio_sentiment_analysis/TEST/157.wav..\n",
            "executed /content/drive/MyDrive/Colab Notebooks/code_challenge/HackNITP-21_audio_sentiment_analysis/TEST/238.wav..\n",
            "executed /content/drive/MyDrive/Colab Notebooks/code_challenge/HackNITP-21_audio_sentiment_analysis/TEST/94.wav..\n",
            "executed /content/drive/MyDrive/Colab Notebooks/code_challenge/HackNITP-21_audio_sentiment_analysis/TEST/315.wav..\n",
            "executed /content/drive/MyDrive/Colab Notebooks/code_challenge/HackNITP-21_audio_sentiment_analysis/TEST/225.wav..\n",
            "executed /content/drive/MyDrive/Colab Notebooks/code_challenge/HackNITP-21_audio_sentiment_analysis/TEST/351.wav..\n",
            "Error in converting to text/content/drive/MyDrive/Colab Notebooks/code_challenge/HackNITP-21_audio_sentiment_analysis/TEST/257.wav...\n",
            "executed /content/drive/MyDrive/Colab Notebooks/code_challenge/HackNITP-21_audio_sentiment_analysis/TEST/33.wav..\n",
            "executed /content/drive/MyDrive/Colab Notebooks/code_challenge/HackNITP-21_audio_sentiment_analysis/TEST/195.wav..\n",
            "executed /content/drive/MyDrive/Colab Notebooks/code_challenge/HackNITP-21_audio_sentiment_analysis/TEST/132.wav..\n",
            "executed /content/drive/MyDrive/Colab Notebooks/code_challenge/HackNITP-21_audio_sentiment_analysis/TEST/57.wav..\n",
            "Error in converting to text/content/drive/MyDrive/Colab Notebooks/code_challenge/HackNITP-21_audio_sentiment_analysis/TEST/59.wav...\n",
            "executed /content/drive/MyDrive/Colab Notebooks/code_challenge/HackNITP-21_audio_sentiment_analysis/TEST/66.wav..\n",
            "Error in converting to text/content/drive/MyDrive/Colab Notebooks/code_challenge/HackNITP-21_audio_sentiment_analysis/TEST/356.wav...\n",
            "Error in converting to text/content/drive/MyDrive/Colab Notebooks/code_challenge/HackNITP-21_audio_sentiment_analysis/TEST/173.wav...\n",
            "executed /content/drive/MyDrive/Colab Notebooks/code_challenge/HackNITP-21_audio_sentiment_analysis/TEST/135.wav..\n",
            "executed /content/drive/MyDrive/Colab Notebooks/code_challenge/HackNITP-21_audio_sentiment_analysis/TEST/81.wav..\n",
            "Error in converting to text/content/drive/MyDrive/Colab Notebooks/code_challenge/HackNITP-21_audio_sentiment_analysis/TEST/65.wav...\n",
            "Error in converting to text/content/drive/MyDrive/Colab Notebooks/code_challenge/HackNITP-21_audio_sentiment_analysis/TEST/134.wav...\n",
            "executed /content/drive/MyDrive/Colab Notebooks/code_challenge/HackNITP-21_audio_sentiment_analysis/TEST/88.wav..\n",
            "Error in converting to text/content/drive/MyDrive/Colab Notebooks/code_challenge/HackNITP-21_audio_sentiment_analysis/TEST/119.wav...\n",
            "Error in converting to text/content/drive/MyDrive/Colab Notebooks/code_challenge/HackNITP-21_audio_sentiment_analysis/TEST/35.wav...\n",
            "Error in converting to text/content/drive/MyDrive/Colab Notebooks/code_challenge/HackNITP-21_audio_sentiment_analysis/TEST/158.wav...\n",
            "executed /content/drive/MyDrive/Colab Notebooks/code_challenge/HackNITP-21_audio_sentiment_analysis/TEST/136.wav..\n",
            "executed /content/drive/MyDrive/Colab Notebooks/code_challenge/HackNITP-21_audio_sentiment_analysis/TEST/124.wav..\n",
            "executed /content/drive/MyDrive/Colab Notebooks/code_challenge/HackNITP-21_audio_sentiment_analysis/TEST/229.wav..\n",
            "executed /content/drive/MyDrive/Colab Notebooks/code_challenge/HackNITP-21_audio_sentiment_analysis/TEST/277.wav..\n",
            "Error in converting to text/content/drive/MyDrive/Colab Notebooks/code_challenge/HackNITP-21_audio_sentiment_analysis/TEST/92.wav...\n",
            "executed /content/drive/MyDrive/Colab Notebooks/code_challenge/HackNITP-21_audio_sentiment_analysis/TEST/325.wav..\n",
            "Error in converting to text/content/drive/MyDrive/Colab Notebooks/code_challenge/HackNITP-21_audio_sentiment_analysis/TEST/146.wav...\n",
            "Error in converting to text/content/drive/MyDrive/Colab Notebooks/code_challenge/HackNITP-21_audio_sentiment_analysis/TEST/125.wav...\n",
            "Error in converting to text/content/drive/MyDrive/Colab Notebooks/code_challenge/HackNITP-21_audio_sentiment_analysis/TEST/26.wav...\n",
            "Error in converting to text/content/drive/MyDrive/Colab Notebooks/code_challenge/HackNITP-21_audio_sentiment_analysis/TEST/95.wav...\n",
            "Error in converting to text/content/drive/MyDrive/Colab Notebooks/code_challenge/HackNITP-21_audio_sentiment_analysis/TEST/185.wav...\n",
            "executed /content/drive/MyDrive/Colab Notebooks/code_challenge/HackNITP-21_audio_sentiment_analysis/TEST/213.wav..\n",
            "Error in converting to text/content/drive/MyDrive/Colab Notebooks/code_challenge/HackNITP-21_audio_sentiment_analysis/TEST/98.wav...\n",
            "executed /content/drive/MyDrive/Colab Notebooks/code_challenge/HackNITP-21_audio_sentiment_analysis/TEST/45.wav..\n",
            "executed /content/drive/MyDrive/Colab Notebooks/code_challenge/HackNITP-21_audio_sentiment_analysis/TEST/25.wav..\n",
            "executed /content/drive/MyDrive/Colab Notebooks/code_challenge/HackNITP-21_audio_sentiment_analysis/TEST/75.wav..\n",
            "executed /content/drive/MyDrive/Colab Notebooks/code_challenge/HackNITP-21_audio_sentiment_analysis/TEST/141.wav..\n",
            "executed /content/drive/MyDrive/Colab Notebooks/code_challenge/HackNITP-21_audio_sentiment_analysis/TEST/249.wav..\n",
            "executed /content/drive/MyDrive/Colab Notebooks/code_challenge/HackNITP-21_audio_sentiment_analysis/TEST/309.wav..\n",
            "executed /content/drive/MyDrive/Colab Notebooks/code_challenge/HackNITP-21_audio_sentiment_analysis/TEST/34.wav..\n",
            "executed /content/drive/MyDrive/Colab Notebooks/code_challenge/HackNITP-21_audio_sentiment_analysis/TEST/202.wav..\n",
            "Error in converting to text/content/drive/MyDrive/Colab Notebooks/code_challenge/HackNITP-21_audio_sentiment_analysis/TEST/296.wav...\n",
            "Error in converting to text/content/drive/MyDrive/Colab Notebooks/code_challenge/HackNITP-21_audio_sentiment_analysis/TEST/341.wav...\n",
            "executed /content/drive/MyDrive/Colab Notebooks/code_challenge/HackNITP-21_audio_sentiment_analysis/TEST/178.wav..\n",
            "executed /content/drive/MyDrive/Colab Notebooks/code_challenge/HackNITP-21_audio_sentiment_analysis/TEST/27.wav..\n",
            "executed /content/drive/MyDrive/Colab Notebooks/code_challenge/HackNITP-21_audio_sentiment_analysis/TEST/42.wav..\n",
            "executed /content/drive/MyDrive/Colab Notebooks/code_challenge/HackNITP-21_audio_sentiment_analysis/TEST/294.wav..\n",
            "executed /content/drive/MyDrive/Colab Notebooks/code_challenge/HackNITP-21_audio_sentiment_analysis/TEST/205.wav..\n",
            "Error in converting to text/content/drive/MyDrive/Colab Notebooks/code_challenge/HackNITP-21_audio_sentiment_analysis/TEST/41.wav...\n",
            "executed /content/drive/MyDrive/Colab Notebooks/code_challenge/HackNITP-21_audio_sentiment_analysis/TEST/259.wav..\n",
            "Error in converting to text/content/drive/MyDrive/Colab Notebooks/code_challenge/HackNITP-21_audio_sentiment_analysis/TEST/56.wav...\n",
            "executed /content/drive/MyDrive/Colab Notebooks/code_challenge/HackNITP-21_audio_sentiment_analysis/TEST/180.wav..\n",
            "Error in converting to text/content/drive/MyDrive/Colab Notebooks/code_challenge/HackNITP-21_audio_sentiment_analysis/TEST/212.wav...\n",
            "Error in converting to text/content/drive/MyDrive/Colab Notebooks/code_challenge/HackNITP-21_audio_sentiment_analysis/TEST/128.wav...\n",
            "executed /content/drive/MyDrive/Colab Notebooks/code_challenge/HackNITP-21_audio_sentiment_analysis/TEST/267.wav..\n",
            "executed /content/drive/MyDrive/Colab Notebooks/code_challenge/HackNITP-21_audio_sentiment_analysis/TEST/268.wav..\n",
            "executed /content/drive/MyDrive/Colab Notebooks/code_challenge/HackNITP-21_audio_sentiment_analysis/TEST/298.wav..\n",
            "Error in converting to text/content/drive/MyDrive/Colab Notebooks/code_challenge/HackNITP-21_audio_sentiment_analysis/TEST/86.wav...\n",
            "executed /content/drive/MyDrive/Colab Notebooks/code_challenge/HackNITP-21_audio_sentiment_analysis/TEST/51.wav..\n",
            "Error in converting to text/content/drive/MyDrive/Colab Notebooks/code_challenge/HackNITP-21_audio_sentiment_analysis/TEST/176.wav...\n",
            "executed /content/drive/MyDrive/Colab Notebooks/code_challenge/HackNITP-21_audio_sentiment_analysis/TEST/13.wav..\n",
            "Error in converting to text/content/drive/MyDrive/Colab Notebooks/code_challenge/HackNITP-21_audio_sentiment_analysis/TEST/113.wav...\n",
            "executed /content/drive/MyDrive/Colab Notebooks/code_challenge/HackNITP-21_audio_sentiment_analysis/TEST/175.wav..\n",
            "executed /content/drive/MyDrive/Colab Notebooks/code_challenge/HackNITP-21_audio_sentiment_analysis/TEST/360.wav..\n",
            "executed /content/drive/MyDrive/Colab Notebooks/code_challenge/HackNITP-21_audio_sentiment_analysis/TEST/312.wav..\n",
            "Error in converting to text/content/drive/MyDrive/Colab Notebooks/code_challenge/HackNITP-21_audio_sentiment_analysis/TEST/359.wav...\n",
            "executed /content/drive/MyDrive/Colab Notebooks/code_challenge/HackNITP-21_audio_sentiment_analysis/TEST/112.wav..\n",
            "Error in converting to text/content/drive/MyDrive/Colab Notebooks/code_challenge/HackNITP-21_audio_sentiment_analysis/TEST/290.wav...\n",
            "Error in converting to text/content/drive/MyDrive/Colab Notebooks/code_challenge/HackNITP-21_audio_sentiment_analysis/TEST/320.wav...\n",
            "executed /content/drive/MyDrive/Colab Notebooks/code_challenge/HackNITP-21_audio_sentiment_analysis/TEST/4.wav..\n",
            "executed /content/drive/MyDrive/Colab Notebooks/code_challenge/HackNITP-21_audio_sentiment_analysis/TEST/138.wav..\n",
            "Error in converting to text/content/drive/MyDrive/Colab Notebooks/code_challenge/HackNITP-21_audio_sentiment_analysis/TEST/326.wav...\n",
            "executed /content/drive/MyDrive/Colab Notebooks/code_challenge/HackNITP-21_audio_sentiment_analysis/TEST/130.wav..\n",
            "executed /content/drive/MyDrive/Colab Notebooks/code_challenge/HackNITP-21_audio_sentiment_analysis/TEST/304.wav..\n",
            "Error in converting to text/content/drive/MyDrive/Colab Notebooks/code_challenge/HackNITP-21_audio_sentiment_analysis/TEST/335.wav...\n",
            "executed /content/drive/MyDrive/Colab Notebooks/code_challenge/HackNITP-21_audio_sentiment_analysis/TEST/300.wav..\n",
            "executed /content/drive/MyDrive/Colab Notebooks/code_challenge/HackNITP-21_audio_sentiment_analysis/TEST/358.wav..\n",
            "executed /content/drive/MyDrive/Colab Notebooks/code_challenge/HackNITP-21_audio_sentiment_analysis/TEST/123.wav..\n",
            "Error in converting to text/content/drive/MyDrive/Colab Notebooks/code_challenge/HackNITP-21_audio_sentiment_analysis/TEST/182.wav...\n",
            "Error in converting to text/content/drive/MyDrive/Colab Notebooks/code_challenge/HackNITP-21_audio_sentiment_analysis/TEST/194.wav...\n",
            "Error in converting to text/content/drive/MyDrive/Colab Notebooks/code_challenge/HackNITP-21_audio_sentiment_analysis/TEST/338.wav...\n",
            "executed /content/drive/MyDrive/Colab Notebooks/code_challenge/HackNITP-21_audio_sentiment_analysis/TEST/348.wav..\n",
            "executed /content/drive/MyDrive/Colab Notebooks/code_challenge/HackNITP-21_audio_sentiment_analysis/TEST/115.wav..\n",
            "Error in converting to text/content/drive/MyDrive/Colab Notebooks/code_challenge/HackNITP-21_audio_sentiment_analysis/TEST/23.wav...\n",
            "executed /content/drive/MyDrive/Colab Notebooks/code_challenge/HackNITP-21_audio_sentiment_analysis/TEST/84.wav..\n",
            "executed /content/drive/MyDrive/Colab Notebooks/code_challenge/HackNITP-21_audio_sentiment_analysis/TEST/61.wav..\n",
            "executed /content/drive/MyDrive/Colab Notebooks/code_challenge/HackNITP-21_audio_sentiment_analysis/TEST/219.wav..\n",
            "executed /content/drive/MyDrive/Colab Notebooks/code_challenge/HackNITP-21_audio_sentiment_analysis/TEST/87.wav..\n",
            "executed /content/drive/MyDrive/Colab Notebooks/code_challenge/HackNITP-21_audio_sentiment_analysis/TEST/285.wav..\n",
            "Error in converting to text/content/drive/MyDrive/Colab Notebooks/code_challenge/HackNITP-21_audio_sentiment_analysis/TEST/239.wav...\n"
          ],
          "name": "stdout"
        }
      ]
    },
    {
      "cell_type": "code",
      "metadata": {
        "colab": {
          "base_uri": "https://localhost:8080/",
          "height": 356
        },
        "id": "hXpwVhkye7Xk",
        "outputId": "7c46a845-44c6-4ccf-d472-a1e45d28ea38"
      },
      "source": [
        "data_test=pd.DataFrame({'Filename': os.listdir(\"/content/drive/MyDrive/Colab Notebooks/code_challenge/HackNITP-21_audio_sentiment_analysis/TEST\"), 'text': test_list})\r\n",
        "data_test.head(10)"
      ],
      "execution_count": 58,
      "outputs": [
        {
          "output_type": "execute_result",
          "data": {
            "text/html": [
              "<div>\n",
              "<style scoped>\n",
              "    .dataframe tbody tr th:only-of-type {\n",
              "        vertical-align: middle;\n",
              "    }\n",
              "\n",
              "    .dataframe tbody tr th {\n",
              "        vertical-align: top;\n",
              "    }\n",
              "\n",
              "    .dataframe thead th {\n",
              "        text-align: right;\n",
              "    }\n",
              "</style>\n",
              "<table border=\"1\" class=\"dataframe\">\n",
              "  <thead>\n",
              "    <tr style=\"text-align: right;\">\n",
              "      <th></th>\n",
              "      <th>Filename</th>\n",
              "      <th>text</th>\n",
              "    </tr>\n",
              "  </thead>\n",
              "  <tbody>\n",
              "    <tr>\n",
              "      <th>0</th>\n",
              "      <td>131.wav</td>\n",
              "      <td></td>\n",
              "    </tr>\n",
              "    <tr>\n",
              "      <th>1</th>\n",
              "      <td>260.wav</td>\n",
              "      <td></td>\n",
              "    </tr>\n",
              "    <tr>\n",
              "      <th>2</th>\n",
              "      <td>7.wav</td>\n",
              "      <td>you want a great leader</td>\n",
              "    </tr>\n",
              "    <tr>\n",
              "      <th>3</th>\n",
              "      <td>15.wav</td>\n",
              "      <td>I like your attitude</td>\n",
              "    </tr>\n",
              "    <tr>\n",
              "      <th>4</th>\n",
              "      <td>345.wav</td>\n",
              "      <td>what nonsense are you talking about</td>\n",
              "    </tr>\n",
              "    <tr>\n",
              "      <th>5</th>\n",
              "      <td>142.wav</td>\n",
              "      <td>you should provide him more respect</td>\n",
              "    </tr>\n",
              "    <tr>\n",
              "      <th>6</th>\n",
              "      <td>311.wav</td>\n",
              "      <td></td>\n",
              "    </tr>\n",
              "    <tr>\n",
              "      <th>7</th>\n",
              "      <td>72.wav</td>\n",
              "      <td>I believe you a lot</td>\n",
              "    </tr>\n",
              "    <tr>\n",
              "      <th>8</th>\n",
              "      <td>143.wav</td>\n",
              "      <td></td>\n",
              "    </tr>\n",
              "    <tr>\n",
              "      <th>9</th>\n",
              "      <td>265.wav</td>\n",
              "      <td>your wife is very unpleasant</td>\n",
              "    </tr>\n",
              "  </tbody>\n",
              "</table>\n",
              "</div>"
            ],
            "text/plain": [
              "  Filename                                 text\n",
              "0  131.wav                                     \n",
              "1  260.wav                                     \n",
              "2    7.wav              you want a great leader\n",
              "3   15.wav                 I like your attitude\n",
              "4  345.wav  what nonsense are you talking about\n",
              "5  142.wav  you should provide him more respect\n",
              "6  311.wav                                     \n",
              "7   72.wav                  I believe you a lot\n",
              "8  143.wav                                     \n",
              "9  265.wav         your wife is very unpleasant"
            ]
          },
          "metadata": {
            "tags": []
          },
          "execution_count": 58
        }
      ]
    },
    {
      "cell_type": "code",
      "metadata": {
        "colab": {
          "base_uri": "https://localhost:8080/"
        },
        "id": "zLzWY6fNe7TG",
        "outputId": "ac639971-d638-4410-e0b6-b2ee81460620"
      },
      "source": [
        "x_test=data_test.iloc[:,-1].values\r\n",
        "x_test[:10]"
      ],
      "execution_count": 59,
      "outputs": [
        {
          "output_type": "execute_result",
          "data": {
            "text/plain": [
              "array(['', '', 'you want a great leader', 'I like your attitude',\n",
              "       'what nonsense are you talking about',\n",
              "       'you should provide him more respect', '', 'I believe you a lot',\n",
              "       '', 'your wife is very unpleasant'], dtype=object)"
            ]
          },
          "metadata": {
            "tags": []
          },
          "execution_count": 59
        }
      ]
    },
    {
      "cell_type": "code",
      "metadata": {
        "id": "-EiCVLAZe7PE"
      },
      "source": [
        "#prediction"
      ],
      "execution_count": null,
      "outputs": []
    },
    {
      "cell_type": "code",
      "metadata": {
        "colab": {
          "base_uri": "https://localhost:8080/"
        },
        "id": "o354PBVCe7EO",
        "outputId": "c1ebc981-52d2-4534-caad-d534ea6b08bc"
      },
      "source": [
        "from sklearn.metrics import confusion_matrix\r\n",
        "predictions = model.predict(x_test)\r\n",
        "print(len(predictions))\r\n",
        "print(\"prediction\", predictions[:10])"
      ],
      "execution_count": 61,
      "outputs": [
        {
          "output_type": "stream",
          "text": [
            "110\n",
            "prediction ['Negative' 'Negative' 'Negative' 'Positive' 'Negative' 'Neutral'\n",
            " 'Negative' 'Positive' 'Negative' 'Positive']\n"
          ],
          "name": "stdout"
        }
      ]
    },
    {
      "cell_type": "code",
      "metadata": {
        "id": "L6mCPZEDn2oo"
      },
      "source": [
        "#submission"
      ],
      "execution_count": null,
      "outputs": []
    },
    {
      "cell_type": "code",
      "metadata": {
        "id": "peKLzQL9n2j0"
      },
      "source": [
        "submission= pd.DataFrame({'Filename': os.listdir('/content/drive/MyDrive/Colab Notebooks/code_challenge/HackNITP-21_audio_sentiment_analysis/TEST'), 'Class': predictions})\r\n",
        "submission.to_csv('/content/drive/MyDrive/Colab Notebooks/code_challenge/HackNITP-21_audio_sentiment_analysis/output_final.csv', index=False)"
      ],
      "execution_count": 62,
      "outputs": []
    },
    {
      "cell_type": "code",
      "metadata": {
        "colab": {
          "base_uri": "https://localhost:8080/",
          "height": 356
        },
        "id": "fZ_VLy93oVZV",
        "outputId": "258897d0-3675-44af-ad18-edfb79b31d08"
      },
      "source": [
        "sub_csv =pd.read_csv('/content/drive/MyDrive/Colab Notebooks/code_challenge/HackNITP-21_audio_sentiment_analysis/output_final.csv')\r\n",
        "sub_csv.head(10)"
      ],
      "execution_count": 64,
      "outputs": [
        {
          "output_type": "execute_result",
          "data": {
            "text/html": [
              "<div>\n",
              "<style scoped>\n",
              "    .dataframe tbody tr th:only-of-type {\n",
              "        vertical-align: middle;\n",
              "    }\n",
              "\n",
              "    .dataframe tbody tr th {\n",
              "        vertical-align: top;\n",
              "    }\n",
              "\n",
              "    .dataframe thead th {\n",
              "        text-align: right;\n",
              "    }\n",
              "</style>\n",
              "<table border=\"1\" class=\"dataframe\">\n",
              "  <thead>\n",
              "    <tr style=\"text-align: right;\">\n",
              "      <th></th>\n",
              "      <th>Filename</th>\n",
              "      <th>Class</th>\n",
              "    </tr>\n",
              "  </thead>\n",
              "  <tbody>\n",
              "    <tr>\n",
              "      <th>0</th>\n",
              "      <td>131.wav</td>\n",
              "      <td>Negative</td>\n",
              "    </tr>\n",
              "    <tr>\n",
              "      <th>1</th>\n",
              "      <td>260.wav</td>\n",
              "      <td>Negative</td>\n",
              "    </tr>\n",
              "    <tr>\n",
              "      <th>2</th>\n",
              "      <td>7.wav</td>\n",
              "      <td>Negative</td>\n",
              "    </tr>\n",
              "    <tr>\n",
              "      <th>3</th>\n",
              "      <td>15.wav</td>\n",
              "      <td>Positive</td>\n",
              "    </tr>\n",
              "    <tr>\n",
              "      <th>4</th>\n",
              "      <td>345.wav</td>\n",
              "      <td>Negative</td>\n",
              "    </tr>\n",
              "    <tr>\n",
              "      <th>5</th>\n",
              "      <td>142.wav</td>\n",
              "      <td>Neutral</td>\n",
              "    </tr>\n",
              "    <tr>\n",
              "      <th>6</th>\n",
              "      <td>311.wav</td>\n",
              "      <td>Negative</td>\n",
              "    </tr>\n",
              "    <tr>\n",
              "      <th>7</th>\n",
              "      <td>72.wav</td>\n",
              "      <td>Positive</td>\n",
              "    </tr>\n",
              "    <tr>\n",
              "      <th>8</th>\n",
              "      <td>143.wav</td>\n",
              "      <td>Negative</td>\n",
              "    </tr>\n",
              "    <tr>\n",
              "      <th>9</th>\n",
              "      <td>265.wav</td>\n",
              "      <td>Positive</td>\n",
              "    </tr>\n",
              "  </tbody>\n",
              "</table>\n",
              "</div>"
            ],
            "text/plain": [
              "  Filename     Class\n",
              "0  131.wav  Negative\n",
              "1  260.wav  Negative\n",
              "2    7.wav  Negative\n",
              "3   15.wav  Positive\n",
              "4  345.wav  Negative\n",
              "5  142.wav   Neutral\n",
              "6  311.wav  Negative\n",
              "7   72.wav  Positive\n",
              "8  143.wav  Negative\n",
              "9  265.wav  Positive"
            ]
          },
          "metadata": {
            "tags": []
          },
          "execution_count": 64
        }
      ]
    },
    {
      "cell_type": "code",
      "metadata": {
        "id": "F_ci6TBTof0o"
      },
      "source": [
        ""
      ],
      "execution_count": null,
      "outputs": []
    }
  ]
}