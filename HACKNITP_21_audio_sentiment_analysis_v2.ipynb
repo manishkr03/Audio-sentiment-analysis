{
  "nbformat": 4,
  "nbformat_minor": 0,
  "metadata": {
    "colab": {
      "name": "HACKNITP-21_audio_sentiment_analysis-v2.ipynb",
      "provenance": [],
      "collapsed_sections": []
    },
    "kernelspec": {
      "name": "python3",
      "display_name": "Python 3"
    },
    "accelerator": "GPU"
  },
  "cells": [
    {
      "cell_type": "code",
      "metadata": {
        "colab": {
          "base_uri": "https://localhost:8080/"
        },
        "id": "cnvRuDsJUHXQ",
        "outputId": "48c18131-066d-45db-8ba6-0ddf9041eca1"
      },
      "source": [
        "from google.colab import drive\r\n",
        "drive.mount('/content/drive/')"
      ],
      "execution_count": 1,
      "outputs": [
        {
          "output_type": "stream",
          "text": [
            "Mounted at /content/drive/\n"
          ],
          "name": "stdout"
        }
      ]
    },
    {
      "cell_type": "code",
      "metadata": {
        "id": "0rPgXHUgVAmA"
      },
      "source": [
        "#!ls /content/drive/MyDrive"
      ],
      "execution_count": 2,
      "outputs": []
    },
    {
      "cell_type": "code",
      "metadata": {
        "id": "1ILDfoYmUa_5"
      },
      "source": [
        "#!unzip \"/content/drive/MyDrive/hacknitp_winter_'21_ai_challenge-dataset.zip\" -d \"/content/drive/MyDrive/Colab Notebooks/code_challenge/HackNITP-21_audio_sentiment_analysis\""
      ],
      "execution_count": 3,
      "outputs": []
    },
    {
      "cell_type": "code",
      "metadata": {
        "colab": {
          "base_uri": "https://localhost:8080/"
        },
        "id": "ZNmehMz4fO3o",
        "outputId": "2f2511f3-6f0a-487e-c097-400140636c95"
      },
      "source": [
        "!pip3 install SpeechRecognition"
      ],
      "execution_count": 4,
      "outputs": [
        {
          "output_type": "stream",
          "text": [
            "Collecting SpeechRecognition\n",
            "\u001b[?25l  Downloading https://files.pythonhosted.org/packages/26/e1/7f5678cd94ec1234269d23756dbdaa4c8cfaed973412f88ae8adf7893a50/SpeechRecognition-3.8.1-py2.py3-none-any.whl (32.8MB)\n",
            "\u001b[K     |████████████████████████████████| 32.8MB 98kB/s \n",
            "\u001b[?25hInstalling collected packages: SpeechRecognition\n",
            "Successfully installed SpeechRecognition-3.8.1\n"
          ],
          "name": "stdout"
        }
      ]
    },
    {
      "cell_type": "code",
      "metadata": {
        "id": "ihwdnXxdUa3p"
      },
      "source": [
        "import speech_recognition as sr\r\n",
        "import glob\r\n",
        "import pandas as pd\r\n",
        "import numpy as np"
      ],
      "execution_count": 5,
      "outputs": []
    },
    {
      "cell_type": "code",
      "metadata": {
        "id": "ZZpBugMHUaz1"
      },
      "source": [
        "def audio(file_name):\r\n",
        "    r=sr.Recognizer()\r\n",
        "    with sr.AudioFile(file_name) as src:\r\n",
        "        audio_text= r.record(src)\r\n",
        "    return r.recognize_google(audio_data=audio_text, language='en-US')\r\n",
        "\r\n",
        "\r\n",
        "def audio_to_text(directory_name):\r\n",
        "    final_text=[]\r\n",
        "    for fname in glob.glob(directory_name+'/*.wav'):\r\n",
        "      try:\r\n",
        "        final_text.append(audio(fname))\r\n",
        "        print(\"executed {}..\".format(fname))\r\n",
        "      except:\r\n",
        "        print('Error in converting to text{}...'.format(fname))\r\n",
        "        final_text.append('')\r\n",
        "    return final_text"
      ],
      "execution_count": 6,
      "outputs": []
    },
    {
      "cell_type": "code",
      "metadata": {
        "colab": {
          "base_uri": "https://localhost:8080/"
        },
        "id": "pDEkB3Iue8b5",
        "outputId": "d8ff3749-9929-4b77-f0fa-be5e13ce021b"
      },
      "source": [
        "dir_name= \"/content/drive/MyDrive/Colab Notebooks/code_challenge/HackNITP-21_audio_sentiment_analysis/TRAIN\"\r\n",
        "text_list = audio_to_text(dir_name)"
      ],
      "execution_count": 7,
      "outputs": [
        {
          "output_type": "stream",
          "text": [
            "executed /content/drive/MyDrive/Colab Notebooks/code_challenge/HackNITP-21_audio_sentiment_analysis/TRAIN/283.wav..\n",
            "executed /content/drive/MyDrive/Colab Notebooks/code_challenge/HackNITP-21_audio_sentiment_analysis/TRAIN/279.wav..\n",
            "executed /content/drive/MyDrive/Colab Notebooks/code_challenge/HackNITP-21_audio_sentiment_analysis/TRAIN/120.wav..\n",
            "Error in converting to text/content/drive/MyDrive/Colab Notebooks/code_challenge/HackNITP-21_audio_sentiment_analysis/TRAIN/77.wav...\n",
            "executed /content/drive/MyDrive/Colab Notebooks/code_challenge/HackNITP-21_audio_sentiment_analysis/TRAIN/154.wav..\n",
            "executed /content/drive/MyDrive/Colab Notebooks/code_challenge/HackNITP-21_audio_sentiment_analysis/TRAIN/85.wav..\n",
            "executed /content/drive/MyDrive/Colab Notebooks/code_challenge/HackNITP-21_audio_sentiment_analysis/TRAIN/207.wav..\n",
            "executed /content/drive/MyDrive/Colab Notebooks/code_challenge/HackNITP-21_audio_sentiment_analysis/TRAIN/145.wav..\n",
            "Error in converting to text/content/drive/MyDrive/Colab Notebooks/code_challenge/HackNITP-21_audio_sentiment_analysis/TRAIN/38.wav...\n",
            "executed /content/drive/MyDrive/Colab Notebooks/code_challenge/HackNITP-21_audio_sentiment_analysis/TRAIN/73.wav..\n",
            "executed /content/drive/MyDrive/Colab Notebooks/code_challenge/HackNITP-21_audio_sentiment_analysis/TRAIN/331.wav..\n",
            "executed /content/drive/MyDrive/Colab Notebooks/code_challenge/HackNITP-21_audio_sentiment_analysis/TRAIN/291.wav..\n",
            "executed /content/drive/MyDrive/Colab Notebooks/code_challenge/HackNITP-21_audio_sentiment_analysis/TRAIN/327.wav..\n",
            "executed /content/drive/MyDrive/Colab Notebooks/code_challenge/HackNITP-21_audio_sentiment_analysis/TRAIN/103.wav..\n",
            "executed /content/drive/MyDrive/Colab Notebooks/code_challenge/HackNITP-21_audio_sentiment_analysis/TRAIN/166.wav..\n",
            "Error in converting to text/content/drive/MyDrive/Colab Notebooks/code_challenge/HackNITP-21_audio_sentiment_analysis/TRAIN/110.wav...\n",
            "executed /content/drive/MyDrive/Colab Notebooks/code_challenge/HackNITP-21_audio_sentiment_analysis/TRAIN/36.wav..\n",
            "Error in converting to text/content/drive/MyDrive/Colab Notebooks/code_challenge/HackNITP-21_audio_sentiment_analysis/TRAIN/47.wav...\n",
            "Error in converting to text/content/drive/MyDrive/Colab Notebooks/code_challenge/HackNITP-21_audio_sentiment_analysis/TRAIN/299.wav...\n",
            "executed /content/drive/MyDrive/Colab Notebooks/code_challenge/HackNITP-21_audio_sentiment_analysis/TRAIN/253.wav..\n",
            "executed /content/drive/MyDrive/Colab Notebooks/code_challenge/HackNITP-21_audio_sentiment_analysis/TRAIN/126.wav..\n",
            "executed /content/drive/MyDrive/Colab Notebooks/code_challenge/HackNITP-21_audio_sentiment_analysis/TRAIN/144.wav..\n",
            "Error in converting to text/content/drive/MyDrive/Colab Notebooks/code_challenge/HackNITP-21_audio_sentiment_analysis/TRAIN/224.wav...\n",
            "Error in converting to text/content/drive/MyDrive/Colab Notebooks/code_challenge/HackNITP-21_audio_sentiment_analysis/TRAIN/230.wav...\n",
            "executed /content/drive/MyDrive/Colab Notebooks/code_challenge/HackNITP-21_audio_sentiment_analysis/TRAIN/156.wav..\n",
            "Error in converting to text/content/drive/MyDrive/Colab Notebooks/code_challenge/HackNITP-21_audio_sentiment_analysis/TRAIN/203.wav...\n",
            "executed /content/drive/MyDrive/Colab Notebooks/code_challenge/HackNITP-21_audio_sentiment_analysis/TRAIN/228.wav..\n",
            "executed /content/drive/MyDrive/Colab Notebooks/code_challenge/HackNITP-21_audio_sentiment_analysis/TRAIN/241.wav..\n",
            "executed /content/drive/MyDrive/Colab Notebooks/code_challenge/HackNITP-21_audio_sentiment_analysis/TRAIN/333.wav..\n",
            "executed /content/drive/MyDrive/Colab Notebooks/code_challenge/HackNITP-21_audio_sentiment_analysis/TRAIN/190.wav..\n",
            "executed /content/drive/MyDrive/Colab Notebooks/code_challenge/HackNITP-21_audio_sentiment_analysis/TRAIN/186.wav..\n",
            "executed /content/drive/MyDrive/Colab Notebooks/code_challenge/HackNITP-21_audio_sentiment_analysis/TRAIN/262.wav..\n",
            "executed /content/drive/MyDrive/Colab Notebooks/code_challenge/HackNITP-21_audio_sentiment_analysis/TRAIN/172.wav..\n",
            "executed /content/drive/MyDrive/Colab Notebooks/code_challenge/HackNITP-21_audio_sentiment_analysis/TRAIN/16.wav..\n",
            "executed /content/drive/MyDrive/Colab Notebooks/code_challenge/HackNITP-21_audio_sentiment_analysis/TRAIN/282.wav..\n",
            "executed /content/drive/MyDrive/Colab Notebooks/code_challenge/HackNITP-21_audio_sentiment_analysis/TRAIN/58.wav..\n",
            "executed /content/drive/MyDrive/Colab Notebooks/code_challenge/HackNITP-21_audio_sentiment_analysis/TRAIN/270.wav..\n",
            "Error in converting to text/content/drive/MyDrive/Colab Notebooks/code_challenge/HackNITP-21_audio_sentiment_analysis/TRAIN/317.wav...\n",
            "executed /content/drive/MyDrive/Colab Notebooks/code_challenge/HackNITP-21_audio_sentiment_analysis/TRAIN/310.wav..\n",
            "executed /content/drive/MyDrive/Colab Notebooks/code_challenge/HackNITP-21_audio_sentiment_analysis/TRAIN/90.wav..\n",
            "executed /content/drive/MyDrive/Colab Notebooks/code_challenge/HackNITP-21_audio_sentiment_analysis/TRAIN/111.wav..\n",
            "Error in converting to text/content/drive/MyDrive/Colab Notebooks/code_challenge/HackNITP-21_audio_sentiment_analysis/TRAIN/287.wav...\n",
            "executed /content/drive/MyDrive/Colab Notebooks/code_challenge/HackNITP-21_audio_sentiment_analysis/TRAIN/97.wav..\n",
            "executed /content/drive/MyDrive/Colab Notebooks/code_challenge/HackNITP-21_audio_sentiment_analysis/TRAIN/160.wav..\n",
            "Error in converting to text/content/drive/MyDrive/Colab Notebooks/code_challenge/HackNITP-21_audio_sentiment_analysis/TRAIN/17.wav...\n",
            "Error in converting to text/content/drive/MyDrive/Colab Notebooks/code_challenge/HackNITP-21_audio_sentiment_analysis/TRAIN/11.wav...\n",
            "executed /content/drive/MyDrive/Colab Notebooks/code_challenge/HackNITP-21_audio_sentiment_analysis/TRAIN/346.wav..\n",
            "executed /content/drive/MyDrive/Colab Notebooks/code_challenge/HackNITP-21_audio_sentiment_analysis/TRAIN/189.wav..\n",
            "executed /content/drive/MyDrive/Colab Notebooks/code_challenge/HackNITP-21_audio_sentiment_analysis/TRAIN/106.wav..\n",
            "executed /content/drive/MyDrive/Colab Notebooks/code_challenge/HackNITP-21_audio_sentiment_analysis/TRAIN/240.wav..\n",
            "Error in converting to text/content/drive/MyDrive/Colab Notebooks/code_challenge/HackNITP-21_audio_sentiment_analysis/TRAIN/302.wav...\n",
            "Error in converting to text/content/drive/MyDrive/Colab Notebooks/code_challenge/HackNITP-21_audio_sentiment_analysis/TRAIN/89.wav...\n",
            "executed /content/drive/MyDrive/Colab Notebooks/code_challenge/HackNITP-21_audio_sentiment_analysis/TRAIN/226.wav..\n",
            "Error in converting to text/content/drive/MyDrive/Colab Notebooks/code_challenge/HackNITP-21_audio_sentiment_analysis/TRAIN/284.wav...\n",
            "executed /content/drive/MyDrive/Colab Notebooks/code_challenge/HackNITP-21_audio_sentiment_analysis/TRAIN/313.wav..\n",
            "executed /content/drive/MyDrive/Colab Notebooks/code_challenge/HackNITP-21_audio_sentiment_analysis/TRAIN/69.wav..\n",
            "executed /content/drive/MyDrive/Colab Notebooks/code_challenge/HackNITP-21_audio_sentiment_analysis/TRAIN/181.wav..\n",
            "executed /content/drive/MyDrive/Colab Notebooks/code_challenge/HackNITP-21_audio_sentiment_analysis/TRAIN/216.wav..\n",
            "executed /content/drive/MyDrive/Colab Notebooks/code_challenge/HackNITP-21_audio_sentiment_analysis/TRAIN/301.wav..\n",
            "executed /content/drive/MyDrive/Colab Notebooks/code_challenge/HackNITP-21_audio_sentiment_analysis/TRAIN/192.wav..\n",
            "Error in converting to text/content/drive/MyDrive/Colab Notebooks/code_challenge/HackNITP-21_audio_sentiment_analysis/TRAIN/344.wav...\n",
            "Error in converting to text/content/drive/MyDrive/Colab Notebooks/code_challenge/HackNITP-21_audio_sentiment_analysis/TRAIN/242.wav...\n",
            "executed /content/drive/MyDrive/Colab Notebooks/code_challenge/HackNITP-21_audio_sentiment_analysis/TRAIN/43.wav..\n",
            "executed /content/drive/MyDrive/Colab Notebooks/code_challenge/HackNITP-21_audio_sentiment_analysis/TRAIN/153.wav..\n",
            "executed /content/drive/MyDrive/Colab Notebooks/code_challenge/HackNITP-21_audio_sentiment_analysis/TRAIN/163.wav..\n",
            "executed /content/drive/MyDrive/Colab Notebooks/code_challenge/HackNITP-21_audio_sentiment_analysis/TRAIN/273.wav..\n",
            "executed /content/drive/MyDrive/Colab Notebooks/code_challenge/HackNITP-21_audio_sentiment_analysis/TRAIN/6.wav..\n",
            "executed /content/drive/MyDrive/Colab Notebooks/code_challenge/HackNITP-21_audio_sentiment_analysis/TRAIN/169.wav..\n",
            "Error in converting to text/content/drive/MyDrive/Colab Notebooks/code_challenge/HackNITP-21_audio_sentiment_analysis/TRAIN/293.wav...\n",
            "Error in converting to text/content/drive/MyDrive/Colab Notebooks/code_challenge/HackNITP-21_audio_sentiment_analysis/TRAIN/305.wav...\n",
            "executed /content/drive/MyDrive/Colab Notebooks/code_challenge/HackNITP-21_audio_sentiment_analysis/TRAIN/177.wav..\n",
            "executed /content/drive/MyDrive/Colab Notebooks/code_challenge/HackNITP-21_audio_sentiment_analysis/TRAIN/210.wav..\n",
            "executed /content/drive/MyDrive/Colab Notebooks/code_challenge/HackNITP-21_audio_sentiment_analysis/TRAIN/129.wav..\n",
            "Error in converting to text/content/drive/MyDrive/Colab Notebooks/code_challenge/HackNITP-21_audio_sentiment_analysis/TRAIN/248.wav...\n",
            "executed /content/drive/MyDrive/Colab Notebooks/code_challenge/HackNITP-21_audio_sentiment_analysis/TRAIN/1.wav..\n",
            "executed /content/drive/MyDrive/Colab Notebooks/code_challenge/HackNITP-21_audio_sentiment_analysis/TRAIN/108.wav..\n",
            "executed /content/drive/MyDrive/Colab Notebooks/code_challenge/HackNITP-21_audio_sentiment_analysis/TRAIN/289.wav..\n",
            "Error in converting to text/content/drive/MyDrive/Colab Notebooks/code_challenge/HackNITP-21_audio_sentiment_analysis/TRAIN/62.wav...\n",
            "executed /content/drive/MyDrive/Colab Notebooks/code_challenge/HackNITP-21_audio_sentiment_analysis/TRAIN/55.wav..\n",
            "Error in converting to text/content/drive/MyDrive/Colab Notebooks/code_challenge/HackNITP-21_audio_sentiment_analysis/TRAIN/218.wav...\n",
            "executed /content/drive/MyDrive/Colab Notebooks/code_challenge/HackNITP-21_audio_sentiment_analysis/TRAIN/10.wav..\n",
            "executed /content/drive/MyDrive/Colab Notebooks/code_challenge/HackNITP-21_audio_sentiment_analysis/TRAIN/168.wav..\n",
            "executed /content/drive/MyDrive/Colab Notebooks/code_challenge/HackNITP-21_audio_sentiment_analysis/TRAIN/211.wav..\n",
            "Error in converting to text/content/drive/MyDrive/Colab Notebooks/code_challenge/HackNITP-21_audio_sentiment_analysis/TRAIN/71.wav...\n",
            "executed /content/drive/MyDrive/Colab Notebooks/code_challenge/HackNITP-21_audio_sentiment_analysis/TRAIN/9.wav..\n",
            "executed /content/drive/MyDrive/Colab Notebooks/code_challenge/HackNITP-21_audio_sentiment_analysis/TRAIN/340.wav..\n",
            "executed /content/drive/MyDrive/Colab Notebooks/code_challenge/HackNITP-21_audio_sentiment_analysis/TRAIN/288.wav..\n",
            "executed /content/drive/MyDrive/Colab Notebooks/code_challenge/HackNITP-21_audio_sentiment_analysis/TRAIN/37.wav..\n",
            "Error in converting to text/content/drive/MyDrive/Colab Notebooks/code_challenge/HackNITP-21_audio_sentiment_analysis/TRAIN/5.wav...\n",
            "executed /content/drive/MyDrive/Colab Notebooks/code_challenge/HackNITP-21_audio_sentiment_analysis/TRAIN/244.wav..\n",
            "Error in converting to text/content/drive/MyDrive/Colab Notebooks/code_challenge/HackNITP-21_audio_sentiment_analysis/TRAIN/50.wav...\n",
            "executed /content/drive/MyDrive/Colab Notebooks/code_challenge/HackNITP-21_audio_sentiment_analysis/TRAIN/67.wav..\n",
            "executed /content/drive/MyDrive/Colab Notebooks/code_challenge/HackNITP-21_audio_sentiment_analysis/TRAIN/352.wav..\n",
            "executed /content/drive/MyDrive/Colab Notebooks/code_challenge/HackNITP-21_audio_sentiment_analysis/TRAIN/223.wav..\n",
            "executed /content/drive/MyDrive/Colab Notebooks/code_challenge/HackNITP-21_audio_sentiment_analysis/TRAIN/328.wav..\n",
            "Error in converting to text/content/drive/MyDrive/Colab Notebooks/code_challenge/HackNITP-21_audio_sentiment_analysis/TRAIN/107.wav...\n",
            "executed /content/drive/MyDrive/Colab Notebooks/code_challenge/HackNITP-21_audio_sentiment_analysis/TRAIN/256.wav..\n",
            "executed /content/drive/MyDrive/Colab Notebooks/code_challenge/HackNITP-21_audio_sentiment_analysis/TRAIN/52.wav..\n",
            "executed /content/drive/MyDrive/Colab Notebooks/code_challenge/HackNITP-21_audio_sentiment_analysis/TRAIN/187.wav..\n",
            "executed /content/drive/MyDrive/Colab Notebooks/code_challenge/HackNITP-21_audio_sentiment_analysis/TRAIN/337.wav..\n",
            "Error in converting to text/content/drive/MyDrive/Colab Notebooks/code_challenge/HackNITP-21_audio_sentiment_analysis/TRAIN/350.wav...\n",
            "executed /content/drive/MyDrive/Colab Notebooks/code_challenge/HackNITP-21_audio_sentiment_analysis/TRAIN/60.wav..\n",
            "Error in converting to text/content/drive/MyDrive/Colab Notebooks/code_challenge/HackNITP-21_audio_sentiment_analysis/TRAIN/161.wav...\n",
            "executed /content/drive/MyDrive/Colab Notebooks/code_challenge/HackNITP-21_audio_sentiment_analysis/TRAIN/243.wav..\n",
            "executed /content/drive/MyDrive/Colab Notebooks/code_challenge/HackNITP-21_audio_sentiment_analysis/TRAIN/343.wav..\n",
            "executed /content/drive/MyDrive/Colab Notebooks/code_challenge/HackNITP-21_audio_sentiment_analysis/TRAIN/148.wav..\n",
            "Error in converting to text/content/drive/MyDrive/Colab Notebooks/code_challenge/HackNITP-21_audio_sentiment_analysis/TRAIN/14.wav...\n",
            "Error in converting to text/content/drive/MyDrive/Colab Notebooks/code_challenge/HackNITP-21_audio_sentiment_analysis/TRAIN/29.wav...\n",
            "executed /content/drive/MyDrive/Colab Notebooks/code_challenge/HackNITP-21_audio_sentiment_analysis/TRAIN/79.wav..\n",
            "executed /content/drive/MyDrive/Colab Notebooks/code_challenge/HackNITP-21_audio_sentiment_analysis/TRAIN/121.wav..\n",
            "executed /content/drive/MyDrive/Colab Notebooks/code_challenge/HackNITP-21_audio_sentiment_analysis/TRAIN/307.wav..\n",
            "executed /content/drive/MyDrive/Colab Notebooks/code_challenge/HackNITP-21_audio_sentiment_analysis/TRAIN/214.wav..\n",
            "Error in converting to text/content/drive/MyDrive/Colab Notebooks/code_challenge/HackNITP-21_audio_sentiment_analysis/TRAIN/101.wav...\n",
            "executed /content/drive/MyDrive/Colab Notebooks/code_challenge/HackNITP-21_audio_sentiment_analysis/TRAIN/196.wav..\n",
            "executed /content/drive/MyDrive/Colab Notebooks/code_challenge/HackNITP-21_audio_sentiment_analysis/TRAIN/24.wav..\n",
            "executed /content/drive/MyDrive/Colab Notebooks/code_challenge/HackNITP-21_audio_sentiment_analysis/TRAIN/30.wav..\n",
            "Error in converting to text/content/drive/MyDrive/Colab Notebooks/code_challenge/HackNITP-21_audio_sentiment_analysis/TRAIN/353.wav...\n",
            "executed /content/drive/MyDrive/Colab Notebooks/code_challenge/HackNITP-21_audio_sentiment_analysis/TRAIN/303.wav..\n",
            "Error in converting to text/content/drive/MyDrive/Colab Notebooks/code_challenge/HackNITP-21_audio_sentiment_analysis/TRAIN/74.wav...\n",
            "executed /content/drive/MyDrive/Colab Notebooks/code_challenge/HackNITP-21_audio_sentiment_analysis/TRAIN/93.wav..\n",
            "Error in converting to text/content/drive/MyDrive/Colab Notebooks/code_challenge/HackNITP-21_audio_sentiment_analysis/TRAIN/53.wav...\n",
            "Error in converting to text/content/drive/MyDrive/Colab Notebooks/code_challenge/HackNITP-21_audio_sentiment_analysis/TRAIN/137.wav...\n",
            "executed /content/drive/MyDrive/Colab Notebooks/code_challenge/HackNITP-21_audio_sentiment_analysis/TRAIN/319.wav..\n",
            "executed /content/drive/MyDrive/Colab Notebooks/code_challenge/HackNITP-21_audio_sentiment_analysis/TRAIN/40.wav..\n",
            "Error in converting to text/content/drive/MyDrive/Colab Notebooks/code_challenge/HackNITP-21_audio_sentiment_analysis/TRAIN/68.wav...\n",
            "executed /content/drive/MyDrive/Colab Notebooks/code_challenge/HackNITP-21_audio_sentiment_analysis/TRAIN/63.wav..\n",
            "executed /content/drive/MyDrive/Colab Notebooks/code_challenge/HackNITP-21_audio_sentiment_analysis/TRAIN/21.wav..\n",
            "Error in converting to text/content/drive/MyDrive/Colab Notebooks/code_challenge/HackNITP-21_audio_sentiment_analysis/TRAIN/323.wav...\n",
            "executed /content/drive/MyDrive/Colab Notebooks/code_challenge/HackNITP-21_audio_sentiment_analysis/TRAIN/198.wav..\n",
            "Error in converting to text/content/drive/MyDrive/Colab Notebooks/code_challenge/HackNITP-21_audio_sentiment_analysis/TRAIN/266.wav...\n",
            "executed /content/drive/MyDrive/Colab Notebooks/code_challenge/HackNITP-21_audio_sentiment_analysis/TRAIN/232.wav..\n",
            "executed /content/drive/MyDrive/Colab Notebooks/code_challenge/HackNITP-21_audio_sentiment_analysis/TRAIN/109.wav..\n",
            "executed /content/drive/MyDrive/Colab Notebooks/code_challenge/HackNITP-21_audio_sentiment_analysis/TRAIN/127.wav..\n",
            "executed /content/drive/MyDrive/Colab Notebooks/code_challenge/HackNITP-21_audio_sentiment_analysis/TRAIN/342.wav..\n",
            "Error in converting to text/content/drive/MyDrive/Colab Notebooks/code_challenge/HackNITP-21_audio_sentiment_analysis/TRAIN/140.wav...\n",
            "Error in converting to text/content/drive/MyDrive/Colab Notebooks/code_challenge/HackNITP-21_audio_sentiment_analysis/TRAIN/122.wav...\n",
            "executed /content/drive/MyDrive/Colab Notebooks/code_challenge/HackNITP-21_audio_sentiment_analysis/TRAIN/150.wav..\n",
            "Error in converting to text/content/drive/MyDrive/Colab Notebooks/code_challenge/HackNITP-21_audio_sentiment_analysis/TRAIN/188.wav...\n",
            "Error in converting to text/content/drive/MyDrive/Colab Notebooks/code_challenge/HackNITP-21_audio_sentiment_analysis/TRAIN/347.wav...\n",
            "executed /content/drive/MyDrive/Colab Notebooks/code_challenge/HackNITP-21_audio_sentiment_analysis/TRAIN/261.wav..\n",
            "executed /content/drive/MyDrive/Colab Notebooks/code_challenge/HackNITP-21_audio_sentiment_analysis/TRAIN/234.wav..\n",
            "executed /content/drive/MyDrive/Colab Notebooks/code_challenge/HackNITP-21_audio_sentiment_analysis/TRAIN/334.wav..\n",
            "executed /content/drive/MyDrive/Colab Notebooks/code_challenge/HackNITP-21_audio_sentiment_analysis/TRAIN/64.wav..\n",
            "executed /content/drive/MyDrive/Colab Notebooks/code_challenge/HackNITP-21_audio_sentiment_analysis/TRAIN/247.wav..\n",
            "Error in converting to text/content/drive/MyDrive/Colab Notebooks/code_challenge/HackNITP-21_audio_sentiment_analysis/TRAIN/32.wav...\n",
            "executed /content/drive/MyDrive/Colab Notebooks/code_challenge/HackNITP-21_audio_sentiment_analysis/TRAIN/349.wav..\n",
            "executed /content/drive/MyDrive/Colab Notebooks/code_challenge/HackNITP-21_audio_sentiment_analysis/TRAIN/151.wav..\n",
            "executed /content/drive/MyDrive/Colab Notebooks/code_challenge/HackNITP-21_audio_sentiment_analysis/TRAIN/258.wav..\n",
            "executed /content/drive/MyDrive/Colab Notebooks/code_challenge/HackNITP-21_audio_sentiment_analysis/TRAIN/252.wav..\n",
            "Error in converting to text/content/drive/MyDrive/Colab Notebooks/code_challenge/HackNITP-21_audio_sentiment_analysis/TRAIN/275.wav...\n",
            "executed /content/drive/MyDrive/Colab Notebooks/code_challenge/HackNITP-21_audio_sentiment_analysis/TRAIN/193.wav..\n",
            "executed /content/drive/MyDrive/Colab Notebooks/code_challenge/HackNITP-21_audio_sentiment_analysis/TRAIN/22.wav..\n",
            "executed /content/drive/MyDrive/Colab Notebooks/code_challenge/HackNITP-21_audio_sentiment_analysis/TRAIN/237.wav..\n",
            "Error in converting to text/content/drive/MyDrive/Colab Notebooks/code_challenge/HackNITP-21_audio_sentiment_analysis/TRAIN/104.wav...\n",
            "executed /content/drive/MyDrive/Colab Notebooks/code_challenge/HackNITP-21_audio_sentiment_analysis/TRAIN/231.wav..\n",
            "Error in converting to text/content/drive/MyDrive/Colab Notebooks/code_challenge/HackNITP-21_audio_sentiment_analysis/TRAIN/209.wav...\n",
            "Error in converting to text/content/drive/MyDrive/Colab Notebooks/code_challenge/HackNITP-21_audio_sentiment_analysis/TRAIN/20.wav...\n",
            "executed /content/drive/MyDrive/Colab Notebooks/code_challenge/HackNITP-21_audio_sentiment_analysis/TRAIN/357.wav..\n",
            "executed /content/drive/MyDrive/Colab Notebooks/code_challenge/HackNITP-21_audio_sentiment_analysis/TRAIN/255.wav..\n",
            "Error in converting to text/content/drive/MyDrive/Colab Notebooks/code_challenge/HackNITP-21_audio_sentiment_analysis/TRAIN/254.wav...\n",
            "Error in converting to text/content/drive/MyDrive/Colab Notebooks/code_challenge/HackNITP-21_audio_sentiment_analysis/TRAIN/155.wav...\n",
            "Error in converting to text/content/drive/MyDrive/Colab Notebooks/code_challenge/HackNITP-21_audio_sentiment_analysis/TRAIN/245.wav...\n",
            "executed /content/drive/MyDrive/Colab Notebooks/code_challenge/HackNITP-21_audio_sentiment_analysis/TRAIN/54.wav..\n",
            "executed /content/drive/MyDrive/Colab Notebooks/code_challenge/HackNITP-21_audio_sentiment_analysis/TRAIN/280.wav..\n",
            "Error in converting to text/content/drive/MyDrive/Colab Notebooks/code_challenge/HackNITP-21_audio_sentiment_analysis/TRAIN/263.wav...\n",
            "executed /content/drive/MyDrive/Colab Notebooks/code_challenge/HackNITP-21_audio_sentiment_analysis/TRAIN/330.wav..\n",
            "executed /content/drive/MyDrive/Colab Notebooks/code_challenge/HackNITP-21_audio_sentiment_analysis/TRAIN/318.wav..\n",
            "executed /content/drive/MyDrive/Colab Notebooks/code_challenge/HackNITP-21_audio_sentiment_analysis/TRAIN/82.wav..\n",
            "executed /content/drive/MyDrive/Colab Notebooks/code_challenge/HackNITP-21_audio_sentiment_analysis/TRAIN/48.wav..\n",
            "executed /content/drive/MyDrive/Colab Notebooks/code_challenge/HackNITP-21_audio_sentiment_analysis/TRAIN/204.wav..\n",
            "executed /content/drive/MyDrive/Colab Notebooks/code_challenge/HackNITP-21_audio_sentiment_analysis/TRAIN/12.wav..\n",
            "executed /content/drive/MyDrive/Colab Notebooks/code_challenge/HackNITP-21_audio_sentiment_analysis/TRAIN/96.wav..\n",
            "Error in converting to text/content/drive/MyDrive/Colab Notebooks/code_challenge/HackNITP-21_audio_sentiment_analysis/TRAIN/167.wav...\n",
            "executed /content/drive/MyDrive/Colab Notebooks/code_challenge/HackNITP-21_audio_sentiment_analysis/TRAIN/46.wav..\n",
            "executed /content/drive/MyDrive/Colab Notebooks/code_challenge/HackNITP-21_audio_sentiment_analysis/TRAIN/18.wav..\n",
            "Error in converting to text/content/drive/MyDrive/Colab Notebooks/code_challenge/HackNITP-21_audio_sentiment_analysis/TRAIN/227.wav...\n",
            "Error in converting to text/content/drive/MyDrive/Colab Notebooks/code_challenge/HackNITP-21_audio_sentiment_analysis/TRAIN/83.wav...\n",
            "executed /content/drive/MyDrive/Colab Notebooks/code_challenge/HackNITP-21_audio_sentiment_analysis/TRAIN/102.wav..\n",
            "Error in converting to text/content/drive/MyDrive/Colab Notebooks/code_challenge/HackNITP-21_audio_sentiment_analysis/TRAIN/272.wav...\n",
            "executed /content/drive/MyDrive/Colab Notebooks/code_challenge/HackNITP-21_audio_sentiment_analysis/TRAIN/217.wav..\n",
            "executed /content/drive/MyDrive/Colab Notebooks/code_challenge/HackNITP-21_audio_sentiment_analysis/TRAIN/171.wav..\n",
            "executed /content/drive/MyDrive/Colab Notebooks/code_challenge/HackNITP-21_audio_sentiment_analysis/TRAIN/354.wav..\n",
            "Error in converting to text/content/drive/MyDrive/Colab Notebooks/code_challenge/HackNITP-21_audio_sentiment_analysis/TRAIN/164.wav...\n",
            "Error in converting to text/content/drive/MyDrive/Colab Notebooks/code_challenge/HackNITP-21_audio_sentiment_analysis/TRAIN/170.wav...\n",
            "executed /content/drive/MyDrive/Colab Notebooks/code_challenge/HackNITP-21_audio_sentiment_analysis/TRAIN/316.wav..\n",
            "executed /content/drive/MyDrive/Colab Notebooks/code_challenge/HackNITP-21_audio_sentiment_analysis/TRAIN/162.wav..\n",
            "executed /content/drive/MyDrive/Colab Notebooks/code_challenge/HackNITP-21_audio_sentiment_analysis/TRAIN/174.wav..\n",
            "Error in converting to text/content/drive/MyDrive/Colab Notebooks/code_challenge/HackNITP-21_audio_sentiment_analysis/TRAIN/329.wav...\n",
            "executed /content/drive/MyDrive/Colab Notebooks/code_challenge/HackNITP-21_audio_sentiment_analysis/TRAIN/306.wav..\n",
            "executed /content/drive/MyDrive/Colab Notebooks/code_challenge/HackNITP-21_audio_sentiment_analysis/TRAIN/222.wav..\n",
            "executed /content/drive/MyDrive/Colab Notebooks/code_challenge/HackNITP-21_audio_sentiment_analysis/TRAIN/114.wav..\n",
            "Error in converting to text/content/drive/MyDrive/Colab Notebooks/code_challenge/HackNITP-21_audio_sentiment_analysis/TRAIN/191.wav...\n",
            "executed /content/drive/MyDrive/Colab Notebooks/code_challenge/HackNITP-21_audio_sentiment_analysis/TRAIN/39.wav..\n",
            "executed /content/drive/MyDrive/Colab Notebooks/code_challenge/HackNITP-21_audio_sentiment_analysis/TRAIN/339.wav..\n",
            "Error in converting to text/content/drive/MyDrive/Colab Notebooks/code_challenge/HackNITP-21_audio_sentiment_analysis/TRAIN/281.wav...\n",
            "Error in converting to text/content/drive/MyDrive/Colab Notebooks/code_challenge/HackNITP-21_audio_sentiment_analysis/TRAIN/116.wav...\n",
            "Error in converting to text/content/drive/MyDrive/Colab Notebooks/code_challenge/HackNITP-21_audio_sentiment_analysis/TRAIN/269.wav...\n",
            "executed /content/drive/MyDrive/Colab Notebooks/code_challenge/HackNITP-21_audio_sentiment_analysis/TRAIN/184.wav..\n",
            "executed /content/drive/MyDrive/Colab Notebooks/code_challenge/HackNITP-21_audio_sentiment_analysis/TRAIN/99.wav..\n",
            "Error in converting to text/content/drive/MyDrive/Colab Notebooks/code_challenge/HackNITP-21_audio_sentiment_analysis/TRAIN/221.wav...\n",
            "executed /content/drive/MyDrive/Colab Notebooks/code_challenge/HackNITP-21_audio_sentiment_analysis/TRAIN/297.wav..\n",
            "executed /content/drive/MyDrive/Colab Notebooks/code_challenge/HackNITP-21_audio_sentiment_analysis/TRAIN/276.wav..\n",
            "executed /content/drive/MyDrive/Colab Notebooks/code_challenge/HackNITP-21_audio_sentiment_analysis/TRAIN/201.wav..\n",
            "Error in converting to text/content/drive/MyDrive/Colab Notebooks/code_challenge/HackNITP-21_audio_sentiment_analysis/TRAIN/215.wav...\n",
            "Error in converting to text/content/drive/MyDrive/Colab Notebooks/code_challenge/HackNITP-21_audio_sentiment_analysis/TRAIN/80.wav...\n",
            "executed /content/drive/MyDrive/Colab Notebooks/code_challenge/HackNITP-21_audio_sentiment_analysis/TRAIN/235.wav..\n",
            "executed /content/drive/MyDrive/Colab Notebooks/code_challenge/HackNITP-21_audio_sentiment_analysis/TRAIN/274.wav..\n",
            "Error in converting to text/content/drive/MyDrive/Colab Notebooks/code_challenge/HackNITP-21_audio_sentiment_analysis/TRAIN/332.wav...\n",
            "Error in converting to text/content/drive/MyDrive/Colab Notebooks/code_challenge/HackNITP-21_audio_sentiment_analysis/TRAIN/2.wav...\n",
            "executed /content/drive/MyDrive/Colab Notebooks/code_challenge/HackNITP-21_audio_sentiment_analysis/TRAIN/324.wav..\n",
            "executed /content/drive/MyDrive/Colab Notebooks/code_challenge/HackNITP-21_audio_sentiment_analysis/TRAIN/355.wav..\n",
            "Error in converting to text/content/drive/MyDrive/Colab Notebooks/code_challenge/HackNITP-21_audio_sentiment_analysis/TRAIN/278.wav...\n",
            "executed /content/drive/MyDrive/Colab Notebooks/code_challenge/HackNITP-21_audio_sentiment_analysis/TRAIN/49.wav..\n",
            "Error in converting to text/content/drive/MyDrive/Colab Notebooks/code_challenge/HackNITP-21_audio_sentiment_analysis/TRAIN/314.wav...\n",
            "Error in converting to text/content/drive/MyDrive/Colab Notebooks/code_challenge/HackNITP-21_audio_sentiment_analysis/TRAIN/236.wav...\n",
            "Error in converting to text/content/drive/MyDrive/Colab Notebooks/code_challenge/HackNITP-21_audio_sentiment_analysis/TRAIN/233.wav...\n",
            "executed /content/drive/MyDrive/Colab Notebooks/code_challenge/HackNITP-21_audio_sentiment_analysis/TRAIN/292.wav..\n",
            "executed /content/drive/MyDrive/Colab Notebooks/code_challenge/HackNITP-21_audio_sentiment_analysis/TRAIN/133.wav..\n",
            "executed /content/drive/MyDrive/Colab Notebooks/code_challenge/HackNITP-21_audio_sentiment_analysis/TRAIN/321.wav..\n",
            "executed /content/drive/MyDrive/Colab Notebooks/code_challenge/HackNITP-21_audio_sentiment_analysis/TRAIN/3.wav..\n",
            "Error in converting to text/content/drive/MyDrive/Colab Notebooks/code_challenge/HackNITP-21_audio_sentiment_analysis/TRAIN/251.wav...\n",
            "executed /content/drive/MyDrive/Colab Notebooks/code_challenge/HackNITP-21_audio_sentiment_analysis/TRAIN/118.wav..\n",
            "executed /content/drive/MyDrive/Colab Notebooks/code_challenge/HackNITP-21_audio_sentiment_analysis/TRAIN/295.wav..\n",
            "executed /content/drive/MyDrive/Colab Notebooks/code_challenge/HackNITP-21_audio_sentiment_analysis/TRAIN/286.wav..\n",
            "executed /content/drive/MyDrive/Colab Notebooks/code_challenge/HackNITP-21_audio_sentiment_analysis/TRAIN/147.wav..\n",
            "Error in converting to text/content/drive/MyDrive/Colab Notebooks/code_challenge/HackNITP-21_audio_sentiment_analysis/TRAIN/200.wav...\n",
            "executed /content/drive/MyDrive/Colab Notebooks/code_challenge/HackNITP-21_audio_sentiment_analysis/TRAIN/246.wav..\n",
            "executed /content/drive/MyDrive/Colab Notebooks/code_challenge/HackNITP-21_audio_sentiment_analysis/TRAIN/250.wav..\n",
            "executed /content/drive/MyDrive/Colab Notebooks/code_challenge/HackNITP-21_audio_sentiment_analysis/TRAIN/117.wav..\n",
            "executed /content/drive/MyDrive/Colab Notebooks/code_challenge/HackNITP-21_audio_sentiment_analysis/TRAIN/271.wav..\n",
            "executed /content/drive/MyDrive/Colab Notebooks/code_challenge/HackNITP-21_audio_sentiment_analysis/TRAIN/220.wav..\n",
            "executed /content/drive/MyDrive/Colab Notebooks/code_challenge/HackNITP-21_audio_sentiment_analysis/TRAIN/139.wav..\n",
            "executed /content/drive/MyDrive/Colab Notebooks/code_challenge/HackNITP-21_audio_sentiment_analysis/TRAIN/31.wav..\n",
            "Error in converting to text/content/drive/MyDrive/Colab Notebooks/code_challenge/HackNITP-21_audio_sentiment_analysis/TRAIN/308.wav...\n",
            "executed /content/drive/MyDrive/Colab Notebooks/code_challenge/HackNITP-21_audio_sentiment_analysis/TRAIN/78.wav..\n",
            "executed /content/drive/MyDrive/Colab Notebooks/code_challenge/HackNITP-21_audio_sentiment_analysis/TRAIN/105.wav..\n",
            "Error in converting to text/content/drive/MyDrive/Colab Notebooks/code_challenge/HackNITP-21_audio_sentiment_analysis/TRAIN/44.wav...\n",
            "executed /content/drive/MyDrive/Colab Notebooks/code_challenge/HackNITP-21_audio_sentiment_analysis/TRAIN/264.wav..\n",
            "executed /content/drive/MyDrive/Colab Notebooks/code_challenge/HackNITP-21_audio_sentiment_analysis/TRAIN/100.wav..\n",
            "Error in converting to text/content/drive/MyDrive/Colab Notebooks/code_challenge/HackNITP-21_audio_sentiment_analysis/TRAIN/179.wav...\n",
            "executed /content/drive/MyDrive/Colab Notebooks/code_challenge/HackNITP-21_audio_sentiment_analysis/TRAIN/183.wav..\n",
            "Error in converting to text/content/drive/MyDrive/Colab Notebooks/code_challenge/HackNITP-21_audio_sentiment_analysis/TRAIN/149.wav...\n",
            "executed /content/drive/MyDrive/Colab Notebooks/code_challenge/HackNITP-21_audio_sentiment_analysis/TRAIN/28.wav..\n",
            "executed /content/drive/MyDrive/Colab Notebooks/code_challenge/HackNITP-21_audio_sentiment_analysis/TRAIN/76.wav..\n",
            "executed /content/drive/MyDrive/Colab Notebooks/code_challenge/HackNITP-21_audio_sentiment_analysis/TRAIN/159.wav..\n",
            "executed /content/drive/MyDrive/Colab Notebooks/code_challenge/HackNITP-21_audio_sentiment_analysis/TRAIN/208.wav..\n",
            "executed /content/drive/MyDrive/Colab Notebooks/code_challenge/HackNITP-21_audio_sentiment_analysis/TRAIN/91.wav..\n",
            "executed /content/drive/MyDrive/Colab Notebooks/code_challenge/HackNITP-21_audio_sentiment_analysis/TRAIN/336.wav..\n",
            "Error in converting to text/content/drive/MyDrive/Colab Notebooks/code_challenge/HackNITP-21_audio_sentiment_analysis/TRAIN/197.wav...\n",
            "executed /content/drive/MyDrive/Colab Notebooks/code_challenge/HackNITP-21_audio_sentiment_analysis/TRAIN/70.wav..\n"
          ],
          "name": "stdout"
        }
      ]
    },
    {
      "cell_type": "code",
      "metadata": {
        "colab": {
          "base_uri": "https://localhost:8080/"
        },
        "id": "9pz0SWTHe8Lf",
        "outputId": "56246e74-4f49-49de-9e38-2ecb888cbdcd"
      },
      "source": [
        "print(text_list)"
      ],
      "execution_count": 8,
      "outputs": [
        {
          "output_type": "stream",
          "text": [
            "['you want a great liar', 'you should be punished for this app', 'you always had the person in need', '', 'your answer is correct but it needs more explanation', 'wow such a great idea', 'it was good but it can be more better', 'your performance was good but you should improve more', '', 'you are a regular guy', 'you are a very foolish person', 'what rubbish are you talking about', 'your explanation was totally incorrect', 'you are a very humble person', 'you have not one but you have also not close', '', \"I'm very much proud of you\", '', '', 'you want to write a lazy person', 'the food was tasty but it should be less salty', 'you should provide him more respect', '', '', 'your answer is correct but it needs more explanation', '', 'the project was good but it needs more modification', 'you will now be in trouble', 'you are a very foolish person', 'you should explain more', 'you should try to be more regular', 'you can never be a leader', 'your device possible but not break', 'I have a great respect for you', 'no one likes to talk about you', 'you are a great mentor', 'mind your language', '', 'you are fired', 'your idea is great', 'you have given a great response', '', 'you have a great choice', 'your explanation was good but try to be more precise', '', '', 'how dare you say that', 'your idea sounds good please elaborate more', 'you have a great idea emoji', 'your result was good but you should do more hard work', '', '', 'the project was good but it needs more modification', '', 'you are talking very rude', 'you have taken the correct decision', 'you should be more loyal', 'you should try more', 'your attitude is very bad', 'you should explain more', '', '', 'you are a brilliant student', 'please try to concentrate mode', 'you can do a lot better than this', 'no one likes you Association', 'you have a great face', 'there has neither been gained not lost', '', '', 'if you try to improve you could be a good leader', 'you need to work more on it', 'the wise was clear but it was very light', '', 'I like talking with you', 'you have a great idea emoji', 'what rubbish are you talking about', '', 'Everyone likes to take your opinion', '', 'thank you for your great help', 'you have not one but you have also not close', 'you should try to be more creative', '', 'you are a great leader', 'you have taken wrong decision', 'no one likes you', 'I understood everything you taught me very well', '', 'you do not have common sense', '', 'you have taken the correct position', 'you are very irresponsible', 'your wife was good but it could have lower pitch', 'you should be kicked off from the office', '', 'you have done a big mistake', 'you cook great', 'your idea sounds good please elaborate more', 'get out of my home', '', 'you are a great mentor', '', 'you will not be in trouble', 'what nonsense are you talking about', 'you should be more punctual', '', '', 'you are very responsible person', 'you might be the lucky person', 'you look very bad food', 'Uso tri-mode', '', 'you should think more before you like', 'well when the first Edition', 'you are a very caring person', '', 'your attitude is very bad', '', 'you have done a great work', '', '', 'I am very much ashamed of you', 'a great thanks for your support', '', 'your answers are absolutely correct', 'you have done a great job', '', 'you should think more before you like', '', 'you have done it on time but you can have done it before', 'you have given a great response', 'the wise was clear but it was very light', 'you have taken wrong decision', '', '', 'you should be more punctual', '', '', 'your answers were totally wrong', 'you have done it on time but you can have done it before', 'your idea is very bad', 'Wild Wonderful solution', 'no one likes to talk with you', '', 'get away from my sight', 'please try to concentrate mode', 'you have done a big mistake', 'you do not deserve respect', '', 'you should be more responsible', 'well when the first Edition', 'you should learn more good manners', '', 'it is providing me some relief', '', '', 'you can never be an idol of someone', 'you want to be lazy person', '', '', '', 'you cook great', 'no one likes to talk about you', '', 'you should be kicked off from the office', 'I never trust you', 'you are a very caring person', 'you are a very hardworking guy', 'if your improvement there is high chance that you will win', 'thank you for your great help', 'your wife is wonderful', '', 'you are a very hardworking guy', 'I have a great respect for you', '', '', 'you are my idol', '', 'if you work more hard you will definitely crack exam', 'there has neither been gained not lost', 'you are very irresponsible', '', '', 'I never trust you', 'your explanation was good but try to be more precise', 'your choice was to go to might not break', '', 'you are a Shameless person', 'you are very close to the correct answer', 'congratulations you won the challenge', '', 'I understood everything you taught me very well', 'get out of my home', '', '', '', 'you should try to be more regular', 'you have a great choice', '', 'biltrite is very bad', 'no one likes to talk with you', 'you can be selected but can also be allergic', '', '', 'you should learn more good manners', 'no one likes to talk with you', '', '', 'everything you said it was useless', 'you can never be an idol of someone', '', 'you are an idol for many people', '', '', '', 'your ideology is totally wrong', 'you are more likely to be selected', 'I am very much ashamed of you', 'I like talking with you', '', 'you always had the person in need', 'biltrite is very bad', 'no one likes you', 'your performance was good but you should improve more', '', 'you do not have common sense', 'you do not deserve respect', 'everyone respects you a lot', 'no one likes you Association', 'you are very close to the correct answer', 'please try to improve your attitude', 'everyone loves to talk with you', '', 'you guided me to the correct path', 'you wanted are the humble person', '', 'you can never be a leader', 'you are my idol', '', 'you should be more loyal', '', 'you are a very caring person', 'you guided me to the correct path', 'you should be more responsive', 'you need to work more on it', 'you have done a great work', 'your idea is very bad', '', 'I believe you a lot']\n"
          ],
          "name": "stdout"
        }
      ]
    },
    {
      "cell_type": "code",
      "metadata": {
        "colab": {
          "base_uri": "https://localhost:8080/"
        },
        "id": "KbrN5PdDe8Gs",
        "outputId": "926be6e5-622c-43de-d56e-0b56e46a9a3f"
      },
      "source": [
        "text_list_ls =list(text_list)\r\n",
        "c=0\r\n",
        "for i in text_list_ls:\r\n",
        "  if i=='':\r\n",
        "    c=c+1\r\n",
        "print(c)\r\n"
      ],
      "execution_count": 9,
      "outputs": [
        {
          "output_type": "stream",
          "text": [
            "78\n"
          ],
          "name": "stdout"
        }
      ]
    },
    {
      "cell_type": "code",
      "metadata": {
        "colab": {
          "base_uri": "https://localhost:8080/"
        },
        "id": "UHSbl2COe8B9",
        "outputId": "5390592d-e0b6-4e9c-c57b-8636054074c5"
      },
      "source": [
        "import os\r\n",
        "print(os.listdir(\"/content/drive/MyDrive/Colab Notebooks/code_challenge/HackNITP-21_audio_sentiment_analysis/TRAIN\"))\r\n",
        "print(text_list.count(\"\"))"
      ],
      "execution_count": 10,
      "outputs": [
        {
          "output_type": "stream",
          "text": [
            "['283.wav', '279.wav', '120.wav', '77.wav', '154.wav', '85.wav', '207.wav', '145.wav', '38.wav', '73.wav', '331.wav', '291.wav', '327.wav', '103.wav', '166.wav', '110.wav', '36.wav', '47.wav', '299.wav', '253.wav', '126.wav', '144.wav', '224.wav', '230.wav', '156.wav', '203.wav', '228.wav', '241.wav', '333.wav', '190.wav', '186.wav', '262.wav', '172.wav', '16.wav', '282.wav', '58.wav', '270.wav', '317.wav', '310.wav', '90.wav', '111.wav', '287.wav', '97.wav', '160.wav', '17.wav', '11.wav', '346.wav', '189.wav', '106.wav', '240.wav', '302.wav', '89.wav', '226.wav', '284.wav', '313.wav', '69.wav', '181.wav', '216.wav', '301.wav', '192.wav', '344.wav', '242.wav', '43.wav', '153.wav', '163.wav', '273.wav', '6.wav', '169.wav', '293.wav', '305.wav', '177.wav', '210.wav', '129.wav', '248.wav', '1.wav', '108.wav', '289.wav', '62.wav', '55.wav', '218.wav', '10.wav', '168.wav', '211.wav', '71.wav', '9.wav', '340.wav', '288.wav', '37.wav', '5.wav', '244.wav', '50.wav', '67.wav', '352.wav', '223.wav', '328.wav', '107.wav', '256.wav', '52.wav', '187.wav', '337.wav', '350.wav', '60.wav', '161.wav', '243.wav', '343.wav', '148.wav', '14.wav', '29.wav', '79.wav', '121.wav', '307.wav', '214.wav', '101.wav', '196.wav', '24.wav', '30.wav', '353.wav', '303.wav', '74.wav', '93.wav', '53.wav', '137.wav', '319.wav', '40.wav', '68.wav', '63.wav', '21.wav', '323.wav', '198.wav', '266.wav', '232.wav', '109.wav', '127.wav', '342.wav', '140.wav', '122.wav', '150.wav', '188.wav', '347.wav', '261.wav', '234.wav', '334.wav', '64.wav', '247.wav', '32.wav', '349.wav', '151.wav', '258.wav', '252.wav', '275.wav', '193.wav', '22.wav', '237.wav', '104.wav', '231.wav', '209.wav', '20.wav', '357.wav', '255.wav', '254.wav', '155.wav', '245.wav', '54.wav', '280.wav', '263.wav', '330.wav', '318.wav', '82.wav', '48.wav', '204.wav', '12.wav', '96.wav', '167.wav', '46.wav', '18.wav', '227.wav', '83.wav', '102.wav', '272.wav', '217.wav', '171.wav', '354.wav', '164.wav', '170.wav', '316.wav', '162.wav', '174.wav', '329.wav', '306.wav', '222.wav', '114.wav', '191.wav', '39.wav', '339.wav', '281.wav', '116.wav', '269.wav', '184.wav', '99.wav', '221.wav', '297.wav', '276.wav', '201.wav', '215.wav', '80.wav', '235.wav', '274.wav', '332.wav', '2.wav', '324.wav', '355.wav', '278.wav', '49.wav', '314.wav', '236.wav', '233.wav', '292.wav', '133.wav', '321.wav', '3.wav', '251.wav', '118.wav', '295.wav', '286.wav', '147.wav', '200.wav', '246.wav', '250.wav', '117.wav', '271.wav', '220.wav', '139.wav', '31.wav', '308.wav', '78.wav', '105.wav', '44.wav', '264.wav', '100.wav', '179.wav', '183.wav', '149.wav', '28.wav', '76.wav', '159.wav', '208.wav', '91.wav', '336.wav', '197.wav', '70.wav']\n",
            "78\n"
          ],
          "name": "stdout"
        }
      ]
    },
    {
      "cell_type": "code",
      "metadata": {
        "colab": {
          "base_uri": "https://localhost:8080/",
          "height": 356
        },
        "id": "muEIisB8e79H",
        "outputId": "3b176d06-493e-4180-85c4-75c6552cd07a"
      },
      "source": [
        "import pandas as pd\r\n",
        "a_train_csv=pd.read_csv(\"/content/drive/MyDrive/Colab Notebooks/code_challenge/HackNITP-21_audio_sentiment_analysis/TRAIN.csv\")\r\n",
        "a_train_csv.head(10)"
      ],
      "execution_count": 11,
      "outputs": [
        {
          "output_type": "execute_result",
          "data": {
            "text/html": [
              "<div>\n",
              "<style scoped>\n",
              "    .dataframe tbody tr th:only-of-type {\n",
              "        vertical-align: middle;\n",
              "    }\n",
              "\n",
              "    .dataframe tbody tr th {\n",
              "        vertical-align: top;\n",
              "    }\n",
              "\n",
              "    .dataframe thead th {\n",
              "        text-align: right;\n",
              "    }\n",
              "</style>\n",
              "<table border=\"1\" class=\"dataframe\">\n",
              "  <thead>\n",
              "    <tr style=\"text-align: right;\">\n",
              "      <th></th>\n",
              "      <th>Filename</th>\n",
              "      <th>Class</th>\n",
              "    </tr>\n",
              "  </thead>\n",
              "  <tbody>\n",
              "    <tr>\n",
              "      <th>0</th>\n",
              "      <td>346.wav</td>\n",
              "      <td>Negative</td>\n",
              "    </tr>\n",
              "    <tr>\n",
              "      <th>1</th>\n",
              "      <td>163.wav</td>\n",
              "      <td>Neutral</td>\n",
              "    </tr>\n",
              "    <tr>\n",
              "      <th>2</th>\n",
              "      <td>288.wav</td>\n",
              "      <td>Negative</td>\n",
              "    </tr>\n",
              "    <tr>\n",
              "      <th>3</th>\n",
              "      <td>279.wav</td>\n",
              "      <td>Negative</td>\n",
              "    </tr>\n",
              "    <tr>\n",
              "      <th>4</th>\n",
              "      <td>244.wav</td>\n",
              "      <td>Negative</td>\n",
              "    </tr>\n",
              "    <tr>\n",
              "      <th>5</th>\n",
              "      <td>273.wav</td>\n",
              "      <td>Negative</td>\n",
              "    </tr>\n",
              "    <tr>\n",
              "      <th>6</th>\n",
              "      <td>5.wav</td>\n",
              "      <td>Positive</td>\n",
              "    </tr>\n",
              "    <tr>\n",
              "      <th>7</th>\n",
              "      <td>353.wav</td>\n",
              "      <td>Negative</td>\n",
              "    </tr>\n",
              "    <tr>\n",
              "      <th>8</th>\n",
              "      <td>145.wav</td>\n",
              "      <td>Neutral</td>\n",
              "    </tr>\n",
              "    <tr>\n",
              "      <th>9</th>\n",
              "      <td>109.wav</td>\n",
              "      <td>Positive</td>\n",
              "    </tr>\n",
              "  </tbody>\n",
              "</table>\n",
              "</div>"
            ],
            "text/plain": [
              "  Filename     Class\n",
              "0  346.wav  Negative\n",
              "1  163.wav   Neutral\n",
              "2  288.wav  Negative\n",
              "3  279.wav  Negative\n",
              "4  244.wav  Negative\n",
              "5  273.wav  Negative\n",
              "6    5.wav  Positive\n",
              "7  353.wav  Negative\n",
              "8  145.wav   Neutral\n",
              "9  109.wav  Positive"
            ]
          },
          "metadata": {
            "tags": []
          },
          "execution_count": 11
        }
      ]
    },
    {
      "cell_type": "code",
      "metadata": {
        "colab": {
          "base_uri": "https://localhost:8080/",
          "height": 356
        },
        "id": "S89PSh2ue74e",
        "outputId": "76527c60-704b-4edb-ebf2-8ff4606e4e7a"
      },
      "source": [
        "data_f2txt=pd.DataFrame({'Filename': os.listdir(\"/content/drive/MyDrive/Colab Notebooks/code_challenge/HackNITP-21_audio_sentiment_analysis/TRAIN\"), 'text': text_list})\r\n",
        "data_f2txt.head(10)"
      ],
      "execution_count": 12,
      "outputs": [
        {
          "output_type": "execute_result",
          "data": {
            "text/html": [
              "<div>\n",
              "<style scoped>\n",
              "    .dataframe tbody tr th:only-of-type {\n",
              "        vertical-align: middle;\n",
              "    }\n",
              "\n",
              "    .dataframe tbody tr th {\n",
              "        vertical-align: top;\n",
              "    }\n",
              "\n",
              "    .dataframe thead th {\n",
              "        text-align: right;\n",
              "    }\n",
              "</style>\n",
              "<table border=\"1\" class=\"dataframe\">\n",
              "  <thead>\n",
              "    <tr style=\"text-align: right;\">\n",
              "      <th></th>\n",
              "      <th>Filename</th>\n",
              "      <th>text</th>\n",
              "    </tr>\n",
              "  </thead>\n",
              "  <tbody>\n",
              "    <tr>\n",
              "      <th>0</th>\n",
              "      <td>283.wav</td>\n",
              "      <td>you want a great liar</td>\n",
              "    </tr>\n",
              "    <tr>\n",
              "      <th>1</th>\n",
              "      <td>279.wav</td>\n",
              "      <td>you should be punished for this app</td>\n",
              "    </tr>\n",
              "    <tr>\n",
              "      <th>2</th>\n",
              "      <td>120.wav</td>\n",
              "      <td>you always had the person in need</td>\n",
              "    </tr>\n",
              "    <tr>\n",
              "      <th>3</th>\n",
              "      <td>77.wav</td>\n",
              "      <td></td>\n",
              "    </tr>\n",
              "    <tr>\n",
              "      <th>4</th>\n",
              "      <td>154.wav</td>\n",
              "      <td>your answer is correct but it needs more expla...</td>\n",
              "    </tr>\n",
              "    <tr>\n",
              "      <th>5</th>\n",
              "      <td>85.wav</td>\n",
              "      <td>wow such a great idea</td>\n",
              "    </tr>\n",
              "    <tr>\n",
              "      <th>6</th>\n",
              "      <td>207.wav</td>\n",
              "      <td>it was good but it can be more better</td>\n",
              "    </tr>\n",
              "    <tr>\n",
              "      <th>7</th>\n",
              "      <td>145.wav</td>\n",
              "      <td>your performance was good but you should impro...</td>\n",
              "    </tr>\n",
              "    <tr>\n",
              "      <th>8</th>\n",
              "      <td>38.wav</td>\n",
              "      <td></td>\n",
              "    </tr>\n",
              "    <tr>\n",
              "      <th>9</th>\n",
              "      <td>73.wav</td>\n",
              "      <td>you are a regular guy</td>\n",
              "    </tr>\n",
              "  </tbody>\n",
              "</table>\n",
              "</div>"
            ],
            "text/plain": [
              "  Filename                                               text\n",
              "0  283.wav                              you want a great liar\n",
              "1  279.wav                you should be punished for this app\n",
              "2  120.wav                  you always had the person in need\n",
              "3   77.wav                                                   \n",
              "4  154.wav  your answer is correct but it needs more expla...\n",
              "5   85.wav                              wow such a great idea\n",
              "6  207.wav              it was good but it can be more better\n",
              "7  145.wav  your performance was good but you should impro...\n",
              "8   38.wav                                                   \n",
              "9   73.wav                              you are a regular guy"
            ]
          },
          "metadata": {
            "tags": []
          },
          "execution_count": 12
        }
      ]
    },
    {
      "cell_type": "code",
      "metadata": {
        "colab": {
          "base_uri": "https://localhost:8080/",
          "height": 356
        },
        "id": "J4BrSnyVe7zz",
        "outputId": "049ac26c-45b7-47a3-b3f7-1c97bebf3878"
      },
      "source": [
        "data=pd.merge(data_f2txt, a_train_csv,on='Filename')\r\n",
        "data.head(10)"
      ],
      "execution_count": 13,
      "outputs": [
        {
          "output_type": "execute_result",
          "data": {
            "text/html": [
              "<div>\n",
              "<style scoped>\n",
              "    .dataframe tbody tr th:only-of-type {\n",
              "        vertical-align: middle;\n",
              "    }\n",
              "\n",
              "    .dataframe tbody tr th {\n",
              "        vertical-align: top;\n",
              "    }\n",
              "\n",
              "    .dataframe thead th {\n",
              "        text-align: right;\n",
              "    }\n",
              "</style>\n",
              "<table border=\"1\" class=\"dataframe\">\n",
              "  <thead>\n",
              "    <tr style=\"text-align: right;\">\n",
              "      <th></th>\n",
              "      <th>Filename</th>\n",
              "      <th>text</th>\n",
              "      <th>Class</th>\n",
              "    </tr>\n",
              "  </thead>\n",
              "  <tbody>\n",
              "    <tr>\n",
              "      <th>0</th>\n",
              "      <td>283.wav</td>\n",
              "      <td>you want a great liar</td>\n",
              "      <td>Negative</td>\n",
              "    </tr>\n",
              "    <tr>\n",
              "      <th>1</th>\n",
              "      <td>279.wav</td>\n",
              "      <td>you should be punished for this app</td>\n",
              "      <td>Negative</td>\n",
              "    </tr>\n",
              "    <tr>\n",
              "      <th>2</th>\n",
              "      <td>120.wav</td>\n",
              "      <td>you always had the person in need</td>\n",
              "      <td>Positive</td>\n",
              "    </tr>\n",
              "    <tr>\n",
              "      <th>3</th>\n",
              "      <td>77.wav</td>\n",
              "      <td></td>\n",
              "      <td>Positive</td>\n",
              "    </tr>\n",
              "    <tr>\n",
              "      <th>4</th>\n",
              "      <td>154.wav</td>\n",
              "      <td>your answer is correct but it needs more expla...</td>\n",
              "      <td>Neutral</td>\n",
              "    </tr>\n",
              "    <tr>\n",
              "      <th>5</th>\n",
              "      <td>85.wav</td>\n",
              "      <td>wow such a great idea</td>\n",
              "      <td>Positive</td>\n",
              "    </tr>\n",
              "    <tr>\n",
              "      <th>6</th>\n",
              "      <td>207.wav</td>\n",
              "      <td>it was good but it can be more better</td>\n",
              "      <td>Neutral</td>\n",
              "    </tr>\n",
              "    <tr>\n",
              "      <th>7</th>\n",
              "      <td>145.wav</td>\n",
              "      <td>your performance was good but you should impro...</td>\n",
              "      <td>Neutral</td>\n",
              "    </tr>\n",
              "    <tr>\n",
              "      <th>8</th>\n",
              "      <td>38.wav</td>\n",
              "      <td></td>\n",
              "      <td>Positive</td>\n",
              "    </tr>\n",
              "    <tr>\n",
              "      <th>9</th>\n",
              "      <td>73.wav</td>\n",
              "      <td>you are a regular guy</td>\n",
              "      <td>Positive</td>\n",
              "    </tr>\n",
              "  </tbody>\n",
              "</table>\n",
              "</div>"
            ],
            "text/plain": [
              "  Filename                                               text     Class\n",
              "0  283.wav                              you want a great liar  Negative\n",
              "1  279.wav                you should be punished for this app  Negative\n",
              "2  120.wav                  you always had the person in need  Positive\n",
              "3   77.wav                                                     Positive\n",
              "4  154.wav  your answer is correct but it needs more expla...   Neutral\n",
              "5   85.wav                              wow such a great idea  Positive\n",
              "6  207.wav              it was good but it can be more better   Neutral\n",
              "7  145.wav  your performance was good but you should impro...   Neutral\n",
              "8   38.wav                                                     Positive\n",
              "9   73.wav                              you are a regular guy  Positive"
            ]
          },
          "metadata": {
            "tags": []
          },
          "execution_count": 13
        }
      ]
    },
    {
      "cell_type": "code",
      "metadata": {
        "colab": {
          "base_uri": "https://localhost:8080/",
          "height": 356
        },
        "id": "ouqVd26Ee7vO",
        "outputId": "f122c951-89d7-49d0-e78c-9ad2d405ace4"
      },
      "source": [
        "d1_txt_cls=data.drop(['Filename'], axis = 1)\r\n",
        "d1_txt_cls.head(10)"
      ],
      "execution_count": 14,
      "outputs": [
        {
          "output_type": "execute_result",
          "data": {
            "text/html": [
              "<div>\n",
              "<style scoped>\n",
              "    .dataframe tbody tr th:only-of-type {\n",
              "        vertical-align: middle;\n",
              "    }\n",
              "\n",
              "    .dataframe tbody tr th {\n",
              "        vertical-align: top;\n",
              "    }\n",
              "\n",
              "    .dataframe thead th {\n",
              "        text-align: right;\n",
              "    }\n",
              "</style>\n",
              "<table border=\"1\" class=\"dataframe\">\n",
              "  <thead>\n",
              "    <tr style=\"text-align: right;\">\n",
              "      <th></th>\n",
              "      <th>text</th>\n",
              "      <th>Class</th>\n",
              "    </tr>\n",
              "  </thead>\n",
              "  <tbody>\n",
              "    <tr>\n",
              "      <th>0</th>\n",
              "      <td>you want a great liar</td>\n",
              "      <td>Negative</td>\n",
              "    </tr>\n",
              "    <tr>\n",
              "      <th>1</th>\n",
              "      <td>you should be punished for this app</td>\n",
              "      <td>Negative</td>\n",
              "    </tr>\n",
              "    <tr>\n",
              "      <th>2</th>\n",
              "      <td>you always had the person in need</td>\n",
              "      <td>Positive</td>\n",
              "    </tr>\n",
              "    <tr>\n",
              "      <th>3</th>\n",
              "      <td></td>\n",
              "      <td>Positive</td>\n",
              "    </tr>\n",
              "    <tr>\n",
              "      <th>4</th>\n",
              "      <td>your answer is correct but it needs more expla...</td>\n",
              "      <td>Neutral</td>\n",
              "    </tr>\n",
              "    <tr>\n",
              "      <th>5</th>\n",
              "      <td>wow such a great idea</td>\n",
              "      <td>Positive</td>\n",
              "    </tr>\n",
              "    <tr>\n",
              "      <th>6</th>\n",
              "      <td>it was good but it can be more better</td>\n",
              "      <td>Neutral</td>\n",
              "    </tr>\n",
              "    <tr>\n",
              "      <th>7</th>\n",
              "      <td>your performance was good but you should impro...</td>\n",
              "      <td>Neutral</td>\n",
              "    </tr>\n",
              "    <tr>\n",
              "      <th>8</th>\n",
              "      <td></td>\n",
              "      <td>Positive</td>\n",
              "    </tr>\n",
              "    <tr>\n",
              "      <th>9</th>\n",
              "      <td>you are a regular guy</td>\n",
              "      <td>Positive</td>\n",
              "    </tr>\n",
              "  </tbody>\n",
              "</table>\n",
              "</div>"
            ],
            "text/plain": [
              "                                                text     Class\n",
              "0                              you want a great liar  Negative\n",
              "1                you should be punished for this app  Negative\n",
              "2                  you always had the person in need  Positive\n",
              "3                                                     Positive\n",
              "4  your answer is correct but it needs more expla...   Neutral\n",
              "5                              wow such a great idea  Positive\n",
              "6              it was good but it can be more better   Neutral\n",
              "7  your performance was good but you should impro...   Neutral\n",
              "8                                                     Positive\n",
              "9                              you are a regular guy  Positive"
            ]
          },
          "metadata": {
            "tags": []
          },
          "execution_count": 14
        }
      ]
    },
    {
      "cell_type": "code",
      "metadata": {
        "colab": {
          "base_uri": "https://localhost:8080/"
        },
        "id": "L89wFe0-e7qz",
        "outputId": "61c283ab-6975-4f5f-d47b-4cfa0b25fc84"
      },
      "source": [
        "from sklearn.model_selection import train_test_split\r\n",
        "x= d1_txt_cls.iloc[:,0].values\r\n",
        "y= d1_txt_cls.iloc[:,-1].values\r\n",
        "print(x[:10])\r\n",
        "print(y[:10])"
      ],
      "execution_count": 15,
      "outputs": [
        {
          "output_type": "stream",
          "text": [
            "['you want a great liar' 'you should be punished for this app'\n",
            " 'you always had the person in need' ''\n",
            " 'your answer is correct but it needs more explanation'\n",
            " 'wow such a great idea' 'it was good but it can be more better'\n",
            " 'your performance was good but you should improve more' ''\n",
            " 'you are a regular guy']\n",
            "['Negative' 'Negative' 'Positive' 'Positive' 'Neutral' 'Positive'\n",
            " 'Neutral' 'Neutral' 'Positive' 'Positive']\n"
          ],
          "name": "stdout"
        }
      ]
    },
    {
      "cell_type": "code",
      "metadata": {
        "colab": {
          "base_uri": "https://localhost:8080/"
        },
        "id": "qfdWvY9ce7l9",
        "outputId": "6d874c6c-129e-426c-f035-7ff169bf54d8"
      },
      "source": [
        "from sklearn.feature_extraction.text import TfidfVectorizer\r\n",
        "from sklearn.linear_model import SGDClassifier\r\n",
        "from sklearn.svm import LinearSVC\r\n",
        "t_vector =TfidfVectorizer()\r\n",
        "classifier=LinearSVC()\r\n",
        "C1=SGDClassifier()\r\n",
        "\r\n",
        "\r\n",
        "from sklearn.pipeline import Pipeline\r\n",
        "model = Pipeline([('vectorizer',t_vector),('classifier',classifier)])\r\n",
        "model.fit(x,y)"
      ],
      "execution_count": 16,
      "outputs": [
        {
          "output_type": "execute_result",
          "data": {
            "text/plain": [
              "Pipeline(memory=None,\n",
              "         steps=[('vectorizer',\n",
              "                 TfidfVectorizer(analyzer='word', binary=False,\n",
              "                                 decode_error='strict',\n",
              "                                 dtype=<class 'numpy.float64'>,\n",
              "                                 encoding='utf-8', input='content',\n",
              "                                 lowercase=True, max_df=1.0, max_features=None,\n",
              "                                 min_df=1, ngram_range=(1, 1), norm='l2',\n",
              "                                 preprocessor=None, smooth_idf=True,\n",
              "                                 stop_words=None, strip_accents=None,\n",
              "                                 sublinear_tf=False,\n",
              "                                 token_pattern='(?u)\\\\b\\\\w\\\\w+\\\\b',\n",
              "                                 tokenizer=None, use_idf=True,\n",
              "                                 vocabulary=None)),\n",
              "                ('classifier',\n",
              "                 LinearSVC(C=1.0, class_weight=None, dual=True,\n",
              "                           fit_intercept=True, intercept_scaling=1,\n",
              "                           loss='squared_hinge', max_iter=1000,\n",
              "                           multi_class='ovr', penalty='l2', random_state=None,\n",
              "                           tol=0.0001, verbose=0))],\n",
              "         verbose=False)"
            ]
          },
          "metadata": {
            "tags": []
          },
          "execution_count": 16
        }
      ]
    },
    {
      "cell_type": "code",
      "metadata": {
        "id": "WLfKGHvre7gs"
      },
      "source": [
        "#TESTING"
      ],
      "execution_count": 17,
      "outputs": []
    },
    {
      "cell_type": "code",
      "metadata": {
        "colab": {
          "base_uri": "https://localhost:8080/"
        },
        "id": "QYj4eAq4e7bZ",
        "outputId": "9a5c5544-5aba-4651-b297-e8e15b9c93cb"
      },
      "source": [
        "dire_name=\"/content/drive/MyDrive/Colab Notebooks/code_challenge/HackNITP-21_audio_sentiment_analysis/TEST\"\r\n",
        "test_list = audio_to_text(dire_name)"
      ],
      "execution_count": 18,
      "outputs": [
        {
          "output_type": "stream",
          "text": [
            "executed /content/drive/MyDrive/Colab Notebooks/code_challenge/HackNITP-21_audio_sentiment_analysis/TEST/157.wav..\n",
            "executed /content/drive/MyDrive/Colab Notebooks/code_challenge/HackNITP-21_audio_sentiment_analysis/TEST/61.wav..\n",
            "executed /content/drive/MyDrive/Colab Notebooks/code_challenge/HackNITP-21_audio_sentiment_analysis/TEST/136.wav..\n",
            "Error in converting to text/content/drive/MyDrive/Colab Notebooks/code_challenge/HackNITP-21_audio_sentiment_analysis/TEST/341.wav...\n",
            "executed /content/drive/MyDrive/Colab Notebooks/code_challenge/HackNITP-21_audio_sentiment_analysis/TEST/300.wav..\n",
            "executed /content/drive/MyDrive/Colab Notebooks/code_challenge/HackNITP-21_audio_sentiment_analysis/TEST/27.wav..\n",
            "executed /content/drive/MyDrive/Colab Notebooks/code_challenge/HackNITP-21_audio_sentiment_analysis/TEST/249.wav..\n",
            "executed /content/drive/MyDrive/Colab Notebooks/code_challenge/HackNITP-21_audio_sentiment_analysis/TEST/81.wav..\n",
            "Error in converting to text/content/drive/MyDrive/Colab Notebooks/code_challenge/HackNITP-21_audio_sentiment_analysis/TEST/311.wav...\n",
            "executed /content/drive/MyDrive/Colab Notebooks/code_challenge/HackNITP-21_audio_sentiment_analysis/TEST/15.wav..\n",
            "executed /content/drive/MyDrive/Colab Notebooks/code_challenge/HackNITP-21_audio_sentiment_analysis/TEST/123.wav..\n",
            "executed /content/drive/MyDrive/Colab Notebooks/code_challenge/HackNITP-21_audio_sentiment_analysis/TEST/195.wav..\n",
            "Error in converting to text/content/drive/MyDrive/Colab Notebooks/code_challenge/HackNITP-21_audio_sentiment_analysis/TEST/182.wav...\n",
            "Error in converting to text/content/drive/MyDrive/Colab Notebooks/code_challenge/HackNITP-21_audio_sentiment_analysis/TEST/194.wav...\n",
            "Error in converting to text/content/drive/MyDrive/Colab Notebooks/code_challenge/HackNITP-21_audio_sentiment_analysis/TEST/113.wav...\n",
            "Error in converting to text/content/drive/MyDrive/Colab Notebooks/code_challenge/HackNITP-21_audio_sentiment_analysis/TEST/158.wav...\n",
            "executed /content/drive/MyDrive/Colab Notebooks/code_challenge/HackNITP-21_audio_sentiment_analysis/TEST/229.wav..\n",
            "Error in converting to text/content/drive/MyDrive/Colab Notebooks/code_challenge/HackNITP-21_audio_sentiment_analysis/TEST/176.wav...\n",
            "Error in converting to text/content/drive/MyDrive/Colab Notebooks/code_challenge/HackNITP-21_audio_sentiment_analysis/TEST/125.wav...\n",
            "executed /content/drive/MyDrive/Colab Notebooks/code_challenge/HackNITP-21_audio_sentiment_analysis/TEST/304.wav..\n",
            "Error in converting to text/content/drive/MyDrive/Colab Notebooks/code_challenge/HackNITP-21_audio_sentiment_analysis/TEST/98.wav...\n",
            "Error in converting to text/content/drive/MyDrive/Colab Notebooks/code_challenge/HackNITP-21_audio_sentiment_analysis/TEST/128.wav...\n",
            "executed /content/drive/MyDrive/Colab Notebooks/code_challenge/HackNITP-21_audio_sentiment_analysis/TEST/205.wav..\n",
            "Error in converting to text/content/drive/MyDrive/Colab Notebooks/code_challenge/HackNITP-21_audio_sentiment_analysis/TEST/296.wav...\n",
            "Error in converting to text/content/drive/MyDrive/Colab Notebooks/code_challenge/HackNITP-21_audio_sentiment_analysis/TEST/92.wav...\n",
            "executed /content/drive/MyDrive/Colab Notebooks/code_challenge/HackNITP-21_audio_sentiment_analysis/TEST/259.wav..\n",
            "executed /content/drive/MyDrive/Colab Notebooks/code_challenge/HackNITP-21_audio_sentiment_analysis/TEST/315.wav..\n",
            "executed /content/drive/MyDrive/Colab Notebooks/code_challenge/HackNITP-21_audio_sentiment_analysis/TEST/87.wav..\n",
            "executed /content/drive/MyDrive/Colab Notebooks/code_challenge/HackNITP-21_audio_sentiment_analysis/TEST/165.wav..\n",
            "executed /content/drive/MyDrive/Colab Notebooks/code_challenge/HackNITP-21_audio_sentiment_analysis/TEST/75.wav..\n",
            "Error in converting to text/content/drive/MyDrive/Colab Notebooks/code_challenge/HackNITP-21_audio_sentiment_analysis/TEST/257.wav...\n",
            "Error in converting to text/content/drive/MyDrive/Colab Notebooks/code_challenge/HackNITP-21_audio_sentiment_analysis/TEST/131.wav...\n",
            "executed /content/drive/MyDrive/Colab Notebooks/code_challenge/HackNITP-21_audio_sentiment_analysis/TEST/267.wav..\n",
            "executed /content/drive/MyDrive/Colab Notebooks/code_challenge/HackNITP-21_audio_sentiment_analysis/TEST/135.wav..\n",
            "executed /content/drive/MyDrive/Colab Notebooks/code_challenge/HackNITP-21_audio_sentiment_analysis/TEST/312.wav..\n",
            "executed /content/drive/MyDrive/Colab Notebooks/code_challenge/HackNITP-21_audio_sentiment_analysis/TEST/358.wav..\n",
            "executed /content/drive/MyDrive/Colab Notebooks/code_challenge/HackNITP-21_audio_sentiment_analysis/TEST/294.wav..\n",
            "Error in converting to text/content/drive/MyDrive/Colab Notebooks/code_challenge/HackNITP-21_audio_sentiment_analysis/TEST/206.wav...\n",
            "Error in converting to text/content/drive/MyDrive/Colab Notebooks/code_challenge/HackNITP-21_audio_sentiment_analysis/TEST/134.wav...\n",
            "Error in converting to text/content/drive/MyDrive/Colab Notebooks/code_challenge/HackNITP-21_audio_sentiment_analysis/TEST/185.wav...\n",
            "Error in converting to text/content/drive/MyDrive/Colab Notebooks/code_challenge/HackNITP-21_audio_sentiment_analysis/TEST/335.wav...\n",
            "executed /content/drive/MyDrive/Colab Notebooks/code_challenge/HackNITP-21_audio_sentiment_analysis/TEST/180.wav..\n",
            "executed /content/drive/MyDrive/Colab Notebooks/code_challenge/HackNITP-21_audio_sentiment_analysis/TEST/66.wav..\n",
            "executed /content/drive/MyDrive/Colab Notebooks/code_challenge/HackNITP-21_audio_sentiment_analysis/TEST/124.wav..\n",
            "Error in converting to text/content/drive/MyDrive/Colab Notebooks/code_challenge/HackNITP-21_audio_sentiment_analysis/TEST/65.wav...\n",
            "Error in converting to text/content/drive/MyDrive/Colab Notebooks/code_challenge/HackNITP-21_audio_sentiment_analysis/TEST/173.wav...\n",
            "Error in converting to text/content/drive/MyDrive/Colab Notebooks/code_challenge/HackNITP-21_audio_sentiment_analysis/TEST/143.wav...\n",
            "executed /content/drive/MyDrive/Colab Notebooks/code_challenge/HackNITP-21_audio_sentiment_analysis/TEST/13.wav..\n",
            "executed /content/drive/MyDrive/Colab Notebooks/code_challenge/HackNITP-21_audio_sentiment_analysis/TEST/348.wav..\n",
            "Error in converting to text/content/drive/MyDrive/Colab Notebooks/code_challenge/HackNITP-21_audio_sentiment_analysis/TEST/119.wav...\n",
            "executed /content/drive/MyDrive/Colab Notebooks/code_challenge/HackNITP-21_audio_sentiment_analysis/TEST/268.wav..\n",
            "executed /content/drive/MyDrive/Colab Notebooks/code_challenge/HackNITP-21_audio_sentiment_analysis/TEST/84.wav..\n",
            "executed /content/drive/MyDrive/Colab Notebooks/code_challenge/HackNITP-21_audio_sentiment_analysis/TEST/141.wav..\n",
            "Error in converting to text/content/drive/MyDrive/Colab Notebooks/code_challenge/HackNITP-21_audio_sentiment_analysis/TEST/23.wav...\n",
            "Error in converting to text/content/drive/MyDrive/Colab Notebooks/code_challenge/HackNITP-21_audio_sentiment_analysis/TEST/86.wav...\n",
            "executed /content/drive/MyDrive/Colab Notebooks/code_challenge/HackNITP-21_audio_sentiment_analysis/TEST/285.wav..\n",
            "executed /content/drive/MyDrive/Colab Notebooks/code_challenge/HackNITP-21_audio_sentiment_analysis/TEST/112.wav..\n",
            "Error in converting to text/content/drive/MyDrive/Colab Notebooks/code_challenge/HackNITP-21_audio_sentiment_analysis/TEST/95.wav...\n",
            "executed /content/drive/MyDrive/Colab Notebooks/code_challenge/HackNITP-21_audio_sentiment_analysis/TEST/19.wav..\n",
            "Error in converting to text/content/drive/MyDrive/Colab Notebooks/code_challenge/HackNITP-21_audio_sentiment_analysis/TEST/146.wav...\n",
            "executed /content/drive/MyDrive/Colab Notebooks/code_challenge/HackNITP-21_audio_sentiment_analysis/TEST/225.wav..\n",
            "executed /content/drive/MyDrive/Colab Notebooks/code_challenge/HackNITP-21_audio_sentiment_analysis/TEST/42.wav..\n",
            "executed /content/drive/MyDrive/Colab Notebooks/code_challenge/HackNITP-21_audio_sentiment_analysis/TEST/325.wav..\n",
            "executed /content/drive/MyDrive/Colab Notebooks/code_challenge/HackNITP-21_audio_sentiment_analysis/TEST/199.wav..\n",
            "executed /content/drive/MyDrive/Colab Notebooks/code_challenge/HackNITP-21_audio_sentiment_analysis/TEST/219.wav..\n",
            "executed /content/drive/MyDrive/Colab Notebooks/code_challenge/HackNITP-21_audio_sentiment_analysis/TEST/132.wav..\n",
            "executed /content/drive/MyDrive/Colab Notebooks/code_challenge/HackNITP-21_audio_sentiment_analysis/TEST/265.wav..\n",
            "executed /content/drive/MyDrive/Colab Notebooks/code_challenge/HackNITP-21_audio_sentiment_analysis/TEST/7.wav..\n",
            "executed /content/drive/MyDrive/Colab Notebooks/code_challenge/HackNITP-21_audio_sentiment_analysis/TEST/25.wav..\n",
            "executed /content/drive/MyDrive/Colab Notebooks/code_challenge/HackNITP-21_audio_sentiment_analysis/TEST/202.wav..\n",
            "executed /content/drive/MyDrive/Colab Notebooks/code_challenge/HackNITP-21_audio_sentiment_analysis/TEST/322.wav..\n",
            "executed /content/drive/MyDrive/Colab Notebooks/code_challenge/HackNITP-21_audio_sentiment_analysis/TEST/57.wav..\n",
            "Error in converting to text/content/drive/MyDrive/Colab Notebooks/code_challenge/HackNITP-21_audio_sentiment_analysis/TEST/239.wav...\n",
            "Error in converting to text/content/drive/MyDrive/Colab Notebooks/code_challenge/HackNITP-21_audio_sentiment_analysis/TEST/359.wav...\n",
            "Error in converting to text/content/drive/MyDrive/Colab Notebooks/code_challenge/HackNITP-21_audio_sentiment_analysis/TEST/41.wav...\n",
            "executed /content/drive/MyDrive/Colab Notebooks/code_challenge/HackNITP-21_audio_sentiment_analysis/TEST/178.wav..\n",
            "executed /content/drive/MyDrive/Colab Notebooks/code_challenge/HackNITP-21_audio_sentiment_analysis/TEST/34.wav..\n",
            "Error in converting to text/content/drive/MyDrive/Colab Notebooks/code_challenge/HackNITP-21_audio_sentiment_analysis/TEST/56.wav...\n",
            "Error in converting to text/content/drive/MyDrive/Colab Notebooks/code_challenge/HackNITP-21_audio_sentiment_analysis/TEST/338.wav...\n",
            "executed /content/drive/MyDrive/Colab Notebooks/code_challenge/HackNITP-21_audio_sentiment_analysis/TEST/94.wav..\n",
            "executed /content/drive/MyDrive/Colab Notebooks/code_challenge/HackNITP-21_audio_sentiment_analysis/TEST/351.wav..\n",
            "executed /content/drive/MyDrive/Colab Notebooks/code_challenge/HackNITP-21_audio_sentiment_analysis/TEST/277.wav..\n",
            "executed /content/drive/MyDrive/Colab Notebooks/code_challenge/HackNITP-21_audio_sentiment_analysis/TEST/298.wav..\n",
            "Error in converting to text/content/drive/MyDrive/Colab Notebooks/code_challenge/HackNITP-21_audio_sentiment_analysis/TEST/356.wav...\n",
            "Error in converting to text/content/drive/MyDrive/Colab Notebooks/code_challenge/HackNITP-21_audio_sentiment_analysis/TEST/26.wav...\n",
            "executed /content/drive/MyDrive/Colab Notebooks/code_challenge/HackNITP-21_audio_sentiment_analysis/TEST/130.wav..\n",
            "executed /content/drive/MyDrive/Colab Notebooks/code_challenge/HackNITP-21_audio_sentiment_analysis/TEST/51.wav..\n",
            "Error in converting to text/content/drive/MyDrive/Colab Notebooks/code_challenge/HackNITP-21_audio_sentiment_analysis/TEST/8.wav...\n",
            "Error in converting to text/content/drive/MyDrive/Colab Notebooks/code_challenge/HackNITP-21_audio_sentiment_analysis/TEST/152.wav...\n",
            "Error in converting to text/content/drive/MyDrive/Colab Notebooks/code_challenge/HackNITP-21_audio_sentiment_analysis/TEST/59.wav...\n",
            "executed /content/drive/MyDrive/Colab Notebooks/code_challenge/HackNITP-21_audio_sentiment_analysis/TEST/138.wav..\n",
            "Error in converting to text/content/drive/MyDrive/Colab Notebooks/code_challenge/HackNITP-21_audio_sentiment_analysis/TEST/320.wav...\n",
            "Error in converting to text/content/drive/MyDrive/Colab Notebooks/code_challenge/HackNITP-21_audio_sentiment_analysis/TEST/260.wav...\n",
            "executed /content/drive/MyDrive/Colab Notebooks/code_challenge/HackNITP-21_audio_sentiment_analysis/TEST/88.wav..\n",
            "executed /content/drive/MyDrive/Colab Notebooks/code_challenge/HackNITP-21_audio_sentiment_analysis/TEST/238.wav..\n",
            "executed /content/drive/MyDrive/Colab Notebooks/code_challenge/HackNITP-21_audio_sentiment_analysis/TEST/345.wav..\n",
            "Error in converting to text/content/drive/MyDrive/Colab Notebooks/code_challenge/HackNITP-21_audio_sentiment_analysis/TEST/35.wav...\n",
            "executed /content/drive/MyDrive/Colab Notebooks/code_challenge/HackNITP-21_audio_sentiment_analysis/TEST/360.wav..\n",
            "executed /content/drive/MyDrive/Colab Notebooks/code_challenge/HackNITP-21_audio_sentiment_analysis/TEST/309.wav..\n",
            "Error in converting to text/content/drive/MyDrive/Colab Notebooks/code_challenge/HackNITP-21_audio_sentiment_analysis/TEST/326.wav...\n",
            "executed /content/drive/MyDrive/Colab Notebooks/code_challenge/HackNITP-21_audio_sentiment_analysis/TEST/142.wav..\n",
            "executed /content/drive/MyDrive/Colab Notebooks/code_challenge/HackNITP-21_audio_sentiment_analysis/TEST/115.wav..\n",
            "Error in converting to text/content/drive/MyDrive/Colab Notebooks/code_challenge/HackNITP-21_audio_sentiment_analysis/TEST/290.wav...\n",
            "executed /content/drive/MyDrive/Colab Notebooks/code_challenge/HackNITP-21_audio_sentiment_analysis/TEST/4.wav..\n",
            "executed /content/drive/MyDrive/Colab Notebooks/code_challenge/HackNITP-21_audio_sentiment_analysis/TEST/45.wav..\n",
            "executed /content/drive/MyDrive/Colab Notebooks/code_challenge/HackNITP-21_audio_sentiment_analysis/TEST/72.wav..\n",
            "Error in converting to text/content/drive/MyDrive/Colab Notebooks/code_challenge/HackNITP-21_audio_sentiment_analysis/TEST/212.wav...\n",
            "executed /content/drive/MyDrive/Colab Notebooks/code_challenge/HackNITP-21_audio_sentiment_analysis/TEST/213.wav..\n",
            "executed /content/drive/MyDrive/Colab Notebooks/code_challenge/HackNITP-21_audio_sentiment_analysis/TEST/33.wav..\n",
            "executed /content/drive/MyDrive/Colab Notebooks/code_challenge/HackNITP-21_audio_sentiment_analysis/TEST/175.wav..\n"
          ],
          "name": "stdout"
        }
      ]
    },
    {
      "cell_type": "code",
      "metadata": {
        "colab": {
          "base_uri": "https://localhost:8080/",
          "height": 356
        },
        "id": "hXpwVhkye7Xk",
        "outputId": "404888ab-119e-496f-aa34-203ea3e10c0e"
      },
      "source": [
        "data_test=pd.DataFrame({'Filename': os.listdir(\"/content/drive/MyDrive/Colab Notebooks/code_challenge/HackNITP-21_audio_sentiment_analysis/TEST\"), 'text': test_list})\r\n",
        "data_test.head(10)"
      ],
      "execution_count": 19,
      "outputs": [
        {
          "output_type": "execute_result",
          "data": {
            "text/html": [
              "<div>\n",
              "<style scoped>\n",
              "    .dataframe tbody tr th:only-of-type {\n",
              "        vertical-align: middle;\n",
              "    }\n",
              "\n",
              "    .dataframe tbody tr th {\n",
              "        vertical-align: top;\n",
              "    }\n",
              "\n",
              "    .dataframe thead th {\n",
              "        text-align: right;\n",
              "    }\n",
              "</style>\n",
              "<table border=\"1\" class=\"dataframe\">\n",
              "  <thead>\n",
              "    <tr style=\"text-align: right;\">\n",
              "      <th></th>\n",
              "      <th>Filename</th>\n",
              "      <th>text</th>\n",
              "    </tr>\n",
              "  </thead>\n",
              "  <tbody>\n",
              "    <tr>\n",
              "      <th>0</th>\n",
              "      <td>157.wav</td>\n",
              "      <td>you should be more responsive</td>\n",
              "    </tr>\n",
              "    <tr>\n",
              "      <th>1</th>\n",
              "      <td>61.wav</td>\n",
              "      <td>your answers are absolutely correct</td>\n",
              "    </tr>\n",
              "    <tr>\n",
              "      <th>2</th>\n",
              "      <td>136.wav</td>\n",
              "      <td>that sounds great but please tell me more on this</td>\n",
              "    </tr>\n",
              "    <tr>\n",
              "      <th>3</th>\n",
              "      <td>341.wav</td>\n",
              "      <td></td>\n",
              "    </tr>\n",
              "    <tr>\n",
              "      <th>4</th>\n",
              "      <td>300.wav</td>\n",
              "      <td>you are totally careless person</td>\n",
              "    </tr>\n",
              "    <tr>\n",
              "      <th>5</th>\n",
              "      <td>27.wav</td>\n",
              "      <td>wow wonderful explanation</td>\n",
              "    </tr>\n",
              "    <tr>\n",
              "      <th>6</th>\n",
              "      <td>249.wav</td>\n",
              "      <td>no one likes to talk with you</td>\n",
              "    </tr>\n",
              "    <tr>\n",
              "      <th>7</th>\n",
              "      <td>81.wav</td>\n",
              "      <td>you are very responsible person</td>\n",
              "    </tr>\n",
              "    <tr>\n",
              "      <th>8</th>\n",
              "      <td>311.wav</td>\n",
              "      <td></td>\n",
              "    </tr>\n",
              "    <tr>\n",
              "      <th>9</th>\n",
              "      <td>15.wav</td>\n",
              "      <td>I like your attitude</td>\n",
              "    </tr>\n",
              "  </tbody>\n",
              "</table>\n",
              "</div>"
            ],
            "text/plain": [
              "  Filename                                               text\n",
              "0  157.wav                      you should be more responsive\n",
              "1   61.wav                your answers are absolutely correct\n",
              "2  136.wav  that sounds great but please tell me more on this\n",
              "3  341.wav                                                   \n",
              "4  300.wav                    you are totally careless person\n",
              "5   27.wav                          wow wonderful explanation\n",
              "6  249.wav                      no one likes to talk with you\n",
              "7   81.wav                    you are very responsible person\n",
              "8  311.wav                                                   \n",
              "9   15.wav                               I like your attitude"
            ]
          },
          "metadata": {
            "tags": []
          },
          "execution_count": 19
        }
      ]
    },
    {
      "cell_type": "code",
      "metadata": {
        "colab": {
          "base_uri": "https://localhost:8080/"
        },
        "id": "zLzWY6fNe7TG",
        "outputId": "9f321618-2349-42d1-93a8-c8d9230efa64"
      },
      "source": [
        "x_test=data_test.iloc[:,-1].values\r\n",
        "x_test[:10]"
      ],
      "execution_count": 20,
      "outputs": [
        {
          "output_type": "execute_result",
          "data": {
            "text/plain": [
              "array(['you should be more responsive',\n",
              "       'your answers are absolutely correct',\n",
              "       'that sounds great but please tell me more on this', '',\n",
              "       'you are totally careless person', 'wow wonderful explanation',\n",
              "       'no one likes to talk with you', 'you are very responsible person',\n",
              "       '', 'I like your attitude'], dtype=object)"
            ]
          },
          "metadata": {
            "tags": []
          },
          "execution_count": 20
        }
      ]
    },
    {
      "cell_type": "code",
      "metadata": {
        "id": "-EiCVLAZe7PE"
      },
      "source": [
        "#prediction"
      ],
      "execution_count": 21,
      "outputs": []
    },
    {
      "cell_type": "code",
      "metadata": {
        "colab": {
          "base_uri": "https://localhost:8080/"
        },
        "id": "o354PBVCe7EO",
        "outputId": "f44f550e-e285-4f8f-e4a2-6c739f69ce62"
      },
      "source": [
        "from sklearn.metrics import confusion_matrix\r\n",
        "predictions = model.predict(x_test)\r\n",
        "print(len(predictions))\r\n",
        "print(\"prediction\", predictions[:10])"
      ],
      "execution_count": 22,
      "outputs": [
        {
          "output_type": "stream",
          "text": [
            "110\n",
            "prediction ['Neutral' 'Positive' 'Neutral' 'Negative' 'Negative' 'Positive'\n",
            " 'Negative' 'Positive' 'Negative' 'Positive']\n"
          ],
          "name": "stdout"
        }
      ]
    },
    {
      "cell_type": "code",
      "metadata": {
        "id": "L6mCPZEDn2oo"
      },
      "source": [
        "#submission"
      ],
      "execution_count": 23,
      "outputs": []
    },
    {
      "cell_type": "code",
      "metadata": {
        "id": "peKLzQL9n2j0"
      },
      "source": [
        "submission= pd.DataFrame({'Filename': os.listdir('/content/drive/MyDrive/Colab Notebooks/code_challenge/HackNITP-21_audio_sentiment_analysis/TEST'), 'Class': predictions})\r\n",
        "submission.to_csv('/content/drive/MyDrive/Colab Notebooks/code_challenge/HackNITP-21_audio_sentiment_analysis/output_final.csv', index=False)"
      ],
      "execution_count": 24,
      "outputs": []
    },
    {
      "cell_type": "code",
      "metadata": {
        "colab": {
          "base_uri": "https://localhost:8080/",
          "height": 356
        },
        "id": "fZ_VLy93oVZV",
        "outputId": "02a438f9-ee3b-4081-ec9b-c9a829e613ec"
      },
      "source": [
        "sub_csv =pd.read_csv('/content/drive/MyDrive/Colab Notebooks/code_challenge/HackNITP-21_audio_sentiment_analysis/output_final.csv')\r\n",
        "sub_csv.head(10)"
      ],
      "execution_count": 25,
      "outputs": [
        {
          "output_type": "execute_result",
          "data": {
            "text/html": [
              "<div>\n",
              "<style scoped>\n",
              "    .dataframe tbody tr th:only-of-type {\n",
              "        vertical-align: middle;\n",
              "    }\n",
              "\n",
              "    .dataframe tbody tr th {\n",
              "        vertical-align: top;\n",
              "    }\n",
              "\n",
              "    .dataframe thead th {\n",
              "        text-align: right;\n",
              "    }\n",
              "</style>\n",
              "<table border=\"1\" class=\"dataframe\">\n",
              "  <thead>\n",
              "    <tr style=\"text-align: right;\">\n",
              "      <th></th>\n",
              "      <th>Filename</th>\n",
              "      <th>Class</th>\n",
              "    </tr>\n",
              "  </thead>\n",
              "  <tbody>\n",
              "    <tr>\n",
              "      <th>0</th>\n",
              "      <td>157.wav</td>\n",
              "      <td>Neutral</td>\n",
              "    </tr>\n",
              "    <tr>\n",
              "      <th>1</th>\n",
              "      <td>61.wav</td>\n",
              "      <td>Positive</td>\n",
              "    </tr>\n",
              "    <tr>\n",
              "      <th>2</th>\n",
              "      <td>136.wav</td>\n",
              "      <td>Neutral</td>\n",
              "    </tr>\n",
              "    <tr>\n",
              "      <th>3</th>\n",
              "      <td>341.wav</td>\n",
              "      <td>Negative</td>\n",
              "    </tr>\n",
              "    <tr>\n",
              "      <th>4</th>\n",
              "      <td>300.wav</td>\n",
              "      <td>Negative</td>\n",
              "    </tr>\n",
              "    <tr>\n",
              "      <th>5</th>\n",
              "      <td>27.wav</td>\n",
              "      <td>Positive</td>\n",
              "    </tr>\n",
              "    <tr>\n",
              "      <th>6</th>\n",
              "      <td>249.wav</td>\n",
              "      <td>Negative</td>\n",
              "    </tr>\n",
              "    <tr>\n",
              "      <th>7</th>\n",
              "      <td>81.wav</td>\n",
              "      <td>Positive</td>\n",
              "    </tr>\n",
              "    <tr>\n",
              "      <th>8</th>\n",
              "      <td>311.wav</td>\n",
              "      <td>Negative</td>\n",
              "    </tr>\n",
              "    <tr>\n",
              "      <th>9</th>\n",
              "      <td>15.wav</td>\n",
              "      <td>Positive</td>\n",
              "    </tr>\n",
              "  </tbody>\n",
              "</table>\n",
              "</div>"
            ],
            "text/plain": [
              "  Filename     Class\n",
              "0  157.wav   Neutral\n",
              "1   61.wav  Positive\n",
              "2  136.wav   Neutral\n",
              "3  341.wav  Negative\n",
              "4  300.wav  Negative\n",
              "5   27.wav  Positive\n",
              "6  249.wav  Negative\n",
              "7   81.wav  Positive\n",
              "8  311.wav  Negative\n",
              "9   15.wav  Positive"
            ]
          },
          "metadata": {
            "tags": []
          },
          "execution_count": 25
        }
      ]
    },
    {
      "cell_type": "code",
      "metadata": {
        "id": "b351jAR7XmK-"
      },
      "source": [
        "#testing training model accuracy"
      ],
      "execution_count": null,
      "outputs": []
    },
    {
      "cell_type": "code",
      "metadata": {
        "id": "2Jw3sUQtXquH"
      },
      "source": [
        "from sklearn.model_selection import train_test_split\r\n",
        "\r\n",
        "Xtrain,Xtest,Ytrain,Ytest = train_test_split(x,y,test_size = 0.3,random_state=20)\r\n"
      ],
      "execution_count": 50,
      "outputs": []
    },
    {
      "cell_type": "code",
      "metadata": {
        "colab": {
          "base_uri": "https://localhost:8080/"
        },
        "id": "F_ci6TBTof0o",
        "outputId": "2673330a-77ff-4554-faf8-1aeaa0a3889d"
      },
      "source": [
        "from sklearn.feature_extraction.text import TfidfVectorizer\r\n",
        "from sklearn.linear_model import SGDClassifier\r\n",
        "from sklearn.svm import LinearSVC\r\n",
        "from lightgbm import LGBMClassifier\r\n",
        "from sklearn.naive_bayes import MultinomialNB, BernoulliNB\r\n",
        "from sklearn.linear_model import LogisticRegression, SGDClassifier\r\n",
        "from sklearn.ensemble import RandomForestClassifier, GradientBoostingClassifier\r\n",
        "from xgboost import XGBClassifier\r\n",
        "from sklearn.model_selection import KFold\r\n",
        "from sklearn.model_selection import cross_val_score\r\n",
        "\r\n",
        "\r\n",
        "tfidf =TfidfVectorizer()\r\n",
        "lsvc =LinearSVC()\r\n",
        "sgd =SGDClassifier()\r\n",
        "lgbm = LGBMClassifier()\r\n",
        "xgb = XGBClassifier()\r\n",
        "rfc =RandomForestClassifier()\r\n",
        "logr =LogisticRegression()\r\n",
        "mnb =MultinomialNB()\r\n",
        "bnb =BernoulliNB()\r\n",
        "\r\n",
        "#model pipeline\r\n",
        "from sklearn.pipeline import Pipeline\r\n",
        "model_train_lsvc = Pipeline([('vectorizer',tfidf),('classifier',lsvc)])\r\n",
        "model_train_sgd = Pipeline([('vectorizer',tfidf),('classifier',sgd)])\r\n",
        "model_train_lgbm = Pipeline([('vectorizer',tfidf),('classifier',lgbm)])\r\n",
        "model_train_xgb = Pipeline([('vectorizer',tfidf),('classifier',xgb)])\r\n",
        "model_train_rfc = Pipeline([('vectorizer',tfidf),('classifier',rfc)])\r\n",
        "model_train_logr = Pipeline([('vectorizer',tfidf),('classifier',logr)])\r\n",
        "model_train_mnb = Pipeline([('vectorizer',tfidf),('classifier',mnb)])\r\n",
        "model_train_bnb = Pipeline([('vectorizer',tfidf),('classifier',bnb)])\r\n",
        "\r\n",
        "#fit model\r\n",
        "model_train_lsvc.fit(Xtrain,Ytrain)\r\n",
        "model_train_sgd.fit(Xtrain,Ytrain)\r\n",
        "model_train_lgbm.fit(Xtrain,Ytrain)\r\n",
        "model_train_xgb.fit(Xtrain,Ytrain)\r\n",
        "model_train_rfc.fit(Xtrain,Ytrain)\r\n",
        "model_train_logr.fit(Xtrain,Ytrain)\r\n",
        "model_train_mnb.fit(Xtrain,Ytrain)\r\n",
        "model_train_bnb.fit(Xtrain,Ytrain)\r\n"
      ],
      "execution_count": 51,
      "outputs": [
        {
          "output_type": "execute_result",
          "data": {
            "text/plain": [
              "Pipeline(memory=None,\n",
              "         steps=[('vectorizer',\n",
              "                 TfidfVectorizer(analyzer='word', binary=False,\n",
              "                                 decode_error='strict',\n",
              "                                 dtype=<class 'numpy.float64'>,\n",
              "                                 encoding='utf-8', input='content',\n",
              "                                 lowercase=True, max_df=1.0, max_features=None,\n",
              "                                 min_df=1, ngram_range=(1, 1), norm='l2',\n",
              "                                 preprocessor=None, smooth_idf=True,\n",
              "                                 stop_words=None, strip_accents=None,\n",
              "                                 sublinear_tf=False,\n",
              "                                 token_pattern='(?u)\\\\b\\\\w\\\\w+\\\\b',\n",
              "                                 tokenizer=None, use_idf=True,\n",
              "                                 vocabulary=None)),\n",
              "                ('classifier',\n",
              "                 BernoulliNB(alpha=1.0, binarize=0.0, class_prior=None,\n",
              "                             fit_prior=True))],\n",
              "         verbose=False)"
            ]
          },
          "metadata": {
            "tags": []
          },
          "execution_count": 51
        }
      ]
    },
    {
      "cell_type": "code",
      "metadata": {
        "id": "6jlQbGYGk0nA"
      },
      "source": [
        "predict_train_lsvc =model_train_lsvc.predict(Xtest)\r\n",
        "predict_train_sgd =model_train_sgd.predict(Xtest)\r\n",
        "predict_train_lgbm =model_train_lgbm.predict(Xtest)\r\n",
        "predict_train_xgb =model_train_xgb.predict(Xtest)\r\n",
        "predict_train_rfc =model_train_rfc.predict(Xtest)\r\n",
        "predict_train_logr =model_train_logr.predict(Xtest)\r\n",
        "predict_train_mnb =model_train_mnb.predict(Xtest)\r\n",
        "predict_train_bnb =model_train_bnb.predict(Xtest)\r\n",
        "\r\n"
      ],
      "execution_count": 52,
      "outputs": []
    },
    {
      "cell_type": "code",
      "metadata": {
        "colab": {
          "base_uri": "https://localhost:8080/"
        },
        "id": "Dlqi3cnSQSSM",
        "outputId": "77a249fe-7ad6-4c51-bf4d-7e4866f31bef"
      },
      "source": [
        "from sklearn.metrics import accuracy_score\r\n",
        "print(\"lsvc : \", accuracy_score(Ytest,predict_train_lsvc))\r\n",
        "print(\"sgd : \", accuracy_score(Ytest,predict_train_sgd))\r\n",
        "print(\"lgbm : \", accuracy_score(Ytest,predict_train_lgbm))\r\n",
        "print(\"xgb : \", accuracy_score(Ytest,predict_train_xgb))\r\n",
        "print(\"rfc : \", accuracy_score(Ytest,predict_train_rfc))\r\n",
        "print(\"logr : \", accuracy_score(Ytest,predict_train_logr))\r\n",
        "print(\"mnb : \", accuracy_score(Ytest,predict_train_mnb))\r\n",
        "print(\"bnb : \", accuracy_score(Ytest,predict_train_bnb))"
      ],
      "execution_count": 53,
      "outputs": [
        {
          "output_type": "stream",
          "text": [
            "lsvc :  0.6666666666666666\n",
            "sgd :  0.68\n",
            "lgbm :  0.4666666666666667\n",
            "xgb :  0.6266666666666667\n",
            "rfc :  0.6933333333333334\n",
            "logr :  0.68\n",
            "mnb :  0.6533333333333333\n",
            "bnb :  0.6266666666666667\n"
          ],
          "name": "stdout"
        }
      ]
    },
    {
      "cell_type": "code",
      "metadata": {
        "id": "cEyHw-QfZqUG"
      },
      "source": [
        "#random forest classifier have good accuracy"
      ],
      "execution_count": null,
      "outputs": []
    }
  ]
}